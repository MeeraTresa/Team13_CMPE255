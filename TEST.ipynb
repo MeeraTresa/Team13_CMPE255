{
 "cells": [
  {
   "cell_type": "code",
   "execution_count": 2,
   "id": "d8c7deea",
   "metadata": {},
   "outputs": [],
   "source": [
    "#importing necessary libraries and the dataset\n",
    "import pandas as pd, numpy as np, matplotlib.pyplot as plt, seaborn as sns\n",
    "from sklearn.preprocessing import StandardScaler\n",
    "from kmodes.kprototypes import KPrototypes\n",
    "from sklearn.metrics import silhouette_score\n",
    "from mpl_toolkits.mplot3d import Axes3D\n",
    "import matplotlib.patches as mpatches\n",
    "%matplotlib inline\n",
    "\n",
    "CleanDataset = 'data_cleaned.csv'\n",
    "Data_Cleaned = pd.read_csv(CleanDataset, index_col = 'InvoiceDate')\n",
    "Data_Cleaned.index = pd.to_datetime(Data_Cleaned.index, format = '%Y-%m-%d %H:%M')"
   ]
  },
  {
   "cell_type": "code",
   "execution_count": 3,
   "id": "d144fe78",
   "metadata": {},
   "outputs": [
    {
     "data": {
      "text/html": [
       "<div>\n",
       "<style scoped>\n",
       "    .dataframe tbody tr th:only-of-type {\n",
       "        vertical-align: middle;\n",
       "    }\n",
       "\n",
       "    .dataframe tbody tr th {\n",
       "        vertical-align: top;\n",
       "    }\n",
       "\n",
       "    .dataframe thead th {\n",
       "        text-align: right;\n",
       "    }\n",
       "</style>\n",
       "<table border=\"1\" class=\"dataframe\">\n",
       "  <thead>\n",
       "    <tr style=\"text-align: right;\">\n",
       "      <th></th>\n",
       "      <th>CustomerID</th>\n",
       "      <th>UK?</th>\n",
       "      <th>Average Quantity</th>\n",
       "      <th>Average Price</th>\n",
       "      <th>Repeats</th>\n",
       "      <th>Product Variety</th>\n",
       "    </tr>\n",
       "  </thead>\n",
       "  <tbody>\n",
       "    <tr>\n",
       "      <th>0</th>\n",
       "      <td>17850.0</td>\n",
       "      <td>UK</td>\n",
       "      <td>5.513158</td>\n",
       "      <td>3.740428</td>\n",
       "      <td>35</td>\n",
       "      <td>24</td>\n",
       "    </tr>\n",
       "    <tr>\n",
       "      <th>1</th>\n",
       "      <td>13047.0</td>\n",
       "      <td>UK</td>\n",
       "      <td>6.984536</td>\n",
       "      <td>4.016289</td>\n",
       "      <td>16</td>\n",
       "      <td>105</td>\n",
       "    </tr>\n",
       "    <tr>\n",
       "      <th>2</th>\n",
       "      <td>12583.0</td>\n",
       "      <td>non-UK</td>\n",
       "      <td>21.182979</td>\n",
       "      <td>2.182894</td>\n",
       "      <td>17</td>\n",
       "      <td>116</td>\n",
       "    </tr>\n",
       "    <tr>\n",
       "      <th>3</th>\n",
       "      <td>13748.0</td>\n",
       "      <td>UK</td>\n",
       "      <td>15.678571</td>\n",
       "      <td>4.053571</td>\n",
       "      <td>5</td>\n",
       "      <td>24</td>\n",
       "    </tr>\n",
       "    <tr>\n",
       "      <th>4</th>\n",
       "      <td>15100.0</td>\n",
       "      <td>UK</td>\n",
       "      <td>9.666667</td>\n",
       "      <td>12.750000</td>\n",
       "      <td>6</td>\n",
       "      <td>1</td>\n",
       "    </tr>\n",
       "  </tbody>\n",
       "</table>\n",
       "</div>"
      ],
      "text/plain": [
       "   CustomerID     UK?  Average Quantity  Average Price  Repeats  \\\n",
       "0     17850.0      UK          5.513158       3.740428       35   \n",
       "1     13047.0      UK          6.984536       4.016289       16   \n",
       "2     12583.0  non-UK         21.182979       2.182894       17   \n",
       "3     13748.0      UK         15.678571       4.053571        5   \n",
       "4     15100.0      UK          9.666667      12.750000        6   \n",
       "\n",
       "   Product Variety  \n",
       "0               24  \n",
       "1              105  \n",
       "2              116  \n",
       "3               24  \n",
       "4                1  "
      ]
     },
     "execution_count": 3,
     "metadata": {},
     "output_type": "execute_result"
    }
   ],
   "source": [
    "Data = Data_Cleaned.copy()\n",
    "Data['Country'] = Data['Country'].map(lambda x: 'UK' if x=='UNITED KINGDOM' else 'non-UK')\n",
    "CustomerData = Data.groupby(['CustomerID','Country'], sort=False).agg({'Quantity':'mean','UnitPrice':'mean','InvoiceNo':'nunique','Description':'nunique'})\n",
    "CustomerData.reset_index(inplace=True)\n",
    "CustomerData.columns = ['CustomerID', 'UK?', 'Average Quantity', 'Average Price', 'Repeats', 'Product Variety']\n",
    "CustomerData.head()"
   ]
  },
  {
   "cell_type": "code",
   "execution_count": 5,
   "id": "59e3b2ff",
   "metadata": {},
   "outputs": [],
   "source": [
    "#scaling the numerical features for clustering\n",
    "Scaler = StandardScaler()\n",
    "CustomerData.iloc[:,2:] = Scaler.fit_transform(CustomerData.iloc[:,2:])\n",
    "syms = CustomerData.iloc[:,0].values.astype(str)\n",
    "X = CustomerData.iloc[:,1:].values.astype(object)"
   ]
  },
  {
   "cell_type": "code",
   "execution_count": 6,
   "id": "03a898f4",
   "metadata": {},
   "outputs": [
    {
     "name": "stdout",
     "output_type": "stream",
     "text": [
      "Cluster Centers:\n",
      " [['-0.07704860211195202' '0.023470766180950592' '-0.16440775957959944'\n",
      "  '-0.18651333298636238' 'UK']\n",
      " ['-0.06351092657884302' '-0.17422922685289516' '1.9072199403263699'\n",
      "  '2.2375751060578195' 'UK']\n",
      " ['8.62114966511616' '-0.8840143724917177' '0.011304893142306713'\n",
      "  '-0.6524409030503906' 'UK']]\n"
     ]
    }
   ],
   "source": [
    "kproto = KPrototypes(n_clusters = 3, init = 'Cao')\n",
    "clusters = kproto.fit_predict(X, categorical = [0])\n",
    "print('Cluster Centers:\\n', kproto.cluster_centroids_)"
   ]
  },
  {
   "cell_type": "code",
   "execution_count": 7,
   "id": "a615c943",
   "metadata": {},
   "outputs": [
    {
     "name": "stdout",
     "output_type": "stream",
     "text": [
      "Cluster  UK?   \n",
      "0        UK        3588\n",
      "         non-UK     382\n",
      "1        UK         307\n",
      "         non-UK      35\n",
      "2        UK          35\n",
      "         non-UK       3\n",
      "Name: Repeats, dtype: int64 \n",
      "\n",
      "\n",
      "\n",
      "                Average Quantity  Average Price    Repeats  Product Variety\n",
      "Cluster UK?                                                                \n",
      "0       UK             13.127527       3.116832   3.499443        45.214047\n",
      "        non-UK         14.734203       3.051530   3.374346        47.858639\n",
      "1       UK             13.389770       2.827273  21.850163       249.263844\n",
      "        non-UK         17.782164       2.855736  25.771429       292.485714\n",
      "2       UK            369.849336       1.852343   5.400000         5.600000\n",
      "        non-UK        387.809524       1.488571   1.333333         3.666667\n"
     ]
    },
    {
     "name": "stderr",
     "output_type": "stream",
     "text": [
      "/var/folders/g3/5zm39pnx1914hst9rk62xd8r0000gn/T/ipykernel_26166/3272639819.py:7: FutureWarning: The default value of numeric_only in DataFrameGroupBy.mean is deprecated. In a future version, numeric_only will default to False. Either specify numeric_only or select only columns which should be valid for the function.\n",
      "  print(Clustered.groupby(['Cluster','UK?']).mean())\n"
     ]
    }
   ],
   "source": [
    "#scaling back to original values and retrieving all attributes\n",
    "Clustered = pd.DataFrame(data=Scaler.inverse_transform(CustomerData.iloc[:,2:]),columns=['Average Quantity', 'Average Price', 'Repeats', 'Product Variety'])\n",
    "Clustered['UK?'] = X[:,0]\n",
    "Clustered['CustomerID'] = syms\n",
    "Clustered['Cluster'] = clusters\n",
    "print(Clustered.groupby(['Cluster','UK?']).count()['Repeats'],'\\n\\n\\n')\n",
    "print(Clustered.groupby(['Cluster','UK?']).mean())"
   ]
  },
  {
   "cell_type": "code",
   "execution_count": null,
   "id": "94d77a4c",
   "metadata": {},
   "outputs": [],
   "source": []
  }
 ],
 "metadata": {
  "kernelspec": {
   "display_name": "Python 3 (ipykernel)",
   "language": "python",
   "name": "python3"
  },
  "language_info": {
   "codemirror_mode": {
    "name": "ipython",
    "version": 3
   },
   "file_extension": ".py",
   "mimetype": "text/x-python",
   "name": "python",
   "nbconvert_exporter": "python",
   "pygments_lexer": "ipython3",
   "version": "3.10.8"
  }
 },
 "nbformat": 4,
 "nbformat_minor": 5
}
