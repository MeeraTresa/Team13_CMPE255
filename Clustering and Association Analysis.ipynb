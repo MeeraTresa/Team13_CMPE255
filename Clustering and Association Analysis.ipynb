{
 "cells": [
  {
   "cell_type": "code",
   "execution_count": 4,
   "id": "283aafce-18a5-46a3-beb4-20cdef64506d",
   "metadata": {},
   "outputs": [],
   "source": [
    "import pandas as pd\n",
    "import numpy as np\n",
    "import matplotlib.pyplot as plt\n",
    "import seaborn as sns\n",
    "from sklearn.preprocessing import StandardScaler\n",
    "from kmodes.kprototypes import KPrototypes\n",
    "from sklearn.metrics import silhouette_score"
   ]
  },
  {
   "cell_type": "code",
   "execution_count": 5,
   "id": "8195b965-32fd-474b-aac2-6ef96464758b",
   "metadata": {},
   "outputs": [],
   "source": [
    "data = pd.read_csv('data_cleaned.csv',index_col = 'InvoiceDate')"
   ]
  },
  {
   "cell_type": "code",
   "execution_count": 6,
   "id": "33a00c69-4a1f-401a-b1d8-284d961855ad",
   "metadata": {},
   "outputs": [],
   "source": [
    "data.index = pd.to_datetime(data.index, format = '%Y-%m-%d %H:%M')"
   ]
  },
  {
   "cell_type": "code",
   "execution_count": 7,
   "id": "f2a326d2-918e-4ce4-a620-01f82a3056aa",
   "metadata": {},
   "outputs": [
    {
     "name": "stdout",
     "output_type": "stream",
     "text": [
      "<class 'pandas.core.frame.DataFrame'>\n",
      "DatetimeIndex: 532820 entries, 2010-12-01 08:26:00 to 2011-12-09 12:50:00\n",
      "Data columns (total 10 columns):\n",
      " #   Column        Non-Null Count   Dtype  \n",
      "---  ------        --------------   -----  \n",
      " 0   InvoiceNo     532820 non-null  object \n",
      " 1   StockCode     532820 non-null  object \n",
      " 2   Description   532820 non-null  object \n",
      " 3   Quantity      532820 non-null  int64  \n",
      " 4   UnitPrice     532820 non-null  float64\n",
      " 5   CustomerID    403890 non-null  float64\n",
      " 6   Country       532820 non-null  object \n",
      " 7   FinalPrice    532820 non-null  float64\n",
      " 8   InvoiceMonth  532820 non-null  object \n",
      " 9   Day of week   532820 non-null  object \n",
      "dtypes: float64(3), int64(1), object(6)\n",
      "memory usage: 44.7+ MB\n"
     ]
    }
   ],
   "source": [
    "data.info()"
   ]
  },
  {
   "cell_type": "code",
   "execution_count": 6,
   "id": "bcf50457-21b7-4c98-a821-2ad37521e6d8",
   "metadata": {},
   "outputs": [
    {
     "data": {
      "text/html": [
       "<div>\n",
       "<style scoped>\n",
       "    .dataframe tbody tr th:only-of-type {\n",
       "        vertical-align: middle;\n",
       "    }\n",
       "\n",
       "    .dataframe tbody tr th {\n",
       "        vertical-align: top;\n",
       "    }\n",
       "\n",
       "    .dataframe thead th {\n",
       "        text-align: right;\n",
       "    }\n",
       "</style>\n",
       "<table border=\"1\" class=\"dataframe\">\n",
       "  <thead>\n",
       "    <tr style=\"text-align: right;\">\n",
       "      <th></th>\n",
       "      <th>InvoiceNo</th>\n",
       "      <th>StockCode</th>\n",
       "      <th>Description</th>\n",
       "      <th>Quantity</th>\n",
       "      <th>UnitPrice</th>\n",
       "      <th>CustomerID</th>\n",
       "      <th>Country</th>\n",
       "      <th>FinalPrice</th>\n",
       "      <th>InvoiceMonth</th>\n",
       "      <th>Day of week</th>\n",
       "    </tr>\n",
       "    <tr>\n",
       "      <th>InvoiceDate</th>\n",
       "      <th></th>\n",
       "      <th></th>\n",
       "      <th></th>\n",
       "      <th></th>\n",
       "      <th></th>\n",
       "      <th></th>\n",
       "      <th></th>\n",
       "      <th></th>\n",
       "      <th></th>\n",
       "      <th></th>\n",
       "    </tr>\n",
       "  </thead>\n",
       "  <tbody>\n",
       "    <tr>\n",
       "      <th>2010-12-01 08:26:00</th>\n",
       "      <td>536365</td>\n",
       "      <td>85123A</td>\n",
       "      <td>WHITE HANGING HEART T-LIGHT HOLDER</td>\n",
       "      <td>6</td>\n",
       "      <td>2.95</td>\n",
       "      <td>17850.0</td>\n",
       "      <td>UNITED KINGDOM</td>\n",
       "      <td>17.7</td>\n",
       "      <td>December</td>\n",
       "      <td>Wednesday</td>\n",
       "    </tr>\n",
       "    <tr>\n",
       "      <th>2010-12-01 08:26:00</th>\n",
       "      <td>536365</td>\n",
       "      <td>71053</td>\n",
       "      <td>WHITE METAL LANTERN</td>\n",
       "      <td>6</td>\n",
       "      <td>3.75</td>\n",
       "      <td>17850.0</td>\n",
       "      <td>UNITED KINGDOM</td>\n",
       "      <td>22.5</td>\n",
       "      <td>December</td>\n",
       "      <td>Wednesday</td>\n",
       "    </tr>\n",
       "    <tr>\n",
       "      <th>2010-12-01 08:26:00</th>\n",
       "      <td>536365</td>\n",
       "      <td>84406B</td>\n",
       "      <td>CREAM CUPID HEARTS COAT HANGER</td>\n",
       "      <td>8</td>\n",
       "      <td>4.15</td>\n",
       "      <td>17850.0</td>\n",
       "      <td>UNITED KINGDOM</td>\n",
       "      <td>33.2</td>\n",
       "      <td>December</td>\n",
       "      <td>Wednesday</td>\n",
       "    </tr>\n",
       "    <tr>\n",
       "      <th>2010-12-01 08:26:00</th>\n",
       "      <td>536365</td>\n",
       "      <td>84029G</td>\n",
       "      <td>KNITTED UNION FLAG HOT WATER BOTTLE</td>\n",
       "      <td>6</td>\n",
       "      <td>3.75</td>\n",
       "      <td>17850.0</td>\n",
       "      <td>UNITED KINGDOM</td>\n",
       "      <td>22.5</td>\n",
       "      <td>December</td>\n",
       "      <td>Wednesday</td>\n",
       "    </tr>\n",
       "    <tr>\n",
       "      <th>2010-12-01 08:26:00</th>\n",
       "      <td>536365</td>\n",
       "      <td>84029E</td>\n",
       "      <td>RED WOOLLY HOTTIE WHITE HEART</td>\n",
       "      <td>6</td>\n",
       "      <td>4.25</td>\n",
       "      <td>17850.0</td>\n",
       "      <td>UNITED KINGDOM</td>\n",
       "      <td>25.5</td>\n",
       "      <td>December</td>\n",
       "      <td>Wednesday</td>\n",
       "    </tr>\n",
       "  </tbody>\n",
       "</table>\n",
       "</div>"
      ],
      "text/plain": [
       "                    InvoiceNo StockCode                          Description  \\\n",
       "InvoiceDate                                                                    \n",
       "2010-12-01 08:26:00    536365    85123A   WHITE HANGING HEART T-LIGHT HOLDER   \n",
       "2010-12-01 08:26:00    536365     71053                  WHITE METAL LANTERN   \n",
       "2010-12-01 08:26:00    536365    84406B       CREAM CUPID HEARTS COAT HANGER   \n",
       "2010-12-01 08:26:00    536365    84029G  KNITTED UNION FLAG HOT WATER BOTTLE   \n",
       "2010-12-01 08:26:00    536365    84029E        RED WOOLLY HOTTIE WHITE HEART   \n",
       "\n",
       "                     Quantity  UnitPrice  CustomerID         Country  \\\n",
       "InvoiceDate                                                            \n",
       "2010-12-01 08:26:00         6       2.95     17850.0  UNITED KINGDOM   \n",
       "2010-12-01 08:26:00         6       3.75     17850.0  UNITED KINGDOM   \n",
       "2010-12-01 08:26:00         8       4.15     17850.0  UNITED KINGDOM   \n",
       "2010-12-01 08:26:00         6       3.75     17850.0  UNITED KINGDOM   \n",
       "2010-12-01 08:26:00         6       4.25     17850.0  UNITED KINGDOM   \n",
       "\n",
       "                     FinalPrice InvoiceMonth Day of week  \n",
       "InvoiceDate                                               \n",
       "2010-12-01 08:26:00        17.7     December   Wednesday  \n",
       "2010-12-01 08:26:00        22.5     December   Wednesday  \n",
       "2010-12-01 08:26:00        33.2     December   Wednesday  \n",
       "2010-12-01 08:26:00        22.5     December   Wednesday  \n",
       "2010-12-01 08:26:00        25.5     December   Wednesday  "
      ]
     },
     "execution_count": 6,
     "metadata": {},
     "output_type": "execute_result"
    }
   ],
   "source": [
    "data.head()"
   ]
  },
  {
   "cell_type": "code",
   "execution_count": 8,
   "id": "81e672b8-f896-4cca-a69b-6349463793ee",
   "metadata": {},
   "outputs": [
    {
     "data": {
      "text/html": [
       "<div>\n",
       "<style scoped>\n",
       "    .dataframe tbody tr th:only-of-type {\n",
       "        vertical-align: middle;\n",
       "    }\n",
       "\n",
       "    .dataframe tbody tr th {\n",
       "        vertical-align: top;\n",
       "    }\n",
       "\n",
       "    .dataframe thead th {\n",
       "        text-align: right;\n",
       "    }\n",
       "</style>\n",
       "<table border=\"1\" class=\"dataframe\">\n",
       "  <thead>\n",
       "    <tr style=\"text-align: right;\">\n",
       "      <th></th>\n",
       "      <th>CustomerID</th>\n",
       "      <th>UK?</th>\n",
       "      <th>Average Quantity</th>\n",
       "      <th>Average Price</th>\n",
       "      <th>Repeats</th>\n",
       "      <th>Product Variety</th>\n",
       "    </tr>\n",
       "  </thead>\n",
       "  <tbody>\n",
       "    <tr>\n",
       "      <th>0</th>\n",
       "      <td>17850.0</td>\n",
       "      <td>UK</td>\n",
       "      <td>5.513158</td>\n",
       "      <td>3.740428</td>\n",
       "      <td>35</td>\n",
       "      <td>24</td>\n",
       "    </tr>\n",
       "    <tr>\n",
       "      <th>1</th>\n",
       "      <td>13047.0</td>\n",
       "      <td>UK</td>\n",
       "      <td>6.984536</td>\n",
       "      <td>4.016289</td>\n",
       "      <td>16</td>\n",
       "      <td>105</td>\n",
       "    </tr>\n",
       "    <tr>\n",
       "      <th>2</th>\n",
       "      <td>12583.0</td>\n",
       "      <td>non-UK</td>\n",
       "      <td>21.182979</td>\n",
       "      <td>2.182894</td>\n",
       "      <td>17</td>\n",
       "      <td>116</td>\n",
       "    </tr>\n",
       "    <tr>\n",
       "      <th>3</th>\n",
       "      <td>13748.0</td>\n",
       "      <td>UK</td>\n",
       "      <td>15.678571</td>\n",
       "      <td>4.053571</td>\n",
       "      <td>5</td>\n",
       "      <td>24</td>\n",
       "    </tr>\n",
       "    <tr>\n",
       "      <th>4</th>\n",
       "      <td>15100.0</td>\n",
       "      <td>UK</td>\n",
       "      <td>9.666667</td>\n",
       "      <td>12.750000</td>\n",
       "      <td>6</td>\n",
       "      <td>1</td>\n",
       "    </tr>\n",
       "  </tbody>\n",
       "</table>\n",
       "</div>"
      ],
      "text/plain": [
       "   CustomerID     UK?  Average Quantity  Average Price  Repeats  \\\n",
       "0     17850.0      UK          5.513158       3.740428       35   \n",
       "1     13047.0      UK          6.984536       4.016289       16   \n",
       "2     12583.0  non-UK         21.182979       2.182894       17   \n",
       "3     13748.0      UK         15.678571       4.053571        5   \n",
       "4     15100.0      UK          9.666667      12.750000        6   \n",
       "\n",
       "   Product Variety  \n",
       "0               24  \n",
       "1              105  \n",
       "2              116  \n",
       "3               24  \n",
       "4                1  "
      ]
     },
     "execution_count": 8,
     "metadata": {},
     "output_type": "execute_result"
    }
   ],
   "source": [
    "data_copy = data.copy()\n",
    "data_copy['Country'] = data_copy['Country'].map(lambda x: 'UK' if x=='UNITED KINGDOM' else 'non-UK')\n",
    "Customer_Data = data_copy.groupby(['CustomerID','Country'], sort=False).agg({'Quantity':'mean','UnitPrice':'mean','InvoiceNo':'nunique','Description':'nunique'})\n",
    "Customer_Data.reset_index(inplace=True)\n",
    "Customer_Data.columns = ['CustomerID', 'UK?', 'Average Quantity', 'Average Price', 'Repeats', 'Product Variety']\n",
    "Customer_Data.head()"
   ]
  },
  {
   "cell_type": "markdown",
   "id": "fba09f72",
   "metadata": {},
   "source": [
    "To eliminate the negative impacts of feature magnitudes and to speed up the process, it would be a good idea to scale the numerical features before we start.\n",
    "\n",
    "The client's nationality is a categorical variable in the customer data. For this reason, we choose the k-prototypes technique, which can also account for categorical variables. In these kinds of approaches, we have to tell the algorithm exactly how many clusters there are. Since we are unsure of the quantity, we will examine the silhouette score and clustering cost to establish the ideal number of clusters. How close the data points are to their own cluster in comparison to other data points is determined by the average silhouette value."
   ]
  },
  {
   "cell_type": "markdown",
   "id": "3a303d29",
   "metadata": {},
   "source": [
    "Feature scaling"
   ]
  },
  {
   "cell_type": "code",
   "execution_count": 10,
   "id": "1839bddb",
   "metadata": {},
   "outputs": [],
   "source": [
    "std_slr = StandardScaler()\n",
    "Customer_Data.iloc[:,2:] = std_slr.fit_transform(Customer_Data.iloc[:,2:])\n",
    "cst_syms = Customer_Data.iloc[:,0].values.astype(str)\n",
    "cst_X = Customer_Data.iloc[:,1:].values.astype(object)"
   ]
  },
  {
   "cell_type": "markdown",
   "id": "294dfca2",
   "metadata": {},
   "source": [
    "Finding number of optimal clusters"
   ]
  },
  {
   "cell_type": "code",
   "execution_count": 22,
   "id": "7f090492",
   "metadata": {},
   "outputs": [
    {
     "name": "stdout",
     "output_type": "stream",
     "text": [
      "number of clusters: 2\n",
      "  cost:  14380.190053147257\n",
      "  average silhouette score:  0.5520788140635532\n",
      "number of clusters: 3\n",
      "  cost:  11496.152292547846\n",
      "  average silhouette score:  0.5676629473885375\n",
      "number of clusters: 4\n",
      "  cost:  9064.557730716979\n",
      "  average silhouette score:  0.40546904294705916\n",
      "number of clusters: 5\n",
      "  cost:  6847.479936487132\n",
      "  average silhouette score:  0.4130000199916561\n",
      "number of clusters: 6\n",
      "  cost:  6057.401073355808\n",
      "  average silhouette score:  0.28912607055254697\n",
      "number of clusters: 7\n",
      "  cost:  5303.616059182098\n",
      "  average silhouette score:  0.3219038281196845\n",
      "number of clusters: 8\n",
      "  cost:  4697.681576660268\n",
      "  average silhouette score:  0.3469220225592841\n",
      "number of clusters: 9\n",
      "  cost:  4291.676690255557\n",
      "  average silhouette score:  0.302191030945364\n"
     ]
    }
   ],
   "source": [
    "for n in range(2,10):\n",
    "    algo = KPrototypes(n_clusters = n, init = 'Cao')\n",
    "    clusters = algo.fit_predict(cst_X, categorical = [0])\n",
    "    silhouette = silhouette_score(cst_X[:,1:],clusters)\n",
    "    print('number of clusters:', n)\n",
    "    print('  cost: ',algo.cost_)\n",
    "    print('  average silhouette score: ',silhouette)"
   ]
  },
  {
   "cell_type": "markdown",
   "id": "9968535d",
   "metadata": {},
   "source": [
    "Three clusters appear like they might adequately represent our data, therefore we use k = 3 to construct the technique."
   ]
  },
  {
   "cell_type": "code",
   "execution_count": 23,
   "id": "b8d14017",
   "metadata": {},
   "outputs": [
    {
     "name": "stdout",
     "output_type": "stream",
     "text": [
      "Cluster Centers:\n",
      " [['-0.07704860211195215' '0.023470766180950706' '-0.16440775957960074'\n",
      "  '-0.18651333298636244' 'UK']\n",
      " ['8.621149665116166' '-0.8840143724917177' '0.011304893142306646'\n",
      "  '-0.6524409030503906' 'UK']\n",
      " ['-0.06351092657884515' '-0.1742292268528959' '1.9072199403263699'\n",
      "  '2.2375751060578093' 'UK']]\n"
     ]
    }
   ],
   "source": [
    "algo = KPrototypes(n_clusters = 3, init = 'Cao')\n",
    "clstr = algo.fit_predict(cst_X, categorical = [0])\n",
    "print('Cluster Centers:\\n', algo.cluster_centroids_)"
   ]
  },
  {
   "cell_type": "markdown",
   "id": "74b62805",
   "metadata": {},
   "source": [
    "We need to scale the data back to their original values since we scaled them for clustering, and then we put all of the original data and their cluster labels in a dataframe."
   ]
  },
  {
   "cell_type": "code",
   "execution_count": 26,
   "id": "cc691b10",
   "metadata": {},
   "outputs": [
    {
     "name": "stdout",
     "output_type": "stream",
     "text": [
      "Cluster  UK?   \n",
      "0        UK        3588\n",
      "         non-UK     382\n",
      "1        UK          35\n",
      "         non-UK       3\n",
      "2        UK         307\n",
      "         non-UK      35\n",
      "Name: Repeats, dtype: int64 \n",
      "\n",
      "\n",
      "\n",
      "                Average Quantity  Average Price   Repeats  Product Variety\n",
      "Cluster UK?                                                               \n",
      "0       UK             -0.080805       0.027902 -0.163079        -0.189476\n",
      "        non-UK         -0.041766      -0.018147 -0.176890        -0.158687\n",
      "1       UK              8.586698      -0.863763  0.046750        -0.650664\n",
      "        non-UK          9.023088      -1.120279 -0.402226        -0.673172\n",
      "2       UK             -0.074433      -0.176283  1.862915         2.186079\n",
      "        non-UK          0.032292      -0.156212  2.295838         2.689270\n"
     ]
    },
    {
     "name": "stderr",
     "output_type": "stream",
     "text": [
      "/var/folders/g3/5zm39pnx1914hst9rk62xd8r0000gn/T/ipykernel_24783/1468915801.py:6: FutureWarning: The default value of numeric_only in DataFrameGroupBy.mean is deprecated. In a future version, numeric_only will default to False. Either specify numeric_only or select only columns which should be valid for the function.\n",
      "  print(data_clustered.groupby(['Cluster','UK?']).mean())\n"
     ]
    }
   ],
   "source": [
    "data_clustered = pd.DataFrame(data=std_slr.inverse_transform(Customer_Data.iloc[:,2:]),columns=['Average Quantity', 'Average Price', 'Repeats', 'Product Variety'])\n",
    "data_clustered['UK?'] = cst_X[:,0]\n",
    "data_clustered['CustomerID'] = cst_syms\n",
    "data_clustered['Cluster'] = clstr\n",
    "print(data_clustered.groupby(['Cluster','UK?']).count()['Repeats'],'\\n\\n\\n')\n",
    "print(data_clustered.groupby(['Cluster','UK?']).mean())"
   ]
  },
  {
   "cell_type": "code",
   "execution_count": 25,
   "id": "54cdaad2",
   "metadata": {},
   "outputs": [],
   "source": [
    "# check the above output and modify the below statement."
   ]
  },
  {
   "cell_type": "code",
   "execution_count": null,
   "id": "a9335b6f",
   "metadata": {},
   "outputs": [],
   "source": [
    "#Now we can see how our clusters are distributed along each variable in pairwise scatterplots. In the first cluster there are customers (mostly from UK) who bought very specific products with low prices in large volumes but not very often, one-time customers are more likely to be in this segment. The second cluster represents our regular customers who visit quite often buying various products in small quantities. The third cluster consists of customers who bought different products with higher price and they occasionally make a purchase, the majority of our customers (both from UK and non-UK countries) are within this cluster.\n",
    "\n"
   ]
  },
  {
   "cell_type": "code",
   "execution_count": null,
   "id": "3af7dcf8",
   "metadata": {},
   "outputs": [],
   "source": []
  }
 ],
 "metadata": {
  "kernelspec": {
   "display_name": "Python 3 (ipykernel)",
   "language": "python",
   "name": "python3"
  },
  "language_info": {
   "codemirror_mode": {
    "name": "ipython",
    "version": 3
   },
   "file_extension": ".py",
   "mimetype": "text/x-python",
   "name": "python",
   "nbconvert_exporter": "python",
   "pygments_lexer": "ipython3",
   "version": "3.10.8"
  }
 },
 "nbformat": 4,
 "nbformat_minor": 5
}
