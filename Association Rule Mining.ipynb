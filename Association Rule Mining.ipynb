{
 "cells": [
  {
   "cell_type": "code",
   "execution_count": 123,
   "id": "ead19c9c-75e0-4235-9fd9-25e76704e733",
   "metadata": {},
   "outputs": [],
   "source": [
    "import pandas as pd, numpy as np"
   ]
  },
  {
   "cell_type": "code",
   "execution_count": 124,
   "id": "8de457a5",
   "metadata": {},
   "outputs": [],
   "source": [
    "dataset = pd.read_csv('data_cleaned.csv', index_col = 'InvoiceDate')\n",
    "dataset.index = pd.to_datetime(dataset.index, format = '%Y-%m-%d %H:%M')"
   ]
  },
  {
   "cell_type": "code",
   "execution_count": 125,
   "id": "3ef3c9f4-7e23-4418-a08d-cdbba688b463",
   "metadata": {},
   "outputs": [
    {
     "name": "stdout",
     "output_type": "stream",
     "text": [
      "<class 'pandas.core.frame.DataFrame'>\n",
      "DatetimeIndex: 532820 entries, 2010-12-01 08:26:00 to 2011-12-09 12:50:00\n",
      "Data columns (total 10 columns):\n",
      " #   Column        Non-Null Count   Dtype  \n",
      "---  ------        --------------   -----  \n",
      " 0   InvoiceNo     532820 non-null  object \n",
      " 1   StockCode     532820 non-null  object \n",
      " 2   Description   532820 non-null  object \n",
      " 3   Quantity      532820 non-null  int64  \n",
      " 4   UnitPrice     532820 non-null  float64\n",
      " 5   CustomerID    403890 non-null  float64\n",
      " 6   Country       532820 non-null  object \n",
      " 7   FinalPrice    532820 non-null  float64\n",
      " 8   InvoiceMonth  532820 non-null  object \n",
      " 9   Day of week   532820 non-null  object \n",
      "dtypes: float64(3), int64(1), object(6)\n",
      "memory usage: 44.7+ MB\n"
     ]
    }
   ],
   "source": [
    "dataset.info()"
   ]
  },
  {
   "cell_type": "code",
   "execution_count": 126,
   "id": "1d4154e5-8799-4a45-9498-1624430e3364",
   "metadata": {},
   "outputs": [
    {
     "name": "stdout",
     "output_type": "stream",
     "text": [
      "The number of unique products in this dataset based on description\n"
     ]
    },
    {
     "data": {
      "text/plain": [
       "3976"
      ]
     },
     "execution_count": 126,
     "metadata": {},
     "output_type": "execute_result"
    }
   ],
   "source": [
    "print(\"The number of unique products in this dataset based on description\")\n",
    "dataset['Description'].nunique()"
   ]
  },
  {
   "cell_type": "code",
   "execution_count": 127,
   "id": "31aae023-786d-4f6d-ad4a-109b3342dd54",
   "metadata": {},
   "outputs": [
    {
     "name": "stdout",
     "output_type": "stream",
     "text": [
      "The number of unique purchased products in this dataset\n",
      "Excluding returns aka transactions with quantity negative\n"
     ]
    },
    {
     "data": {
      "text/plain": [
       "Description    3962\n",
       "dtype: int64"
      ]
     },
     "execution_count": 127,
     "metadata": {},
     "output_type": "execute_result"
    }
   ],
   "source": [
    "print(\"The number of unique purchased products in this dataset\")\n",
    "print(\"Excluding returns aka transactions with quantity negative\")\n",
    "dataset.loc[(dataset['Quantity']>0) ,['Description']].nunique()"
   ]
  },
  {
   "cell_type": "markdown",
   "id": "51a28ab4-30e1-49b8-b1ee-861f12ae8ba1",
   "metadata": {},
   "source": [
    "We decided to use only the purchase data and no return data, so we pruned our dataset to include only the positive quantity transactions\n"
   ]
  },
  {
   "cell_type": "code",
   "execution_count": 128,
   "id": "bef9e318-4aec-4989-a457-e08443006516",
   "metadata": {},
   "outputs": [
    {
     "data": {
      "text/html": [
       "<div>\n",
       "<style scoped>\n",
       "    .dataframe tbody tr th:only-of-type {\n",
       "        vertical-align: middle;\n",
       "    }\n",
       "\n",
       "    .dataframe tbody tr th {\n",
       "        vertical-align: top;\n",
       "    }\n",
       "\n",
       "    .dataframe thead th {\n",
       "        text-align: right;\n",
       "    }\n",
       "</style>\n",
       "<table border=\"1\" class=\"dataframe\">\n",
       "  <thead>\n",
       "    <tr style=\"text-align: right;\">\n",
       "      <th></th>\n",
       "      <th>InvoiceNo</th>\n",
       "      <th>Description</th>\n",
       "      <th>Quantity</th>\n",
       "    </tr>\n",
       "    <tr>\n",
       "      <th>InvoiceDate</th>\n",
       "      <th></th>\n",
       "      <th></th>\n",
       "      <th></th>\n",
       "    </tr>\n",
       "  </thead>\n",
       "  <tbody>\n",
       "    <tr>\n",
       "      <th>2010-12-01 08:26:00</th>\n",
       "      <td>536365</td>\n",
       "      <td>WHITE HANGING HEART T-LIGHT HOLDER</td>\n",
       "      <td>6</td>\n",
       "    </tr>\n",
       "    <tr>\n",
       "      <th>2010-12-01 08:26:00</th>\n",
       "      <td>536365</td>\n",
       "      <td>WHITE METAL LANTERN</td>\n",
       "      <td>6</td>\n",
       "    </tr>\n",
       "    <tr>\n",
       "      <th>2010-12-01 08:26:00</th>\n",
       "      <td>536365</td>\n",
       "      <td>CREAM CUPID HEARTS COAT HANGER</td>\n",
       "      <td>8</td>\n",
       "    </tr>\n",
       "    <tr>\n",
       "      <th>2010-12-01 08:26:00</th>\n",
       "      <td>536365</td>\n",
       "      <td>KNITTED UNION FLAG HOT WATER BOTTLE</td>\n",
       "      <td>6</td>\n",
       "    </tr>\n",
       "    <tr>\n",
       "      <th>2010-12-01 08:26:00</th>\n",
       "      <td>536365</td>\n",
       "      <td>RED WOOLLY HOTTIE WHITE HEART</td>\n",
       "      <td>6</td>\n",
       "    </tr>\n",
       "  </tbody>\n",
       "</table>\n",
       "</div>"
      ],
      "text/plain": [
       "                    InvoiceNo                          Description  Quantity\n",
       "InvoiceDate                                                                 \n",
       "2010-12-01 08:26:00    536365   WHITE HANGING HEART T-LIGHT HOLDER         6\n",
       "2010-12-01 08:26:00    536365                  WHITE METAL LANTERN         6\n",
       "2010-12-01 08:26:00    536365       CREAM CUPID HEARTS COAT HANGER         8\n",
       "2010-12-01 08:26:00    536365  KNITTED UNION FLAG HOT WATER BOTTLE         6\n",
       "2010-12-01 08:26:00    536365        RED WOOLLY HOTTIE WHITE HEART         6"
      ]
     },
     "execution_count": 128,
     "metadata": {},
     "output_type": "execute_result"
    }
   ],
   "source": [
    "transactions = dataset.loc[(dataset['Quantity']>0) ,['InvoiceNo','Description','Quantity']]\n",
    "transactions.head()"
   ]
  },
  {
   "cell_type": "code",
   "execution_count": 129,
   "id": "ab335aad-be6f-4a91-85d5-ce76ea433320",
   "metadata": {},
   "outputs": [
    {
     "data": {
      "text/plain": [
       "pandas.core.frame.DataFrame"
      ]
     },
     "execution_count": 129,
     "metadata": {},
     "output_type": "execute_result"
    }
   ],
   "source": [
    "type(transactions)"
   ]
  },
  {
   "cell_type": "code",
   "execution_count": 130,
   "id": "339c355d-008e-4d86-b51e-9202f4de444c",
   "metadata": {},
   "outputs": [
    {
     "data": {
      "text/plain": [
       "(524214, 3)"
      ]
     },
     "execution_count": 130,
     "metadata": {},
     "output_type": "execute_result"
    }
   ],
   "source": [
    "transactions.shape"
   ]
  },
  {
   "cell_type": "code",
   "execution_count": 131,
   "id": "a6ca9e1a-3a11-4b97-9f01-efb7628f76a2",
   "metadata": {},
   "outputs": [],
   "source": [
    "transactions = transactions.groupby(['InvoiceNo','Description'])['Quantity'].sum()"
   ]
  },
  {
   "cell_type": "code",
   "execution_count": 132,
   "id": "613ac945-492c-45ae-838e-b386ad715a54",
   "metadata": {},
   "outputs": [
    {
     "data": {
      "text/plain": [
       "InvoiceNo  Description                        \n",
       "536365     CREAM CUPID HEARTS COAT HANGER          8\n",
       "           GLASS STAR FROSTED T-LIGHT HOLDER       6\n",
       "           KNITTED UNION FLAG HOT WATER BOTTLE     6\n",
       "           RED WOOLLY HOTTIE WHITE HEART           6\n",
       "           SET 7 BABUSHKA NESTING BOXES            2\n",
       "           WHITE HANGING HEART T-LIGHT HOLDER      6\n",
       "           WHITE METAL LANTERN                     6\n",
       "536366     HAND WARMER RED POLKA DOT               6\n",
       "           HAND WARMER UNION JACK                  6\n",
       "536367     ASSORTED COLOUR BIRD ORNAMENT          32\n",
       "           BOX OF 6 ASSORTED COLOUR TEASPOONS      6\n",
       "           BOX OF VINTAGE ALPHABET BLOCKS          2\n",
       "           BOX OF VINTAGE JIGSAW BLOCKS            3\n",
       "           DOORMAT NEW ENGLAND                     4\n",
       "           FELTCRAFT PRINCESS CHARLOTTE DOLL       8\n",
       "           HOME BUILDING BLOCK WORD                3\n",
       "           IVORY KNITTED MUG COSY                  6\n",
       "           LOVE BUILDING BLOCK WORD                3\n",
       "           POPPY'S PLAYHOUSE BEDROOM               6\n",
       "           POPPY'S PLAYHOUSE KITCHEN               6\n",
       "Name: Quantity, dtype: int64"
      ]
     },
     "execution_count": 132,
     "metadata": {},
     "output_type": "execute_result"
    }
   ],
   "source": [
    "transactions.head(20)"
   ]
  },
  {
   "cell_type": "code",
   "execution_count": 133,
   "id": "86a45287-c255-4c5a-9c9a-8c72893fbb37",
   "metadata": {},
   "outputs": [
    {
     "data": {
      "text/plain": [
       "pandas.core.series.Series"
      ]
     },
     "execution_count": 133,
     "metadata": {},
     "output_type": "execute_result"
    }
   ],
   "source": [
    "type(transactions)"
   ]
  },
  {
   "cell_type": "markdown",
   "id": "a2dc69d9-27c1-4a9e-88f2-44a7fde4ba6c",
   "metadata": {},
   "source": [
    "We decided to convert this Series data into a Dataframe by unstacking it.\n"
   ]
  },
  {
   "cell_type": "code",
   "execution_count": 134,
   "id": "284632eb-9a51-447b-8612-42bcfc5fcd10",
   "metadata": {},
   "outputs": [],
   "source": [
    "transactions = transactions.unstack(fill_value=0)"
   ]
  },
  {
   "cell_type": "code",
   "execution_count": 135,
   "id": "53e98147-4863-40a3-8f03-732afc96a8ca",
   "metadata": {},
   "outputs": [
    {
     "data": {
      "text/html": [
       "<div>\n",
       "<style scoped>\n",
       "    .dataframe tbody tr th:only-of-type {\n",
       "        vertical-align: middle;\n",
       "    }\n",
       "\n",
       "    .dataframe tbody tr th {\n",
       "        vertical-align: top;\n",
       "    }\n",
       "\n",
       "    .dataframe thead th {\n",
       "        text-align: right;\n",
       "    }\n",
       "</style>\n",
       "<table border=\"1\" class=\"dataframe\">\n",
       "  <thead>\n",
       "    <tr style=\"text-align: right;\">\n",
       "      <th>Description</th>\n",
       "      <th>*USB OFFICE MIRROR BALL</th>\n",
       "      <th>10 COLOUR SPACEBOY PEN</th>\n",
       "      <th>12 COLOURED PARTY BALLOONS</th>\n",
       "      <th>12 DAISY PEGS IN WOOD BOX</th>\n",
       "      <th>12 EGG HOUSE PAINTED WOOD</th>\n",
       "      <th>12 HANGING EGGS HAND PAINTED</th>\n",
       "      <th>12 IVORY ROSE PEG PLACE SETTINGS</th>\n",
       "      <th>12 MESSAGE CARDS WITH ENVELOPES</th>\n",
       "      <th>12 PENCIL SMALL TUBE WOODLAND</th>\n",
       "      <th>12 PENCILS SMALL TUBE RED RETROSPOT</th>\n",
       "      <th>...</th>\n",
       "      <th>ZINC STAR T-LIGHT HOLDER</th>\n",
       "      <th>ZINC SWEETHEART SOAP DISH</th>\n",
       "      <th>ZINC SWEETHEART WIRE LETTER RACK</th>\n",
       "      <th>ZINC T-LIGHT HOLDER STAR LARGE</th>\n",
       "      <th>ZINC T-LIGHT HOLDER STARS LARGE</th>\n",
       "      <th>ZINC T-LIGHT HOLDER STARS SMALL</th>\n",
       "      <th>ZINC TOP 2 DOOR WOODEN SHELF</th>\n",
       "      <th>ZINC WILLIE WINKIE CANDLE STICK</th>\n",
       "      <th>ZINC WIRE KITCHEN ORGANISER</th>\n",
       "      <th>ZINC WIRE SWEETHEART LETTER TRAY</th>\n",
       "    </tr>\n",
       "    <tr>\n",
       "      <th>InvoiceNo</th>\n",
       "      <th></th>\n",
       "      <th></th>\n",
       "      <th></th>\n",
       "      <th></th>\n",
       "      <th></th>\n",
       "      <th></th>\n",
       "      <th></th>\n",
       "      <th></th>\n",
       "      <th></th>\n",
       "      <th></th>\n",
       "      <th></th>\n",
       "      <th></th>\n",
       "      <th></th>\n",
       "      <th></th>\n",
       "      <th></th>\n",
       "      <th></th>\n",
       "      <th></th>\n",
       "      <th></th>\n",
       "      <th></th>\n",
       "      <th></th>\n",
       "      <th></th>\n",
       "    </tr>\n",
       "  </thead>\n",
       "  <tbody>\n",
       "    <tr>\n",
       "      <th>536365</th>\n",
       "      <td>0</td>\n",
       "      <td>0</td>\n",
       "      <td>0</td>\n",
       "      <td>0</td>\n",
       "      <td>0</td>\n",
       "      <td>0</td>\n",
       "      <td>0</td>\n",
       "      <td>0</td>\n",
       "      <td>0</td>\n",
       "      <td>0</td>\n",
       "      <td>...</td>\n",
       "      <td>0</td>\n",
       "      <td>0</td>\n",
       "      <td>0</td>\n",
       "      <td>0</td>\n",
       "      <td>0</td>\n",
       "      <td>0</td>\n",
       "      <td>0</td>\n",
       "      <td>0</td>\n",
       "      <td>0</td>\n",
       "      <td>0</td>\n",
       "    </tr>\n",
       "  </tbody>\n",
       "</table>\n",
       "<p>1 rows × 3962 columns</p>\n",
       "</div>"
      ],
      "text/plain": [
       "Description  *USB OFFICE MIRROR BALL  10 COLOUR SPACEBOY PEN  \\\n",
       "InvoiceNo                                                      \n",
       "536365                             0                       0   \n",
       "\n",
       "Description  12 COLOURED PARTY BALLOONS  12 DAISY PEGS IN WOOD BOX  \\\n",
       "InvoiceNo                                                            \n",
       "536365                                0                          0   \n",
       "\n",
       "Description  12 EGG HOUSE PAINTED WOOD  12 HANGING EGGS HAND PAINTED  \\\n",
       "InvoiceNo                                                              \n",
       "536365                               0                             0   \n",
       "\n",
       "Description  12 IVORY ROSE PEG PLACE SETTINGS  \\\n",
       "InvoiceNo                                       \n",
       "536365                                      0   \n",
       "\n",
       "Description  12 MESSAGE CARDS WITH ENVELOPES  12 PENCIL SMALL TUBE WOODLAND  \\\n",
       "InvoiceNo                                                                     \n",
       "536365                                     0                              0   \n",
       "\n",
       "Description  12 PENCILS SMALL TUBE RED RETROSPOT  ...  \\\n",
       "InvoiceNo                                         ...   \n",
       "536365                                         0  ...   \n",
       "\n",
       "Description  ZINC STAR T-LIGHT HOLDER  ZINC SWEETHEART SOAP DISH  \\\n",
       "InvoiceNo                                                          \n",
       "536365                              0                          0   \n",
       "\n",
       "Description  ZINC SWEETHEART WIRE LETTER RACK  ZINC T-LIGHT HOLDER STAR LARGE  \\\n",
       "InvoiceNo                                                                       \n",
       "536365                                      0                               0   \n",
       "\n",
       "Description  ZINC T-LIGHT HOLDER STARS LARGE  ZINC T-LIGHT HOLDER STARS SMALL  \\\n",
       "InvoiceNo                                                                       \n",
       "536365                                     0                                0   \n",
       "\n",
       "Description  ZINC TOP 2 DOOR WOODEN SHELF  ZINC WILLIE WINKIE CANDLE STICK  \\\n",
       "InvoiceNo                                                                    \n",
       "536365                                  0                                0   \n",
       "\n",
       "Description  ZINC WIRE KITCHEN ORGANISER  ZINC WIRE SWEETHEART LETTER TRAY  \n",
       "InvoiceNo                                                                   \n",
       "536365                                 0                                 0  \n",
       "\n",
       "[1 rows x 3962 columns]"
      ]
     },
     "execution_count": 135,
     "metadata": {},
     "output_type": "execute_result"
    }
   ],
   "source": [
    "transactions.head(1)"
   ]
  },
  {
   "cell_type": "markdown",
   "id": "6db9dcd8-c4f8-4869-9e97-5aedbd0fd9be",
   "metadata": {},
   "source": [
    "We have a dataset with each invoice number mapped to the product vector.\n",
    "Each row of this dataset contains information as to how much quantity of each product was ordered using that invoice\n",
    "We have the data in the format needed for apriori algorithm"
   ]
  },
  {
   "cell_type": "code",
   "execution_count": 136,
   "id": "fa15fc0e-4640-4cdd-9590-4c9fa133d4d3",
   "metadata": {},
   "outputs": [
    {
     "data": {
      "text/plain": [
       "(19694, 3962)"
      ]
     },
     "execution_count": 136,
     "metadata": {},
     "output_type": "execute_result"
    }
   ],
   "source": [
    "transactions.shape"
   ]
  },
  {
   "cell_type": "code",
   "execution_count": 137,
   "id": "cf1b8906-c939-4d3c-9520-d0157bd44217",
   "metadata": {},
   "outputs": [
    {
     "data": {
      "text/plain": [
       "(19694, 3962)"
      ]
     },
     "execution_count": 137,
     "metadata": {},
     "output_type": "execute_result"
    }
   ],
   "source": [
    "transactions = (transactions > 0)\n",
    "transactions.shape"
   ]
  },
  {
   "cell_type": "code",
   "execution_count": 138,
   "id": "b70e5cc1-ba5b-4b50-b3a5-868001adff08",
   "metadata": {},
   "outputs": [],
   "source": [
    "from mlxtend.frequent_patterns import apriori"
   ]
  },
  {
   "cell_type": "markdown",
   "id": "c816e2f0-0e5c-4900-a2f8-580898447eea",
   "metadata": {},
   "source": [
    "We decided to have our minimum support threshold to determine frequent item sets as 0.0325.\n",
    "By default, apriori returns the column indices of the items, which may be useful in downstream operations such as association rule mining. For better readability, we can set use_colnames=True to convert these integer values into the respective item names:"
   ]
  },
  {
   "cell_type": "code",
   "execution_count": 139,
   "id": "355653f1-3a43-488d-b8e4-c8d168d42a2b",
   "metadata": {},
   "outputs": [],
   "source": [
    "frequent_itemsets = apriori(transactions, min_support= 0.0325, use_colnames=True)"
   ]
  },
  {
   "cell_type": "code",
   "execution_count": 140,
   "id": "334ec496-0d2c-4175-89f3-4a01ff4f9bc1",
   "metadata": {},
   "outputs": [
    {
     "data": {
      "text/plain": [
       "118"
      ]
     },
     "execution_count": 140,
     "metadata": {},
     "output_type": "execute_result"
    }
   ],
   "source": [
    "len(frequent_itemsets)"
   ]
  },
  {
   "cell_type": "code",
   "execution_count": 141,
   "id": "83aa4a20-93cd-491e-aae7-b9ddd407900a",
   "metadata": {},
   "outputs": [
    {
     "data": {
      "text/html": [
       "<div>\n",
       "<style scoped>\n",
       "    .dataframe tbody tr th:only-of-type {\n",
       "        vertical-align: middle;\n",
       "    }\n",
       "\n",
       "    .dataframe tbody tr th {\n",
       "        vertical-align: top;\n",
       "    }\n",
       "\n",
       "    .dataframe thead th {\n",
       "        text-align: right;\n",
       "    }\n",
       "</style>\n",
       "<table border=\"1\" class=\"dataframe\">\n",
       "  <thead>\n",
       "    <tr style=\"text-align: right;\">\n",
       "      <th></th>\n",
       "      <th>support</th>\n",
       "      <th>itemsets</th>\n",
       "    </tr>\n",
       "  </thead>\n",
       "  <tbody>\n",
       "    <tr>\n",
       "      <th>113</th>\n",
       "      <td>0.041840</td>\n",
       "      <td>(JUMBO BAG RED RETROSPOT, JUMBO BAG PINK POLKA...</td>\n",
       "    </tr>\n",
       "    <tr>\n",
       "      <th>114</th>\n",
       "      <td>0.034528</td>\n",
       "      <td>(JUMBO BAG RED RETROSPOT, JUMBO SHOPPER VINTAG...</td>\n",
       "    </tr>\n",
       "    <tr>\n",
       "      <th>115</th>\n",
       "      <td>0.036762</td>\n",
       "      <td>(JUMBO BAG RED RETROSPOT, JUMBO STORAGE BAG SUKI)</td>\n",
       "    </tr>\n",
       "    <tr>\n",
       "      <th>116</th>\n",
       "      <td>0.032548</td>\n",
       "      <td>(LUNCH BAG RED RETROSPOT, LUNCH BAG BLACK SKULL)</td>\n",
       "    </tr>\n",
       "    <tr>\n",
       "      <th>117</th>\n",
       "      <td>0.033208</td>\n",
       "      <td>(LUNCH BAG RED RETROSPOT, LUNCH BAG SUKI DESIGN)</td>\n",
       "    </tr>\n",
       "  </tbody>\n",
       "</table>\n",
       "</div>"
      ],
      "text/plain": [
       "      support                                           itemsets\n",
       "113  0.041840  (JUMBO BAG RED RETROSPOT, JUMBO BAG PINK POLKA...\n",
       "114  0.034528  (JUMBO BAG RED RETROSPOT, JUMBO SHOPPER VINTAG...\n",
       "115  0.036762  (JUMBO BAG RED RETROSPOT, JUMBO STORAGE BAG SUKI)\n",
       "116  0.032548   (LUNCH BAG RED RETROSPOT, LUNCH BAG BLACK SKULL)\n",
       "117  0.033208   (LUNCH BAG RED RETROSPOT, LUNCH BAG SUKI DESIGN)"
      ]
     },
     "execution_count": 141,
     "metadata": {},
     "output_type": "execute_result"
    }
   ],
   "source": [
    "frequent_itemsets.tail()"
   ]
  },
  {
   "cell_type": "markdown",
   "id": "f0ae5f86-e1bc-4364-9879-c8f4535bdb36",
   "metadata": {},
   "source": [
    "Out of the 118 frequent itemsets we decided to mine some association rules.\n",
    "Our metric of interest is Confidence -> which would help us get the most predictable rules\n",
    "The threshold level for confidence metric is 0.7"
   ]
  },
  {
   "cell_type": "code",
   "execution_count": 144,
   "id": "fa8ee4ce-382d-464a-beb0-083a5d031496",
   "metadata": {},
   "outputs": [
    {
     "data": {
      "text/html": [
       "<div>\n",
       "<style scoped>\n",
       "    .dataframe tbody tr th:only-of-type {\n",
       "        vertical-align: middle;\n",
       "    }\n",
       "\n",
       "    .dataframe tbody tr th {\n",
       "        vertical-align: top;\n",
       "    }\n",
       "\n",
       "    .dataframe thead th {\n",
       "        text-align: right;\n",
       "    }\n",
       "</style>\n",
       "<table border=\"1\" class=\"dataframe\">\n",
       "  <thead>\n",
       "    <tr style=\"text-align: right;\">\n",
       "      <th></th>\n",
       "      <th>antecedents</th>\n",
       "      <th>consequents</th>\n",
       "      <th>antecedent support</th>\n",
       "      <th>consequent support</th>\n",
       "      <th>support</th>\n",
       "      <th>confidence</th>\n",
       "      <th>lift</th>\n",
       "      <th>leverage</th>\n",
       "      <th>conviction</th>\n",
       "    </tr>\n",
       "  </thead>\n",
       "  <tbody>\n",
       "    <tr>\n",
       "      <th>0</th>\n",
       "      <td>(GREEN REGENCY TEACUP AND SAUCER)</td>\n",
       "      <td>(ROSES REGENCY TEACUP AND SAUCER)</td>\n",
       "      <td>0.051437</td>\n",
       "      <td>0.054077</td>\n",
       "      <td>0.038946</td>\n",
       "      <td>0.757157</td>\n",
       "      <td>14.001361</td>\n",
       "      <td>0.036164</td>\n",
       "      <td>3.895202</td>\n",
       "    </tr>\n",
       "    <tr>\n",
       "      <th>1</th>\n",
       "      <td>(ROSES REGENCY TEACUP AND SAUCER)</td>\n",
       "      <td>(GREEN REGENCY TEACUP AND SAUCER)</td>\n",
       "      <td>0.054077</td>\n",
       "      <td>0.051437</td>\n",
       "      <td>0.038946</td>\n",
       "      <td>0.720188</td>\n",
       "      <td>14.001361</td>\n",
       "      <td>0.036164</td>\n",
       "      <td>3.389999</td>\n",
       "    </tr>\n",
       "    <tr>\n",
       "      <th>2</th>\n",
       "      <td>(JUMBO BAG PINK POLKADOT)</td>\n",
       "      <td>(JUMBO BAG RED RETROSPOT)</td>\n",
       "      <td>0.061846</td>\n",
       "      <td>0.106022</td>\n",
       "      <td>0.041840</td>\n",
       "      <td>0.676519</td>\n",
       "      <td>6.380921</td>\n",
       "      <td>0.035283</td>\n",
       "      <td>2.763617</td>\n",
       "    </tr>\n",
       "    <tr>\n",
       "      <th>3</th>\n",
       "      <td>(JUMBO STORAGE BAG SUKI)</td>\n",
       "      <td>(JUMBO BAG RED RETROSPOT)</td>\n",
       "      <td>0.060120</td>\n",
       "      <td>0.106022</td>\n",
       "      <td>0.036762</td>\n",
       "      <td>0.611486</td>\n",
       "      <td>5.767536</td>\n",
       "      <td>0.030388</td>\n",
       "      <td>2.301021</td>\n",
       "    </tr>\n",
       "  </tbody>\n",
       "</table>\n",
       "</div>"
      ],
      "text/plain": [
       "                         antecedents                        consequents  \\\n",
       "0  (GREEN REGENCY TEACUP AND SAUCER)  (ROSES REGENCY TEACUP AND SAUCER)   \n",
       "1  (ROSES REGENCY TEACUP AND SAUCER)  (GREEN REGENCY TEACUP AND SAUCER)   \n",
       "2          (JUMBO BAG PINK POLKADOT)          (JUMBO BAG RED RETROSPOT)   \n",
       "3           (JUMBO STORAGE BAG SUKI)          (JUMBO BAG RED RETROSPOT)   \n",
       "\n",
       "   antecedent support  consequent support   support  confidence       lift  \\\n",
       "0            0.051437            0.054077  0.038946    0.757157  14.001361   \n",
       "1            0.054077            0.051437  0.038946    0.720188  14.001361   \n",
       "2            0.061846            0.106022  0.041840    0.676519   6.380921   \n",
       "3            0.060120            0.106022  0.036762    0.611486   5.767536   \n",
       "\n",
       "   leverage  conviction  \n",
       "0  0.036164    3.895202  \n",
       "1  0.036164    3.389999  \n",
       "2  0.035283    2.763617  \n",
       "3  0.030388    2.301021  "
      ]
     },
     "execution_count": 144,
     "metadata": {},
     "output_type": "execute_result"
    }
   ],
   "source": [
    "from mlxtend.frequent_patterns import association_rules\n",
    "association_rules(frequent_itemsets, metric=\"confidence\", min_threshold=0.6)"
   ]
  },
  {
   "cell_type": "code",
   "execution_count": null,
   "id": "c251e4d8-4ff2-4630-9e19-e547432632ef",
   "metadata": {},
   "outputs": [],
   "source": []
  }
 ],
 "metadata": {
  "kernelspec": {
   "display_name": "Python 3 (ipykernel)",
   "language": "python",
   "name": "python3"
  },
  "language_info": {
   "codemirror_mode": {
    "name": "ipython",
    "version": 3
   },
   "file_extension": ".py",
   "mimetype": "text/x-python",
   "name": "python",
   "nbconvert_exporter": "python",
   "pygments_lexer": "ipython3",
   "version": "3.10.6"
  }
 },
 "nbformat": 4,
 "nbformat_minor": 5
}
