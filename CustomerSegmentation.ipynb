{
 "cells": [
  {
   "cell_type": "code",
   "execution_count": 398,
   "id": "cdf7c039-8bde-473c-997b-b9632fc74535",
   "metadata": {},
   "outputs": [],
   "source": [
    "import pandas as pd\n",
    "import numpy as np\n",
    "import seaborn as sns\n",
    "import warnings\n",
    "warnings.filterwarnings('ignore')"
   ]
  },
  {
   "cell_type": "code",
   "execution_count": 399,
   "id": "f62abaef-1fb6-4c81-ae1e-a2a839c97557",
   "metadata": {},
   "outputs": [],
   "source": [
    "data = pd.read_csv('data_cleaned.csv',dtype= {'CustomerID': 'Int64'})"
   ]
  },
  {
   "cell_type": "code",
   "execution_count": 400,
   "id": "af97dfe4-753b-49eb-b126-3405315fb701",
   "metadata": {},
   "outputs": [],
   "source": [
    "df = data.copy()"
   ]
  },
  {
   "cell_type": "code",
   "execution_count": 401,
   "id": "2d92cce6-b45b-450f-ac3b-d8db3719c163",
   "metadata": {},
   "outputs": [
    {
     "name": "stdout",
     "output_type": "stream",
     "text": [
      "<class 'pandas.core.frame.DataFrame'>\n",
      "RangeIndex: 532820 entries, 0 to 532819\n",
      "Data columns (total 11 columns):\n",
      " #   Column        Non-Null Count   Dtype  \n",
      "---  ------        --------------   -----  \n",
      " 0   InvoiceNo     532820 non-null  object \n",
      " 1   StockCode     532820 non-null  object \n",
      " 2   Description   532820 non-null  object \n",
      " 3   Quantity      532820 non-null  int64  \n",
      " 4   InvoiceDate   532820 non-null  object \n",
      " 5   UnitPrice     532820 non-null  float64\n",
      " 6   CustomerID    403890 non-null  Int64  \n",
      " 7   Country       532820 non-null  object \n",
      " 8   FinalPrice    532820 non-null  float64\n",
      " 9   InvoiceMonth  532820 non-null  object \n",
      " 10  Day of week   532820 non-null  object \n",
      "dtypes: Int64(1), float64(2), int64(1), object(7)\n",
      "memory usage: 45.2+ MB\n"
     ]
    }
   ],
   "source": [
    "df.info()"
   ]
  },
  {
   "cell_type": "code",
   "execution_count": 402,
   "id": "8f1778a8-99fc-436a-9f0e-02710c37f868",
   "metadata": {},
   "outputs": [
    {
     "name": "stdout",
     "output_type": "stream",
     "text": [
      "The number of unique items in the data set  3976\n"
     ]
    }
   ],
   "source": [
    "#Using description to find the number of unique items\n",
    "print(\"The number of unique items in the data set \", df['Description'].nunique())"
   ]
  },
  {
   "cell_type": "code",
   "execution_count": 403,
   "id": "3102db9f-eebd-4990-a6f8-b66e4f65e8b3",
   "metadata": {},
   "outputs": [
    {
     "data": {
      "text/html": [
       "<div>\n",
       "<style scoped>\n",
       "    .dataframe tbody tr th:only-of-type {\n",
       "        vertical-align: middle;\n",
       "    }\n",
       "\n",
       "    .dataframe tbody tr th {\n",
       "        vertical-align: top;\n",
       "    }\n",
       "\n",
       "    .dataframe thead th {\n",
       "        text-align: right;\n",
       "    }\n",
       "</style>\n",
       "<table border=\"1\" class=\"dataframe\">\n",
       "  <thead>\n",
       "    <tr style=\"text-align: right;\">\n",
       "      <th></th>\n",
       "      <th>Quantity</th>\n",
       "    </tr>\n",
       "    <tr>\n",
       "      <th>Description</th>\n",
       "      <th></th>\n",
       "    </tr>\n",
       "  </thead>\n",
       "  <tbody>\n",
       "    <tr>\n",
       "      <th>JUMBO BAG RED RETROSPOT</th>\n",
       "      <td>46159</td>\n",
       "    </tr>\n",
       "    <tr>\n",
       "      <th>WORLD WAR 2 GLIDERS ASSTD DESIGNS</th>\n",
       "      <td>34887</td>\n",
       "    </tr>\n",
       "    <tr>\n",
       "      <th>WHITE HANGING HEART T-LIGHT HOLDER</th>\n",
       "      <td>33383</td>\n",
       "    </tr>\n",
       "    <tr>\n",
       "      <th>ASSORTED COLOUR BIRD ORNAMENT</th>\n",
       "      <td>32301</td>\n",
       "    </tr>\n",
       "    <tr>\n",
       "      <th>PACK OF 72 RETROSPOT CAKE CASES</th>\n",
       "      <td>32199</td>\n",
       "    </tr>\n",
       "    <tr>\n",
       "      <th>POPCORN HOLDER</th>\n",
       "      <td>26792</td>\n",
       "    </tr>\n",
       "    <tr>\n",
       "      <th>RABBIT NIGHT LIGHT</th>\n",
       "      <td>24800</td>\n",
       "    </tr>\n",
       "    <tr>\n",
       "      <th>MINI PAINT SET VINTAGE</th>\n",
       "      <td>23891</td>\n",
       "    </tr>\n",
       "    <tr>\n",
       "      <th>VICTORIAN GLASS HANGING T-LIGHT</th>\n",
       "      <td>23854</td>\n",
       "    </tr>\n",
       "    <tr>\n",
       "      <th>PACK OF 12 LONDON TISSUES</th>\n",
       "      <td>23519</td>\n",
       "    </tr>\n",
       "  </tbody>\n",
       "</table>\n",
       "</div>"
      ],
      "text/plain": [
       "                                    Quantity\n",
       "Description                                 \n",
       "JUMBO BAG RED RETROSPOT                46159\n",
       "WORLD WAR 2 GLIDERS ASSTD DESIGNS      34887\n",
       "WHITE HANGING HEART T-LIGHT HOLDER     33383\n",
       "ASSORTED COLOUR BIRD ORNAMENT          32301\n",
       "PACK OF 72 RETROSPOT CAKE CASES        32199\n",
       "POPCORN HOLDER                         26792\n",
       "RABBIT NIGHT LIGHT                     24800\n",
       "MINI PAINT SET VINTAGE                 23891\n",
       "VICTORIAN GLASS HANGING T-LIGHT        23854\n",
       "PACK OF 12 LONDON TISSUES              23519"
      ]
     },
     "execution_count": 403,
     "metadata": {},
     "output_type": "execute_result"
    }
   ],
   "source": [
    "#Using description to identify a unique product and thereby figuring out the most ordered products\n",
    "df.groupby(\"Description\").agg({\"Quantity\":\"sum\"}).sort_values(\"Quantity\", ascending = False).head(10)"
   ]
  },
  {
   "cell_type": "code",
   "execution_count": 404,
   "id": "dfa8a657-3b67-40d5-8df5-1f2a56293f89",
   "metadata": {},
   "outputs": [
    {
     "data": {
      "text/html": [
       "<div>\n",
       "<style scoped>\n",
       "    .dataframe tbody tr th:only-of-type {\n",
       "        vertical-align: middle;\n",
       "    }\n",
       "\n",
       "    .dataframe tbody tr th {\n",
       "        vertical-align: top;\n",
       "    }\n",
       "\n",
       "    .dataframe thead th {\n",
       "        text-align: right;\n",
       "    }\n",
       "</style>\n",
       "<table border=\"1\" class=\"dataframe\">\n",
       "  <thead>\n",
       "    <tr style=\"text-align: right;\">\n",
       "      <th></th>\n",
       "      <th>InvoiceNo</th>\n",
       "      <th>StockCode</th>\n",
       "      <th>Description</th>\n",
       "      <th>Quantity</th>\n",
       "      <th>InvoiceDate</th>\n",
       "      <th>UnitPrice</th>\n",
       "      <th>CustomerID</th>\n",
       "      <th>Country</th>\n",
       "      <th>FinalPrice</th>\n",
       "      <th>InvoiceMonth</th>\n",
       "      <th>Day of week</th>\n",
       "    </tr>\n",
       "  </thead>\n",
       "  <tbody>\n",
       "    <tr>\n",
       "      <th>178880</th>\n",
       "      <td>C552568</td>\n",
       "      <td>84077</td>\n",
       "      <td>WORLD WAR 2 GLIDERS ASSTD DESIGNS</td>\n",
       "      <td>-960</td>\n",
       "      <td>2011-05-10 12:04</td>\n",
       "      <td>0.29</td>\n",
       "      <td>12901</td>\n",
       "      <td>UNITED KINGDOM</td>\n",
       "      <td>-278.4</td>\n",
       "      <td>May</td>\n",
       "      <td>Tuesday</td>\n",
       "    </tr>\n",
       "    <tr>\n",
       "      <th>383399</th>\n",
       "      <td>C570556</td>\n",
       "      <td>22147</td>\n",
       "      <td>FELTCRAFT BUTTERFLY HEARTS</td>\n",
       "      <td>-840</td>\n",
       "      <td>2011-10-11 11:10</td>\n",
       "      <td>1.45</td>\n",
       "      <td>16029</td>\n",
       "      <td>UNITED KINGDOM</td>\n",
       "      <td>-1218.0</td>\n",
       "      <td>October</td>\n",
       "      <td>Tuesday</td>\n",
       "    </tr>\n",
       "    <tr>\n",
       "      <th>298412</th>\n",
       "      <td>C563577</td>\n",
       "      <td>21877</td>\n",
       "      <td>HOME SWEET HOME MUG</td>\n",
       "      <td>-828</td>\n",
       "      <td>2011-08-17 15:06</td>\n",
       "      <td>1.25</td>\n",
       "      <td>17949</td>\n",
       "      <td>UNITED KINGDOM</td>\n",
       "      <td>-1035.0</td>\n",
       "      <td>August</td>\n",
       "      <td>Wednesday</td>\n",
       "    </tr>\n",
       "    <tr>\n",
       "      <th>343103</th>\n",
       "      <td>C567527</td>\n",
       "      <td>23113</td>\n",
       "      <td>PANTRY CHOPPING BOARD</td>\n",
       "      <td>-756</td>\n",
       "      <td>2011-09-21 09:16</td>\n",
       "      <td>4.95</td>\n",
       "      <td>17450</td>\n",
       "      <td>UNITED KINGDOM</td>\n",
       "      <td>-3742.2</td>\n",
       "      <td>September</td>\n",
       "      <td>Wednesday</td>\n",
       "    </tr>\n",
       "    <tr>\n",
       "      <th>383397</th>\n",
       "      <td>C570556</td>\n",
       "      <td>22273</td>\n",
       "      <td>FELTCRAFT DOLL MOLLY</td>\n",
       "      <td>-720</td>\n",
       "      <td>2011-10-11 11:10</td>\n",
       "      <td>2.95</td>\n",
       "      <td>16029</td>\n",
       "      <td>UNITED KINGDOM</td>\n",
       "      <td>-2124.0</td>\n",
       "      <td>October</td>\n",
       "      <td>Tuesday</td>\n",
       "    </tr>\n",
       "  </tbody>\n",
       "</table>\n",
       "</div>"
      ],
      "text/plain": [
       "       InvoiceNo StockCode                        Description  Quantity  \\\n",
       "178880   C552568     84077  WORLD WAR 2 GLIDERS ASSTD DESIGNS      -960   \n",
       "383399   C570556     22147         FELTCRAFT BUTTERFLY HEARTS      -840   \n",
       "298412   C563577     21877                HOME SWEET HOME MUG      -828   \n",
       "343103   C567527     23113              PANTRY CHOPPING BOARD      -756   \n",
       "383397   C570556     22273               FELTCRAFT DOLL MOLLY      -720   \n",
       "\n",
       "             InvoiceDate  UnitPrice  CustomerID         Country  FinalPrice  \\\n",
       "178880  2011-05-10 12:04       0.29       12901  UNITED KINGDOM      -278.4   \n",
       "383399  2011-10-11 11:10       1.45       16029  UNITED KINGDOM     -1218.0   \n",
       "298412  2011-08-17 15:06       1.25       17949  UNITED KINGDOM     -1035.0   \n",
       "343103  2011-09-21 09:16       4.95       17450  UNITED KINGDOM     -3742.2   \n",
       "383397  2011-10-11 11:10       2.95       16029  UNITED KINGDOM     -2124.0   \n",
       "\n",
       "       InvoiceMonth Day of week  \n",
       "178880          May     Tuesday  \n",
       "383399      October     Tuesday  \n",
       "298412       August   Wednesday  \n",
       "343103    September   Wednesday  \n",
       "383397      October     Tuesday  "
      ]
     },
     "execution_count": 404,
     "metadata": {},
     "output_type": "execute_result"
    }
   ],
   "source": [
    "df.sort_values('Quantity', ascending = True).head()"
   ]
  },
  {
   "cell_type": "code",
   "execution_count": 405,
   "id": "0b77cdf7-3c8d-4be9-8da2-5fa7462126ab",
   "metadata": {},
   "outputs": [
    {
     "data": {
      "text/html": [
       "<div>\n",
       "<style scoped>\n",
       "    .dataframe tbody tr th:only-of-type {\n",
       "        vertical-align: middle;\n",
       "    }\n",
       "\n",
       "    .dataframe tbody tr th {\n",
       "        vertical-align: top;\n",
       "    }\n",
       "\n",
       "    .dataframe thead th {\n",
       "        text-align: right;\n",
       "    }\n",
       "</style>\n",
       "<table border=\"1\" class=\"dataframe\">\n",
       "  <thead>\n",
       "    <tr style=\"text-align: right;\">\n",
       "      <th></th>\n",
       "      <th>Quantity</th>\n",
       "      <th>UnitPrice</th>\n",
       "    </tr>\n",
       "  </thead>\n",
       "  <tbody>\n",
       "    <tr>\n",
       "      <th>count</th>\n",
       "      <td>8606.000000</td>\n",
       "      <td>8606.000000</td>\n",
       "    </tr>\n",
       "    <tr>\n",
       "      <th>mean</th>\n",
       "      <td>-10.880781</td>\n",
       "      <td>3.941715</td>\n",
       "    </tr>\n",
       "    <tr>\n",
       "      <th>std</th>\n",
       "      <td>41.033142</td>\n",
       "      <td>3.583461</td>\n",
       "    </tr>\n",
       "    <tr>\n",
       "      <th>min</th>\n",
       "      <td>-960.000000</td>\n",
       "      <td>0.080000</td>\n",
       "    </tr>\n",
       "    <tr>\n",
       "      <th>25%</th>\n",
       "      <td>-6.000000</td>\n",
       "      <td>1.450000</td>\n",
       "    </tr>\n",
       "    <tr>\n",
       "      <th>50%</th>\n",
       "      <td>-2.000000</td>\n",
       "      <td>2.950000</td>\n",
       "    </tr>\n",
       "    <tr>\n",
       "      <th>75%</th>\n",
       "      <td>-1.000000</td>\n",
       "      <td>4.950000</td>\n",
       "    </tr>\n",
       "    <tr>\n",
       "      <th>max</th>\n",
       "      <td>-1.000000</td>\n",
       "      <td>16.950000</td>\n",
       "    </tr>\n",
       "  </tbody>\n",
       "</table>\n",
       "</div>"
      ],
      "text/plain": [
       "          Quantity    UnitPrice\n",
       "count  8606.000000  8606.000000\n",
       "mean    -10.880781     3.941715\n",
       "std      41.033142     3.583461\n",
       "min    -960.000000     0.080000\n",
       "25%      -6.000000     1.450000\n",
       "50%      -2.000000     2.950000\n",
       "75%      -1.000000     4.950000\n",
       "max      -1.000000    16.950000"
      ]
     },
     "execution_count": 405,
     "metadata": {},
     "output_type": "execute_result"
    }
   ],
   "source": [
    "df[df['InvoiceNo'].str.contains('C')].describe().iloc[:,:2]"
   ]
  },
  {
   "cell_type": "markdown",
   "id": "8df7bc75-a351-41f5-a1d5-4eb802be03fe",
   "metadata": {},
   "source": [
    "We want to know what is the most returned item\n"
   ]
  },
  {
   "cell_type": "code",
   "execution_count": 406,
   "id": "516f755b-892d-434b-adf2-75de89641956",
   "metadata": {},
   "outputs": [
    {
     "data": {
      "text/html": [
       "<div>\n",
       "<style scoped>\n",
       "    .dataframe tbody tr th:only-of-type {\n",
       "        vertical-align: middle;\n",
       "    }\n",
       "\n",
       "    .dataframe tbody tr th {\n",
       "        vertical-align: top;\n",
       "    }\n",
       "\n",
       "    .dataframe thead th {\n",
       "        text-align: right;\n",
       "    }\n",
       "</style>\n",
       "<table border=\"1\" class=\"dataframe\">\n",
       "  <thead>\n",
       "    <tr style=\"text-align: right;\">\n",
       "      <th></th>\n",
       "      <th>Quantity</th>\n",
       "      <th>UnitPrice</th>\n",
       "      <th>FinalPrice</th>\n",
       "    </tr>\n",
       "    <tr>\n",
       "      <th>Description</th>\n",
       "      <th></th>\n",
       "      <th></th>\n",
       "      <th></th>\n",
       "    </tr>\n",
       "  </thead>\n",
       "  <tbody>\n",
       "    <tr>\n",
       "      <th>FELTCRAFT DOLL MOLLY</th>\n",
       "      <td>-1447</td>\n",
       "      <td>2.95</td>\n",
       "      <td>-4268.65</td>\n",
       "    </tr>\n",
       "    <tr>\n",
       "      <th>WORLD WAR 2 GLIDERS ASSTD DESIGNS</th>\n",
       "      <td>-1200</td>\n",
       "      <td>0.29</td>\n",
       "      <td>-348.00</td>\n",
       "    </tr>\n",
       "    <tr>\n",
       "      <th>COLOUR GLASS STAR T-LIGHT HOLDER</th>\n",
       "      <td>-1174</td>\n",
       "      <td>3.25</td>\n",
       "      <td>-3815.50</td>\n",
       "    </tr>\n",
       "    <tr>\n",
       "      <th>JUMBO BAG RED RETROSPOT</th>\n",
       "      <td>-1115</td>\n",
       "      <td>2.08</td>\n",
       "      <td>-2319.20</td>\n",
       "    </tr>\n",
       "    <tr>\n",
       "      <th>HOME SWEET HOME MUG</th>\n",
       "      <td>-1052</td>\n",
       "      <td>1.25</td>\n",
       "      <td>-1315.00</td>\n",
       "    </tr>\n",
       "  </tbody>\n",
       "</table>\n",
       "</div>"
      ],
      "text/plain": [
       "                                   Quantity  UnitPrice  FinalPrice\n",
       "Description                                                       \n",
       "FELTCRAFT DOLL MOLLY                  -1447       2.95    -4268.65\n",
       "WORLD WAR 2 GLIDERS ASSTD DESIGNS     -1200       0.29     -348.00\n",
       "COLOUR GLASS STAR T-LIGHT HOLDER      -1174       3.25    -3815.50\n",
       "JUMBO BAG RED RETROSPOT               -1115       2.08    -2319.20\n",
       "HOME SWEET HOME MUG                   -1052       1.25    -1315.00"
      ]
     },
     "execution_count": 406,
     "metadata": {},
     "output_type": "execute_result"
    }
   ],
   "source": [
    "\n",
    "return_data = df[df['InvoiceNo'].str.contains('C')]\n",
    "return_data_aggregated = return_data.groupby('Description',sort=False).agg({'Quantity':'sum','UnitPrice':'max','FinalPrice':'sum'})\n",
    "return_data_aggregated.sort_values('Quantity',ascending=True).head()"
   ]
  },
  {
   "cell_type": "markdown",
   "id": "c1b7d5c3-4606-454f-aa6a-2601b57685e4",
   "metadata": {},
   "source": [
    "The invoices starting with C are having negative quantity.\n",
    "Those are returns. We want to do our analysis on purchase data only"
   ]
  },
  {
   "cell_type": "code",
   "execution_count": 407,
   "id": "d97dea39-cfa0-4d7f-af01-5bc2a8568ad1",
   "metadata": {},
   "outputs": [],
   "source": [
    "purchase_data = df[~(df['InvoiceNo'].str.contains('C'))]"
   ]
  },
  {
   "cell_type": "code",
   "execution_count": 408,
   "id": "47fe500e-11c6-43fc-bd6f-3c02a690637d",
   "metadata": {},
   "outputs": [
    {
     "name": "stdout",
     "output_type": "stream",
     "text": [
      "<class 'pandas.core.frame.DataFrame'>\n",
      "Int64Index: 524214 entries, 0 to 532819\n",
      "Data columns (total 11 columns):\n",
      " #   Column        Non-Null Count   Dtype  \n",
      "---  ------        --------------   -----  \n",
      " 0   InvoiceNo     524214 non-null  object \n",
      " 1   StockCode     524214 non-null  object \n",
      " 2   Description   524214 non-null  object \n",
      " 3   Quantity      524214 non-null  int64  \n",
      " 4   InvoiceDate   524214 non-null  object \n",
      " 5   UnitPrice     524214 non-null  float64\n",
      " 6   CustomerID    395448 non-null  Int64  \n",
      " 7   Country       524214 non-null  object \n",
      " 8   FinalPrice    524214 non-null  float64\n",
      " 9   InvoiceMonth  524214 non-null  object \n",
      " 10  Day of week   524214 non-null  object \n",
      "dtypes: Int64(1), float64(2), int64(1), object(7)\n",
      "memory usage: 48.5+ MB\n"
     ]
    }
   ],
   "source": [
    "purchase_data.info()"
   ]
  },
  {
   "cell_type": "code",
   "execution_count": 409,
   "id": "add233c2-7c21-472d-bc84-697c0c8f9713",
   "metadata": {},
   "outputs": [
    {
     "data": {
      "text/html": [
       "<div>\n",
       "<style scoped>\n",
       "    .dataframe tbody tr th:only-of-type {\n",
       "        vertical-align: middle;\n",
       "    }\n",
       "\n",
       "    .dataframe tbody tr th {\n",
       "        vertical-align: top;\n",
       "    }\n",
       "\n",
       "    .dataframe thead th {\n",
       "        text-align: right;\n",
       "    }\n",
       "</style>\n",
       "<table border=\"1\" class=\"dataframe\">\n",
       "  <thead>\n",
       "    <tr style=\"text-align: right;\">\n",
       "      <th></th>\n",
       "      <th>Quantity</th>\n",
       "      <th>UnitPrice</th>\n",
       "    </tr>\n",
       "  </thead>\n",
       "  <tbody>\n",
       "    <tr>\n",
       "      <th>count</th>\n",
       "      <td>524214.000000</td>\n",
       "      <td>524214.000000</td>\n",
       "    </tr>\n",
       "    <tr>\n",
       "      <th>mean</th>\n",
       "      <td>10.020499</td>\n",
       "      <td>2.690628</td>\n",
       "    </tr>\n",
       "    <tr>\n",
       "      <th>std</th>\n",
       "      <td>28.577186</td>\n",
       "      <td>2.576746</td>\n",
       "    </tr>\n",
       "    <tr>\n",
       "      <th>min</th>\n",
       "      <td>1.000000</td>\n",
       "      <td>0.040000</td>\n",
       "    </tr>\n",
       "    <tr>\n",
       "      <th>25%</th>\n",
       "      <td>1.000000</td>\n",
       "      <td>1.250000</td>\n",
       "    </tr>\n",
       "    <tr>\n",
       "      <th>50%</th>\n",
       "      <td>4.000000</td>\n",
       "      <td>1.690000</td>\n",
       "    </tr>\n",
       "    <tr>\n",
       "      <th>75%</th>\n",
       "      <td>12.000000</td>\n",
       "      <td>3.350000</td>\n",
       "    </tr>\n",
       "    <tr>\n",
       "      <th>max</th>\n",
       "      <td>1056.000000</td>\n",
       "      <td>16.950000</td>\n",
       "    </tr>\n",
       "  </tbody>\n",
       "</table>\n",
       "</div>"
      ],
      "text/plain": [
       "            Quantity      UnitPrice\n",
       "count  524214.000000  524214.000000\n",
       "mean       10.020499       2.690628\n",
       "std        28.577186       2.576746\n",
       "min         1.000000       0.040000\n",
       "25%         1.000000       1.250000\n",
       "50%         4.000000       1.690000\n",
       "75%        12.000000       3.350000\n",
       "max      1056.000000      16.950000"
      ]
     },
     "execution_count": 409,
     "metadata": {},
     "output_type": "execute_result"
    }
   ],
   "source": [
    "purchase_data.describe().iloc[:,:2]"
   ]
  },
  {
   "cell_type": "markdown",
   "id": "569ea503-546c-434e-833f-eb0532b430e8",
   "metadata": {},
   "source": [
    "Analysis of revenue and invoices generated per country"
   ]
  },
  {
   "cell_type": "code",
   "execution_count": 410,
   "id": "9f5a36d6-b2f3-4e7e-bc2c-fd29d2026a4c",
   "metadata": {},
   "outputs": [
    {
     "data": {
      "text/plain": [
       "UNITED KINGDOM          480554\n",
       "GERMANY                   8644\n",
       "FRANCE                    8095\n",
       "EIRE                      7762\n",
       "SPAIN                     2436\n",
       "NETHERLANDS               2310\n",
       "SWITZERLAND               1919\n",
       "BELGIUM                   1905\n",
       "PORTUGAL                  1461\n",
       "AUSTRALIA                 1249\n",
       "NORWAY                    1043\n",
       "CHANNEL ISLANDS            742\n",
       "ITALY                      740\n",
       "FINLAND                    646\n",
       "CYPRUS                     567\n",
       "UNSPECIFIED                446\n",
       "SWEDEN                     428\n",
       "DENMARK                    382\n",
       "AUSTRIA                    357\n",
       "POLAND                     322\n",
       "JAPAN                      319\n",
       "ISRAEL                     292\n",
       "HONG KONG                  277\n",
       "SINGAPORE                  213\n",
       "ICELAND                    182\n",
       "USA                        179\n",
       "CANADA                     150\n",
       "GREECE                     141\n",
       "MALTA                      109\n",
       "UNITED ARAB EMIRATES        67\n",
       "EUROPEAN COMMUNITY          57\n",
       "RSA                         57\n",
       "LEBANON                     45\n",
       "LITHUANIA                   35\n",
       "BRAZIL                      32\n",
       "CZECH REPUBLIC              24\n",
       "BAHRAIN                     18\n",
       "SAUDI ARABIA                 9\n",
       "Name: Country, dtype: int64"
      ]
     },
     "execution_count": 410,
     "metadata": {},
     "output_type": "execute_result"
    }
   ],
   "source": [
    "purchase_data[\"Country\"].value_counts()"
   ]
  },
  {
   "cell_type": "code",
   "execution_count": 411,
   "id": "6a797cbb-a09b-4efc-9299-51bbdce164a8",
   "metadata": {},
   "outputs": [
    {
     "data": {
      "text/html": [
       "<div>\n",
       "<style scoped>\n",
       "    .dataframe tbody tr th:only-of-type {\n",
       "        vertical-align: middle;\n",
       "    }\n",
       "\n",
       "    .dataframe tbody tr th {\n",
       "        vertical-align: top;\n",
       "    }\n",
       "\n",
       "    .dataframe thead th {\n",
       "        text-align: right;\n",
       "    }\n",
       "</style>\n",
       "<table border=\"1\" class=\"dataframe\">\n",
       "  <thead>\n",
       "    <tr style=\"text-align: right;\">\n",
       "      <th></th>\n",
       "      <th>FinalPrice</th>\n",
       "    </tr>\n",
       "    <tr>\n",
       "      <th>Country</th>\n",
       "      <th></th>\n",
       "    </tr>\n",
       "  </thead>\n",
       "  <tbody>\n",
       "    <tr>\n",
       "      <th>UNITED KINGDOM</th>\n",
       "      <td>8203860.00</td>\n",
       "    </tr>\n",
       "    <tr>\n",
       "      <th>NETHERLANDS</th>\n",
       "      <td>322002.45</td>\n",
       "    </tr>\n",
       "    <tr>\n",
       "      <th>EIRE</th>\n",
       "      <td>293098.79</td>\n",
       "    </tr>\n",
       "    <tr>\n",
       "      <th>GERMANY</th>\n",
       "      <td>214836.92</td>\n",
       "    </tr>\n",
       "    <tr>\n",
       "      <th>FRANCE</th>\n",
       "      <td>191449.11</td>\n",
       "    </tr>\n",
       "  </tbody>\n",
       "</table>\n",
       "</div>"
      ],
      "text/plain": [
       "                FinalPrice\n",
       "Country                   \n",
       "UNITED KINGDOM  8203860.00\n",
       "NETHERLANDS      322002.45\n",
       "EIRE             293098.79\n",
       "GERMANY          214836.92\n",
       "FRANCE           191449.11"
      ]
     },
     "execution_count": 411,
     "metadata": {},
     "output_type": "execute_result"
    }
   ],
   "source": [
    "purchase_data.groupby(\"Country\").agg({\"FinalPrice\":\"sum\"}).sort_values(\"FinalPrice\", ascending = False).head()"
   ]
  },
  {
   "cell_type": "markdown",
   "id": "bcf13847-5d70-4060-b3d1-e14334f4bb06",
   "metadata": {},
   "source": [
    "After deciding to go ahead with only the data belonging to purchases, we are further preparing the data"
   ]
  },
  {
   "cell_type": "code",
   "execution_count": 412,
   "id": "eebafd75-24d2-4301-bcbc-0c919f351db1",
   "metadata": {},
   "outputs": [
    {
     "data": {
      "text/plain": [
       "InvoiceNo            0\n",
       "StockCode            0\n",
       "Description          0\n",
       "Quantity             0\n",
       "InvoiceDate          0\n",
       "UnitPrice            0\n",
       "CustomerID      128766\n",
       "Country              0\n",
       "FinalPrice           0\n",
       "InvoiceMonth         0\n",
       "Day of week          0\n",
       "dtype: int64"
      ]
     },
     "execution_count": 412,
     "metadata": {},
     "output_type": "execute_result"
    }
   ],
   "source": [
    "purchase_data.isnull().sum()"
   ]
  },
  {
   "cell_type": "markdown",
   "id": "cd1d23ae-f824-44e7-a793-bb7d9e13bd67",
   "metadata": {},
   "source": [
    "We are having customer ID null for 128766 entries in our data of purchases. This could skew our customer segmentation analysis. We decided to drop those data points for now\n"
   ]
  },
  {
   "cell_type": "code",
   "execution_count": 413,
   "id": "d5fb2b73-04a6-4e18-a26e-cdad7585997d",
   "metadata": {},
   "outputs": [
    {
     "name": "stdout",
     "output_type": "stream",
     "text": [
      "<class 'pandas.core.frame.DataFrame'>\n",
      "Int64Index: 524214 entries, 0 to 532819\n",
      "Data columns (total 11 columns):\n",
      " #   Column        Non-Null Count   Dtype  \n",
      "---  ------        --------------   -----  \n",
      " 0   InvoiceNo     524214 non-null  object \n",
      " 1   StockCode     524214 non-null  object \n",
      " 2   Description   524214 non-null  object \n",
      " 3   Quantity      524214 non-null  int64  \n",
      " 4   InvoiceDate   524214 non-null  object \n",
      " 5   UnitPrice     524214 non-null  float64\n",
      " 6   CustomerID    395448 non-null  Int64  \n",
      " 7   Country       524214 non-null  object \n",
      " 8   FinalPrice    524214 non-null  float64\n",
      " 9   InvoiceMonth  524214 non-null  object \n",
      " 10  Day of week   524214 non-null  object \n",
      "dtypes: Int64(1), float64(2), int64(1), object(7)\n",
      "memory usage: 48.5+ MB\n"
     ]
    }
   ],
   "source": [
    "purchase_data.info()"
   ]
  },
  {
   "cell_type": "code",
   "execution_count": 414,
   "id": "c34a0e13-cc2d-4feb-aaec-7beabb258acb",
   "metadata": {},
   "outputs": [],
   "source": [
    "purchase_data.dropna(inplace = True)"
   ]
  },
  {
   "cell_type": "code",
   "execution_count": 415,
   "id": "7770d98b-eac3-4a12-bd9c-a78f5a22013f",
   "metadata": {},
   "outputs": [
    {
     "name": "stdout",
     "output_type": "stream",
     "text": [
      "<class 'pandas.core.frame.DataFrame'>\n",
      "Int64Index: 395448 entries, 0 to 532819\n",
      "Data columns (total 11 columns):\n",
      " #   Column        Non-Null Count   Dtype  \n",
      "---  ------        --------------   -----  \n",
      " 0   InvoiceNo     395448 non-null  object \n",
      " 1   StockCode     395448 non-null  object \n",
      " 2   Description   395448 non-null  object \n",
      " 3   Quantity      395448 non-null  int64  \n",
      " 4   InvoiceDate   395448 non-null  object \n",
      " 5   UnitPrice     395448 non-null  float64\n",
      " 6   CustomerID    395448 non-null  Int64  \n",
      " 7   Country       395448 non-null  object \n",
      " 8   FinalPrice    395448 non-null  float64\n",
      " 9   InvoiceMonth  395448 non-null  object \n",
      " 10  Day of week   395448 non-null  object \n",
      "dtypes: Int64(1), float64(2), int64(1), object(7)\n",
      "memory usage: 36.6+ MB\n"
     ]
    }
   ],
   "source": [
    "purchase_data.info()"
   ]
  },
  {
   "cell_type": "code",
   "execution_count": 416,
   "id": "b9df1e65-00a3-452b-97f1-8b85dde3ec71",
   "metadata": {},
   "outputs": [
    {
     "data": {
      "text/plain": [
       "InvoiceNo       0\n",
       "StockCode       0\n",
       "Description     0\n",
       "Quantity        0\n",
       "InvoiceDate     0\n",
       "UnitPrice       0\n",
       "CustomerID      0\n",
       "Country         0\n",
       "FinalPrice      0\n",
       "InvoiceMonth    0\n",
       "Day of week     0\n",
       "dtype: int64"
      ]
     },
     "execution_count": 416,
     "metadata": {},
     "output_type": "execute_result"
    }
   ],
   "source": [
    "purchase_data.isnull().sum()"
   ]
  },
  {
   "cell_type": "code",
   "execution_count": 417,
   "id": "52fbae68-8f35-41bc-9b51-87c5e2ac27e4",
   "metadata": {},
   "outputs": [
    {
     "data": {
      "text/plain": [
       "(395448, 11)"
      ]
     },
     "execution_count": 417,
     "metadata": {},
     "output_type": "execute_result"
    }
   ],
   "source": [
    "purchase_data.shape"
   ]
  },
  {
   "cell_type": "code",
   "execution_count": 418,
   "id": "15fe5e5f-8408-4800-a479-42fd0e295973",
   "metadata": {},
   "outputs": [
    {
     "data": {
      "text/html": [
       "<div>\n",
       "<style scoped>\n",
       "    .dataframe tbody tr th:only-of-type {\n",
       "        vertical-align: middle;\n",
       "    }\n",
       "\n",
       "    .dataframe tbody tr th {\n",
       "        vertical-align: top;\n",
       "    }\n",
       "\n",
       "    .dataframe thead th {\n",
       "        text-align: right;\n",
       "    }\n",
       "</style>\n",
       "<table border=\"1\" class=\"dataframe\">\n",
       "  <thead>\n",
       "    <tr style=\"text-align: right;\">\n",
       "      <th></th>\n",
       "      <th>count</th>\n",
       "      <th>mean</th>\n",
       "      <th>std</th>\n",
       "      <th>min</th>\n",
       "      <th>25%</th>\n",
       "      <th>50%</th>\n",
       "      <th>75%</th>\n",
       "      <th>max</th>\n",
       "    </tr>\n",
       "  </thead>\n",
       "  <tbody>\n",
       "    <tr>\n",
       "      <th>Quantity</th>\n",
       "      <td>395448.0</td>\n",
       "      <td>12.240472</td>\n",
       "      <td>32.128702</td>\n",
       "      <td>1.00</td>\n",
       "      <td>2.00</td>\n",
       "      <td>6.00</td>\n",
       "      <td>12.00</td>\n",
       "      <td>1056.00</td>\n",
       "    </tr>\n",
       "    <tr>\n",
       "      <th>UnitPrice</th>\n",
       "      <td>395448.0</td>\n",
       "      <td>2.798003</td>\n",
       "      <td>2.710147</td>\n",
       "      <td>0.04</td>\n",
       "      <td>1.25</td>\n",
       "      <td>1.95</td>\n",
       "      <td>3.75</td>\n",
       "      <td>16.95</td>\n",
       "    </tr>\n",
       "  </tbody>\n",
       "</table>\n",
       "</div>"
      ],
      "text/plain": [
       "              count       mean        std   min   25%   50%    75%      max\n",
       "Quantity   395448.0  12.240472  32.128702  1.00  2.00  6.00  12.00  1056.00\n",
       "UnitPrice  395448.0   2.798003   2.710147  0.04  1.25  1.95   3.75    16.95"
      ]
     },
     "execution_count": 418,
     "metadata": {},
     "output_type": "execute_result"
    }
   ],
   "source": [
    "purchase_data.describe().iloc[:,:2].T"
   ]
  },
  {
   "cell_type": "markdown",
   "id": "968d2ba1-7ea9-4937-a6e8-609c23525770",
   "metadata": {},
   "source": [
    "RFM Analysis on Purchase data in the Online Retail Dataset"
   ]
  },
  {
   "cell_type": "code",
   "execution_count": 419,
   "id": "a6e51fc8-027b-4bef-a6e3-b51489cbd78a",
   "metadata": {},
   "outputs": [
    {
     "data": {
      "text/html": [
       "<div>\n",
       "<style scoped>\n",
       "    .dataframe tbody tr th:only-of-type {\n",
       "        vertical-align: middle;\n",
       "    }\n",
       "\n",
       "    .dataframe tbody tr th {\n",
       "        vertical-align: top;\n",
       "    }\n",
       "\n",
       "    .dataframe thead th {\n",
       "        text-align: right;\n",
       "    }\n",
       "</style>\n",
       "<table border=\"1\" class=\"dataframe\">\n",
       "  <thead>\n",
       "    <tr style=\"text-align: right;\">\n",
       "      <th></th>\n",
       "      <th>InvoiceNo</th>\n",
       "      <th>StockCode</th>\n",
       "      <th>Description</th>\n",
       "      <th>Quantity</th>\n",
       "      <th>InvoiceDate</th>\n",
       "      <th>UnitPrice</th>\n",
       "      <th>CustomerID</th>\n",
       "      <th>Country</th>\n",
       "      <th>FinalPrice</th>\n",
       "      <th>InvoiceMonth</th>\n",
       "      <th>Day of week</th>\n",
       "    </tr>\n",
       "  </thead>\n",
       "  <tbody>\n",
       "    <tr>\n",
       "      <th>0</th>\n",
       "      <td>536365</td>\n",
       "      <td>85123A</td>\n",
       "      <td>WHITE HANGING HEART T-LIGHT HOLDER</td>\n",
       "      <td>6</td>\n",
       "      <td>2010-12-01 08:26</td>\n",
       "      <td>2.95</td>\n",
       "      <td>17850</td>\n",
       "      <td>UNITED KINGDOM</td>\n",
       "      <td>17.7</td>\n",
       "      <td>December</td>\n",
       "      <td>Wednesday</td>\n",
       "    </tr>\n",
       "    <tr>\n",
       "      <th>1</th>\n",
       "      <td>536365</td>\n",
       "      <td>71053</td>\n",
       "      <td>WHITE METAL LANTERN</td>\n",
       "      <td>6</td>\n",
       "      <td>2010-12-01 08:26</td>\n",
       "      <td>3.75</td>\n",
       "      <td>17850</td>\n",
       "      <td>UNITED KINGDOM</td>\n",
       "      <td>22.5</td>\n",
       "      <td>December</td>\n",
       "      <td>Wednesday</td>\n",
       "    </tr>\n",
       "    <tr>\n",
       "      <th>2</th>\n",
       "      <td>536365</td>\n",
       "      <td>84406B</td>\n",
       "      <td>CREAM CUPID HEARTS COAT HANGER</td>\n",
       "      <td>8</td>\n",
       "      <td>2010-12-01 08:26</td>\n",
       "      <td>4.15</td>\n",
       "      <td>17850</td>\n",
       "      <td>UNITED KINGDOM</td>\n",
       "      <td>33.2</td>\n",
       "      <td>December</td>\n",
       "      <td>Wednesday</td>\n",
       "    </tr>\n",
       "    <tr>\n",
       "      <th>3</th>\n",
       "      <td>536365</td>\n",
       "      <td>84029G</td>\n",
       "      <td>KNITTED UNION FLAG HOT WATER BOTTLE</td>\n",
       "      <td>6</td>\n",
       "      <td>2010-12-01 08:26</td>\n",
       "      <td>3.75</td>\n",
       "      <td>17850</td>\n",
       "      <td>UNITED KINGDOM</td>\n",
       "      <td>22.5</td>\n",
       "      <td>December</td>\n",
       "      <td>Wednesday</td>\n",
       "    </tr>\n",
       "    <tr>\n",
       "      <th>4</th>\n",
       "      <td>536365</td>\n",
       "      <td>84029E</td>\n",
       "      <td>RED WOOLLY HOTTIE WHITE HEART</td>\n",
       "      <td>6</td>\n",
       "      <td>2010-12-01 08:26</td>\n",
       "      <td>4.25</td>\n",
       "      <td>17850</td>\n",
       "      <td>UNITED KINGDOM</td>\n",
       "      <td>25.5</td>\n",
       "      <td>December</td>\n",
       "      <td>Wednesday</td>\n",
       "    </tr>\n",
       "  </tbody>\n",
       "</table>\n",
       "</div>"
      ],
      "text/plain": [
       "  InvoiceNo StockCode                          Description  Quantity  \\\n",
       "0    536365    85123A   WHITE HANGING HEART T-LIGHT HOLDER         6   \n",
       "1    536365     71053                  WHITE METAL LANTERN         6   \n",
       "2    536365    84406B       CREAM CUPID HEARTS COAT HANGER         8   \n",
       "3    536365    84029G  KNITTED UNION FLAG HOT WATER BOTTLE         6   \n",
       "4    536365    84029E        RED WOOLLY HOTTIE WHITE HEART         6   \n",
       "\n",
       "        InvoiceDate  UnitPrice  CustomerID         Country  FinalPrice  \\\n",
       "0  2010-12-01 08:26       2.95       17850  UNITED KINGDOM        17.7   \n",
       "1  2010-12-01 08:26       3.75       17850  UNITED KINGDOM        22.5   \n",
       "2  2010-12-01 08:26       4.15       17850  UNITED KINGDOM        33.2   \n",
       "3  2010-12-01 08:26       3.75       17850  UNITED KINGDOM        22.5   \n",
       "4  2010-12-01 08:26       4.25       17850  UNITED KINGDOM        25.5   \n",
       "\n",
       "  InvoiceMonth Day of week  \n",
       "0     December   Wednesday  \n",
       "1     December   Wednesday  \n",
       "2     December   Wednesday  \n",
       "3     December   Wednesday  \n",
       "4     December   Wednesday  "
      ]
     },
     "execution_count": 419,
     "metadata": {},
     "output_type": "execute_result"
    }
   ],
   "source": [
    "purchase_data.head()"
   ]
  },
  {
   "cell_type": "code",
   "execution_count": 420,
   "id": "08bdfe00-5b3c-4ad1-9a22-13d7a6335cf9",
   "metadata": {},
   "outputs": [
    {
     "name": "stdout",
     "output_type": "stream",
     "text": [
      "<class 'pandas.core.frame.DataFrame'>\n",
      "Int64Index: 395448 entries, 0 to 532819\n",
      "Data columns (total 11 columns):\n",
      " #   Column        Non-Null Count   Dtype  \n",
      "---  ------        --------------   -----  \n",
      " 0   InvoiceNo     395448 non-null  object \n",
      " 1   StockCode     395448 non-null  object \n",
      " 2   Description   395448 non-null  object \n",
      " 3   Quantity      395448 non-null  int64  \n",
      " 4   InvoiceDate   395448 non-null  object \n",
      " 5   UnitPrice     395448 non-null  float64\n",
      " 6   CustomerID    395448 non-null  Int64  \n",
      " 7   Country       395448 non-null  object \n",
      " 8   FinalPrice    395448 non-null  float64\n",
      " 9   InvoiceMonth  395448 non-null  object \n",
      " 10  Day of week   395448 non-null  object \n",
      "dtypes: Int64(1), float64(2), int64(1), object(7)\n",
      "memory usage: 36.6+ MB\n"
     ]
    }
   ],
   "source": [
    "purchase_data.info()"
   ]
  },
  {
   "cell_type": "markdown",
   "id": "18ae031b-0071-4778-bac6-09d9636eac37",
   "metadata": {},
   "source": [
    "Recency"
   ]
  },
  {
   "cell_type": "code",
   "execution_count": 421,
   "id": "39cc48c0-5caa-4282-826b-3f11aa9a798e",
   "metadata": {},
   "outputs": [
    {
     "data": {
      "text/plain": [
       "'2010-12-01 08:26'"
      ]
     },
     "execution_count": 421,
     "metadata": {},
     "output_type": "execute_result"
    }
   ],
   "source": [
    "purchase_data[\"InvoiceDate\"].min()"
   ]
  },
  {
   "cell_type": "code",
   "execution_count": 422,
   "id": "8887db0c-847c-4db3-9fa9-8db01b0d249a",
   "metadata": {},
   "outputs": [
    {
     "data": {
      "text/plain": [
       "'2011-12-09 12:50'"
      ]
     },
     "execution_count": 422,
     "metadata": {},
     "output_type": "execute_result"
    }
   ],
   "source": [
    "purchase_data[\"InvoiceDate\"].max()"
   ]
  },
  {
   "cell_type": "code",
   "execution_count": 423,
   "id": "b61c3664-27f4-4510-bb58-ecd07041e40a",
   "metadata": {},
   "outputs": [],
   "source": [
    "import datetime as dt\n",
    "last_date = dt.datetime(2011,12,9)"
   ]
  },
  {
   "cell_type": "code",
   "execution_count": 424,
   "id": "2051ca5d-027c-46a4-88fc-f63c3a2b20a3",
   "metadata": {},
   "outputs": [
    {
     "data": {
      "text/plain": [
       "datetime.datetime(2011, 12, 9, 0, 0)"
      ]
     },
     "execution_count": 424,
     "metadata": {},
     "output_type": "execute_result"
    }
   ],
   "source": [
    "last_date"
   ]
  },
  {
   "cell_type": "markdown",
   "id": "ecc59fa9-01da-47b2-9ba0-663dcddf11a4",
   "metadata": {},
   "source": [
    "We are building a recency dataset for each customer"
   ]
  },
  {
   "cell_type": "code",
   "execution_count": 425,
   "id": "7272a5dc-7872-4b65-a798-4d6d5624de97",
   "metadata": {},
   "outputs": [],
   "source": [
    "purchase_data['InvoiceDate'] = pd.to_datetime(purchase_data['InvoiceDate'], format = '%Y-%m-%d %H:%M')"
   ]
  },
  {
   "cell_type": "code",
   "execution_count": 426,
   "id": "a8c88f28-8fa7-4d3d-bd7c-b87ad1ed6f4a",
   "metadata": {},
   "outputs": [],
   "source": [
    "recency_data_for_customers = purchase_data.groupby(\"CustomerID\").agg({\"InvoiceDate\":\"max\"})"
   ]
  },
  {
   "cell_type": "code",
   "execution_count": 427,
   "id": "f8360a18-c1b4-4a37-b95c-89f3e53dfef8",
   "metadata": {},
   "outputs": [
    {
     "data": {
      "text/html": [
       "<div>\n",
       "<style scoped>\n",
       "    .dataframe tbody tr th:only-of-type {\n",
       "        vertical-align: middle;\n",
       "    }\n",
       "\n",
       "    .dataframe tbody tr th {\n",
       "        vertical-align: top;\n",
       "    }\n",
       "\n",
       "    .dataframe thead th {\n",
       "        text-align: right;\n",
       "    }\n",
       "</style>\n",
       "<table border=\"1\" class=\"dataframe\">\n",
       "  <thead>\n",
       "    <tr style=\"text-align: right;\">\n",
       "      <th></th>\n",
       "      <th>InvoiceDate</th>\n",
       "    </tr>\n",
       "    <tr>\n",
       "      <th>CustomerID</th>\n",
       "      <th></th>\n",
       "    </tr>\n",
       "  </thead>\n",
       "  <tbody>\n",
       "    <tr>\n",
       "      <th>12347</th>\n",
       "      <td>2011-12-07 15:52:00</td>\n",
       "    </tr>\n",
       "    <tr>\n",
       "      <th>12348</th>\n",
       "      <td>2011-09-25 13:13:00</td>\n",
       "    </tr>\n",
       "    <tr>\n",
       "      <th>12349</th>\n",
       "      <td>2011-11-21 09:51:00</td>\n",
       "    </tr>\n",
       "    <tr>\n",
       "      <th>12350</th>\n",
       "      <td>2011-02-02 16:01:00</td>\n",
       "    </tr>\n",
       "    <tr>\n",
       "      <th>12352</th>\n",
       "      <td>2011-11-03 14:37:00</td>\n",
       "    </tr>\n",
       "  </tbody>\n",
       "</table>\n",
       "</div>"
      ],
      "text/plain": [
       "                   InvoiceDate\n",
       "CustomerID                    \n",
       "12347      2011-12-07 15:52:00\n",
       "12348      2011-09-25 13:13:00\n",
       "12349      2011-11-21 09:51:00\n",
       "12350      2011-02-02 16:01:00\n",
       "12352      2011-11-03 14:37:00"
      ]
     },
     "execution_count": 427,
     "metadata": {},
     "output_type": "execute_result"
    }
   ],
   "source": [
    "recency_data_for_customers.head()"
   ]
  },
  {
   "cell_type": "code",
   "execution_count": 428,
   "id": "cad96dbb-77fa-4aaf-b7e7-0a136395526a",
   "metadata": {},
   "outputs": [],
   "source": [
    "recency_data_for_customers = (last_date - recency_data_for_customers)"
   ]
  },
  {
   "cell_type": "code",
   "execution_count": 429,
   "id": "d8f53f26-36cc-4fb5-9a3c-55a2c8f32b09",
   "metadata": {},
   "outputs": [],
   "source": [
    "recency_data_for_customers.rename(columns={\"InvoiceDate\": \"Recency\"}, inplace = True)"
   ]
  },
  {
   "cell_type": "code",
   "execution_count": 430,
   "id": "7da870a6-cde5-497c-b8d0-82b92ad85e7c",
   "metadata": {},
   "outputs": [
    {
     "data": {
      "text/html": [
       "<div>\n",
       "<style scoped>\n",
       "    .dataframe tbody tr th:only-of-type {\n",
       "        vertical-align: middle;\n",
       "    }\n",
       "\n",
       "    .dataframe tbody tr th {\n",
       "        vertical-align: top;\n",
       "    }\n",
       "\n",
       "    .dataframe thead th {\n",
       "        text-align: right;\n",
       "    }\n",
       "</style>\n",
       "<table border=\"1\" class=\"dataframe\">\n",
       "  <thead>\n",
       "    <tr style=\"text-align: right;\">\n",
       "      <th></th>\n",
       "      <th>Recency</th>\n",
       "    </tr>\n",
       "    <tr>\n",
       "      <th>CustomerID</th>\n",
       "      <th></th>\n",
       "    </tr>\n",
       "  </thead>\n",
       "  <tbody>\n",
       "    <tr>\n",
       "      <th>12347</th>\n",
       "      <td>1 days 08:08:00</td>\n",
       "    </tr>\n",
       "    <tr>\n",
       "      <th>12348</th>\n",
       "      <td>74 days 10:47:00</td>\n",
       "    </tr>\n",
       "    <tr>\n",
       "      <th>12349</th>\n",
       "      <td>17 days 14:09:00</td>\n",
       "    </tr>\n",
       "    <tr>\n",
       "      <th>12350</th>\n",
       "      <td>309 days 07:59:00</td>\n",
       "    </tr>\n",
       "    <tr>\n",
       "      <th>12352</th>\n",
       "      <td>35 days 09:23:00</td>\n",
       "    </tr>\n",
       "  </tbody>\n",
       "</table>\n",
       "</div>"
      ],
      "text/plain": [
       "                     Recency\n",
       "CustomerID                  \n",
       "12347        1 days 08:08:00\n",
       "12348       74 days 10:47:00\n",
       "12349       17 days 14:09:00\n",
       "12350      309 days 07:59:00\n",
       "12352       35 days 09:23:00"
      ]
     },
     "execution_count": 430,
     "metadata": {},
     "output_type": "execute_result"
    }
   ],
   "source": [
    "recency_data_for_customers.head()"
   ]
  },
  {
   "cell_type": "code",
   "execution_count": 431,
   "id": "2d01a58a-2ad0-4f01-9425-2e051f1c2a83",
   "metadata": {},
   "outputs": [
    {
     "data": {
      "text/plain": [
       "4322"
      ]
     },
     "execution_count": 431,
     "metadata": {},
     "output_type": "execute_result"
    }
   ],
   "source": [
    "purchase_data['CustomerID'].nunique()"
   ]
  },
  {
   "cell_type": "code",
   "execution_count": 432,
   "id": "2aea6d7e-3bf0-4b4f-94e9-5e57e105f121",
   "metadata": {},
   "outputs": [
    {
     "data": {
      "text/plain": [
       "Recency    4322\n",
       "dtype: int64"
      ]
     },
     "execution_count": 432,
     "metadata": {},
     "output_type": "execute_result"
    }
   ],
   "source": [
    "recency_data_for_customers.count()"
   ]
  },
  {
   "cell_type": "markdown",
   "id": "9019f798-589d-4362-9c69-f07521aa9e03",
   "metadata": {},
   "source": [
    "So, we got the recency data for our 4322 customers"
   ]
  },
  {
   "cell_type": "code",
   "execution_count": 433,
   "id": "3a101e10-cc32-4ee6-a295-fde4b0e0b607",
   "metadata": {},
   "outputs": [
    {
     "name": "stdout",
     "output_type": "stream",
     "text": [
      "<class 'pandas.core.frame.DataFrame'>\n",
      "Int64Index: 395448 entries, 0 to 532819\n",
      "Data columns (total 11 columns):\n",
      " #   Column        Non-Null Count   Dtype         \n",
      "---  ------        --------------   -----         \n",
      " 0   InvoiceNo     395448 non-null  object        \n",
      " 1   StockCode     395448 non-null  object        \n",
      " 2   Description   395448 non-null  object        \n",
      " 3   Quantity      395448 non-null  int64         \n",
      " 4   InvoiceDate   395448 non-null  datetime64[ns]\n",
      " 5   UnitPrice     395448 non-null  float64       \n",
      " 6   CustomerID    395448 non-null  Int64         \n",
      " 7   Country       395448 non-null  object        \n",
      " 8   FinalPrice    395448 non-null  float64       \n",
      " 9   InvoiceMonth  395448 non-null  object        \n",
      " 10  Day of week   395448 non-null  object        \n",
      "dtypes: Int64(1), datetime64[ns](1), float64(2), int64(1), object(6)\n",
      "memory usage: 36.6+ MB\n"
     ]
    }
   ],
   "source": [
    "purchase_data.info()"
   ]
  },
  {
   "cell_type": "code",
   "execution_count": 434,
   "id": "17d790d9-c137-48a4-a60f-e0111ab55272",
   "metadata": {},
   "outputs": [],
   "source": [
    "recency = recency_data_for_customers[\"Recency\"].apply(lambda x: x.days)"
   ]
  },
  {
   "cell_type": "code",
   "execution_count": 435,
   "id": "0505af57-4766-40d4-a7df-fdaeb1cf5722",
   "metadata": {},
   "outputs": [
    {
     "data": {
      "text/plain": [
       "CustomerID\n",
       "12347      1\n",
       "12348     74\n",
       "12349     17\n",
       "12350    309\n",
       "12352     35\n",
       "Name: Recency, dtype: int64"
      ]
     },
     "execution_count": 435,
     "metadata": {},
     "output_type": "execute_result"
    }
   ],
   "source": [
    "recency.head()"
   ]
  },
  {
   "cell_type": "markdown",
   "id": "d0a333a8-3b4c-4bbc-8047-151c84d12f1d",
   "metadata": {},
   "source": [
    "Frequency"
   ]
  },
  {
   "cell_type": "markdown",
   "id": "8f22a75e-e20f-4d47-88b8-5df31b3a50aa",
   "metadata": {},
   "source": [
    "We are building the frequency feature for each customer based on the number of unique invoices they are involved in"
   ]
  },
  {
   "cell_type": "code",
   "execution_count": 436,
   "id": "62f470e8-bfa2-4f63-9313-605634f12f2e",
   "metadata": {},
   "outputs": [],
   "source": [
    "frequency_data_for_customers = purchase_data.groupby([\"CustomerID\",\"InvoiceNo\"]).agg({\"InvoiceNo\":\"count\"})"
   ]
  },
  {
   "cell_type": "code",
   "execution_count": 437,
   "id": "228f091e-4490-4608-8734-a4b3c9f19cb6",
   "metadata": {},
   "outputs": [
    {
     "data": {
      "text/html": [
       "<div>\n",
       "<style scoped>\n",
       "    .dataframe tbody tr th:only-of-type {\n",
       "        vertical-align: middle;\n",
       "    }\n",
       "\n",
       "    .dataframe tbody tr th {\n",
       "        vertical-align: top;\n",
       "    }\n",
       "\n",
       "    .dataframe thead th {\n",
       "        text-align: right;\n",
       "    }\n",
       "</style>\n",
       "<table border=\"1\" class=\"dataframe\">\n",
       "  <thead>\n",
       "    <tr style=\"text-align: right;\">\n",
       "      <th></th>\n",
       "      <th></th>\n",
       "      <th>InvoiceNo</th>\n",
       "    </tr>\n",
       "    <tr>\n",
       "      <th>CustomerID</th>\n",
       "      <th>InvoiceNo</th>\n",
       "      <th></th>\n",
       "    </tr>\n",
       "  </thead>\n",
       "  <tbody>\n",
       "    <tr>\n",
       "      <th rowspan=\"7\" valign=\"top\">12347</th>\n",
       "      <th>537626</th>\n",
       "      <td>31</td>\n",
       "    </tr>\n",
       "    <tr>\n",
       "      <th>542237</th>\n",
       "      <td>29</td>\n",
       "    </tr>\n",
       "    <tr>\n",
       "      <th>549222</th>\n",
       "      <td>24</td>\n",
       "    </tr>\n",
       "    <tr>\n",
       "      <th>556201</th>\n",
       "      <td>18</td>\n",
       "    </tr>\n",
       "    <tr>\n",
       "      <th>562032</th>\n",
       "      <td>22</td>\n",
       "    </tr>\n",
       "    <tr>\n",
       "      <th>573511</th>\n",
       "      <td>47</td>\n",
       "    </tr>\n",
       "    <tr>\n",
       "      <th>581180</th>\n",
       "      <td>11</td>\n",
       "    </tr>\n",
       "    <tr>\n",
       "      <th rowspan=\"4\" valign=\"top\">12348</th>\n",
       "      <th>539318</th>\n",
       "      <td>16</td>\n",
       "    </tr>\n",
       "    <tr>\n",
       "      <th>541998</th>\n",
       "      <td>5</td>\n",
       "    </tr>\n",
       "    <tr>\n",
       "      <th>548955</th>\n",
       "      <td>4</td>\n",
       "    </tr>\n",
       "    <tr>\n",
       "      <th>568172</th>\n",
       "      <td>2</td>\n",
       "    </tr>\n",
       "    <tr>\n",
       "      <th>12349</th>\n",
       "      <th>577609</th>\n",
       "      <td>71</td>\n",
       "    </tr>\n",
       "    <tr>\n",
       "      <th>12350</th>\n",
       "      <th>543037</th>\n",
       "      <td>16</td>\n",
       "    </tr>\n",
       "    <tr>\n",
       "      <th rowspan=\"2\" valign=\"top\">12352</th>\n",
       "      <th>544156</th>\n",
       "      <td>15</td>\n",
       "    </tr>\n",
       "    <tr>\n",
       "      <th>545323</th>\n",
       "      <td>4</td>\n",
       "    </tr>\n",
       "  </tbody>\n",
       "</table>\n",
       "</div>"
      ],
      "text/plain": [
       "                      InvoiceNo\n",
       "CustomerID InvoiceNo           \n",
       "12347      537626            31\n",
       "           542237            29\n",
       "           549222            24\n",
       "           556201            18\n",
       "           562032            22\n",
       "           573511            47\n",
       "           581180            11\n",
       "12348      539318            16\n",
       "           541998             5\n",
       "           548955             4\n",
       "           568172             2\n",
       "12349      577609            71\n",
       "12350      543037            16\n",
       "12352      544156            15\n",
       "           545323             4"
      ]
     },
     "execution_count": 437,
     "metadata": {},
     "output_type": "execute_result"
    }
   ],
   "source": [
    "frequency_data_for_customers.head(15)"
   ]
  },
  {
   "cell_type": "code",
   "execution_count": 438,
   "id": "0e1f5c3a-5a6e-4813-be37-89b6ab0fbacb",
   "metadata": {},
   "outputs": [],
   "source": [
    "frequency_data_for_customers = frequency_data_for_customers.groupby(\"CustomerID\").agg({\"InvoiceNo\":\"count\"})\n",
    "frequency_data_for_customers.rename(columns={\"InvoiceNo\": \"Frequency\"}, inplace = True)"
   ]
  },
  {
   "cell_type": "code",
   "execution_count": 439,
   "id": "4d782e3d-1506-40a2-b2a2-02baa97c0a9d",
   "metadata": {},
   "outputs": [
    {
     "data": {
      "text/html": [
       "<div>\n",
       "<style scoped>\n",
       "    .dataframe tbody tr th:only-of-type {\n",
       "        vertical-align: middle;\n",
       "    }\n",
       "\n",
       "    .dataframe tbody tr th {\n",
       "        vertical-align: top;\n",
       "    }\n",
       "\n",
       "    .dataframe thead th {\n",
       "        text-align: right;\n",
       "    }\n",
       "</style>\n",
       "<table border=\"1\" class=\"dataframe\">\n",
       "  <thead>\n",
       "    <tr style=\"text-align: right;\">\n",
       "      <th></th>\n",
       "      <th>Frequency</th>\n",
       "    </tr>\n",
       "    <tr>\n",
       "      <th>CustomerID</th>\n",
       "      <th></th>\n",
       "    </tr>\n",
       "  </thead>\n",
       "  <tbody>\n",
       "    <tr>\n",
       "      <th>12347</th>\n",
       "      <td>7</td>\n",
       "    </tr>\n",
       "    <tr>\n",
       "      <th>12348</th>\n",
       "      <td>4</td>\n",
       "    </tr>\n",
       "    <tr>\n",
       "      <th>12349</th>\n",
       "      <td>1</td>\n",
       "    </tr>\n",
       "    <tr>\n",
       "      <th>12350</th>\n",
       "      <td>1</td>\n",
       "    </tr>\n",
       "    <tr>\n",
       "      <th>12352</th>\n",
       "      <td>7</td>\n",
       "    </tr>\n",
       "  </tbody>\n",
       "</table>\n",
       "</div>"
      ],
      "text/plain": [
       "            Frequency\n",
       "CustomerID           \n",
       "12347               7\n",
       "12348               4\n",
       "12349               1\n",
       "12350               1\n",
       "12352               7"
      ]
     },
     "execution_count": 439,
     "metadata": {},
     "output_type": "execute_result"
    }
   ],
   "source": [
    "frequency_data_for_customers.head()"
   ]
  },
  {
   "cell_type": "markdown",
   "id": "24957f44-0e1a-4032-b8e4-871a8d6ee7d6",
   "metadata": {},
   "source": [
    "\n",
    "Monetary "
   ]
  },
  {
   "cell_type": "markdown",
   "id": "38384f4b-a657-4229-a5c1-a95a4d82293b",
   "metadata": {},
   "source": [
    "We are constructing the Monetary feature for each customer based on the total amount they spent on our online retail store"
   ]
  },
  {
   "cell_type": "code",
   "execution_count": 440,
   "id": "a8492b42-4eaf-4191-97bb-90a12376f73d",
   "metadata": {},
   "outputs": [],
   "source": [
    "monetary_data_for_customers = purchase_data.groupby(\"CustomerID\").agg({\"FinalPrice\":\"sum\"})"
   ]
  },
  {
   "cell_type": "code",
   "execution_count": 441,
   "id": "bfb40719-3365-4367-ada8-a21d707b75aa",
   "metadata": {},
   "outputs": [
    {
     "data": {
      "text/html": [
       "<div>\n",
       "<style scoped>\n",
       "    .dataframe tbody tr th:only-of-type {\n",
       "        vertical-align: middle;\n",
       "    }\n",
       "\n",
       "    .dataframe tbody tr th {\n",
       "        vertical-align: top;\n",
       "    }\n",
       "\n",
       "    .dataframe thead th {\n",
       "        text-align: right;\n",
       "    }\n",
       "</style>\n",
       "<table border=\"1\" class=\"dataframe\">\n",
       "  <thead>\n",
       "    <tr style=\"text-align: right;\">\n",
       "      <th></th>\n",
       "      <th>FinalPrice</th>\n",
       "    </tr>\n",
       "    <tr>\n",
       "      <th>CustomerID</th>\n",
       "      <th></th>\n",
       "    </tr>\n",
       "  </thead>\n",
       "  <tbody>\n",
       "    <tr>\n",
       "      <th>12347</th>\n",
       "      <td>4626.38</td>\n",
       "    </tr>\n",
       "    <tr>\n",
       "      <th>12348</th>\n",
       "      <td>1499.64</td>\n",
       "    </tr>\n",
       "    <tr>\n",
       "      <th>12349</th>\n",
       "      <td>1411.00</td>\n",
       "    </tr>\n",
       "    <tr>\n",
       "      <th>12350</th>\n",
       "      <td>321.16</td>\n",
       "    </tr>\n",
       "    <tr>\n",
       "      <th>12352</th>\n",
       "      <td>1386.94</td>\n",
       "    </tr>\n",
       "  </tbody>\n",
       "</table>\n",
       "</div>"
      ],
      "text/plain": [
       "            FinalPrice\n",
       "CustomerID            \n",
       "12347          4626.38\n",
       "12348          1499.64\n",
       "12349          1411.00\n",
       "12350           321.16\n",
       "12352          1386.94"
      ]
     },
     "execution_count": 441,
     "metadata": {},
     "output_type": "execute_result"
    }
   ],
   "source": [
    "monetary_data_for_customers.head()"
   ]
  },
  {
   "cell_type": "code",
   "execution_count": 442,
   "id": "f6e85f3d-63a3-4281-bbfa-6f56fb84dea2",
   "metadata": {},
   "outputs": [],
   "source": [
    "monetary_data_for_customers.rename(columns={\"FinalPrice\": \"Monetary\"}, inplace = True)"
   ]
  },
  {
   "cell_type": "code",
   "execution_count": 443,
   "id": "3178dedd-f4a9-48c9-9676-9d8bd556463b",
   "metadata": {},
   "outputs": [
    {
     "name": "stdout",
     "output_type": "stream",
     "text": [
      "(4322,) (4322, 1) (4322, 1)\n"
     ]
    }
   ],
   "source": [
    "print(recency.shape,frequency_data_for_customers.shape,monetary_data_for_customers.shape)"
   ]
  },
  {
   "cell_type": "code",
   "execution_count": 444,
   "id": "fce22524-9ca0-49f8-ab09-6de38dfa569e",
   "metadata": {},
   "outputs": [],
   "source": [
    "RFM = pd.concat([recency, frequency_data_for_customers, monetary_data_for_customers],  axis=1)"
   ]
  },
  {
   "cell_type": "code",
   "execution_count": 445,
   "id": "6ef71239-2965-4151-bc6e-d77b2eecc563",
   "metadata": {},
   "outputs": [
    {
     "data": {
      "text/html": [
       "<div>\n",
       "<style scoped>\n",
       "    .dataframe tbody tr th:only-of-type {\n",
       "        vertical-align: middle;\n",
       "    }\n",
       "\n",
       "    .dataframe tbody tr th {\n",
       "        vertical-align: top;\n",
       "    }\n",
       "\n",
       "    .dataframe thead th {\n",
       "        text-align: right;\n",
       "    }\n",
       "</style>\n",
       "<table border=\"1\" class=\"dataframe\">\n",
       "  <thead>\n",
       "    <tr style=\"text-align: right;\">\n",
       "      <th></th>\n",
       "      <th>Recency</th>\n",
       "      <th>Frequency</th>\n",
       "      <th>Monetary</th>\n",
       "    </tr>\n",
       "    <tr>\n",
       "      <th>CustomerID</th>\n",
       "      <th></th>\n",
       "      <th></th>\n",
       "      <th></th>\n",
       "    </tr>\n",
       "  </thead>\n",
       "  <tbody>\n",
       "    <tr>\n",
       "      <th>12347</th>\n",
       "      <td>1</td>\n",
       "      <td>7</td>\n",
       "      <td>4626.38</td>\n",
       "    </tr>\n",
       "    <tr>\n",
       "      <th>12348</th>\n",
       "      <td>74</td>\n",
       "      <td>4</td>\n",
       "      <td>1499.64</td>\n",
       "    </tr>\n",
       "    <tr>\n",
       "      <th>12349</th>\n",
       "      <td>17</td>\n",
       "      <td>1</td>\n",
       "      <td>1411.00</td>\n",
       "    </tr>\n",
       "    <tr>\n",
       "      <th>12350</th>\n",
       "      <td>309</td>\n",
       "      <td>1</td>\n",
       "      <td>321.16</td>\n",
       "    </tr>\n",
       "    <tr>\n",
       "      <th>12352</th>\n",
       "      <td>35</td>\n",
       "      <td>7</td>\n",
       "      <td>1386.94</td>\n",
       "    </tr>\n",
       "  </tbody>\n",
       "</table>\n",
       "</div>"
      ],
      "text/plain": [
       "            Recency  Frequency  Monetary\n",
       "CustomerID                              \n",
       "12347             1          7   4626.38\n",
       "12348            74          4   1499.64\n",
       "12349            17          1   1411.00\n",
       "12350           309          1    321.16\n",
       "12352            35          7   1386.94"
      ]
     },
     "execution_count": 445,
     "metadata": {},
     "output_type": "execute_result"
    }
   ],
   "source": [
    "RFM.head()"
   ]
  },
  {
   "cell_type": "code",
   "execution_count": 446,
   "id": "c89cd2c5-18f5-4110-a2b6-cc30fee4925d",
   "metadata": {},
   "outputs": [
    {
     "data": {
      "text/plain": [
       "Recency      4322\n",
       "Frequency    4322\n",
       "Monetary     4322\n",
       "dtype: int64"
      ]
     },
     "execution_count": 446,
     "metadata": {},
     "output_type": "execute_result"
    }
   ],
   "source": [
    "RFM.count()"
   ]
  },
  {
   "cell_type": "code",
   "execution_count": 447,
   "id": "a19e5fdb-2ca7-4918-a697-28179b1c602e",
   "metadata": {},
   "outputs": [
    {
     "data": {
      "text/plain": [
       "4322"
      ]
     },
     "execution_count": 447,
     "metadata": {},
     "output_type": "execute_result"
    }
   ],
   "source": [
    "purchase_data['CustomerID'].nunique()"
   ]
  },
  {
   "cell_type": "code",
   "execution_count": 448,
   "id": "cf25ca22-18db-4cd4-96c2-e5fe18ab5a19",
   "metadata": {},
   "outputs": [
    {
     "data": {
      "text/html": [
       "<div>\n",
       "<style scoped>\n",
       "    .dataframe tbody tr th:only-of-type {\n",
       "        vertical-align: middle;\n",
       "    }\n",
       "\n",
       "    .dataframe tbody tr th {\n",
       "        vertical-align: top;\n",
       "    }\n",
       "\n",
       "    .dataframe thead th {\n",
       "        text-align: right;\n",
       "    }\n",
       "</style>\n",
       "<table border=\"1\" class=\"dataframe\">\n",
       "  <thead>\n",
       "    <tr style=\"text-align: right;\">\n",
       "      <th></th>\n",
       "      <th>count</th>\n",
       "      <th>mean</th>\n",
       "      <th>std</th>\n",
       "      <th>min</th>\n",
       "      <th>20%</th>\n",
       "      <th>30%</th>\n",
       "      <th>40%</th>\n",
       "      <th>50%</th>\n",
       "      <th>60%</th>\n",
       "      <th>80%</th>\n",
       "      <th>max</th>\n",
       "    </tr>\n",
       "  </thead>\n",
       "  <tbody>\n",
       "    <tr>\n",
       "      <th>Recency</th>\n",
       "      <td>4322.0</td>\n",
       "      <td>91.025683</td>\n",
       "      <td>99.949471</td>\n",
       "      <td>-1.0</td>\n",
       "      <td>13.000</td>\n",
       "      <td>21.000</td>\n",
       "      <td>31.000</td>\n",
       "      <td>49.000</td>\n",
       "      <td>70.000</td>\n",
       "      <td>177.800</td>\n",
       "      <td>372.0</td>\n",
       "    </tr>\n",
       "    <tr>\n",
       "      <th>Frequency</th>\n",
       "      <td>4322.0</td>\n",
       "      <td>4.240629</td>\n",
       "      <td>7.619020</td>\n",
       "      <td>1.0</td>\n",
       "      <td>1.000</td>\n",
       "      <td>1.000</td>\n",
       "      <td>2.000</td>\n",
       "      <td>2.000</td>\n",
       "      <td>3.000</td>\n",
       "      <td>5.000</td>\n",
       "      <td>206.0</td>\n",
       "    </tr>\n",
       "    <tr>\n",
       "      <th>Monetary</th>\n",
       "      <td>4322.0</td>\n",
       "      <td>2088.922367</td>\n",
       "      <td>10076.527686</td>\n",
       "      <td>2.9</td>\n",
       "      <td>248.824</td>\n",
       "      <td>351.206</td>\n",
       "      <td>485.716</td>\n",
       "      <td>680.805</td>\n",
       "      <td>951.432</td>\n",
       "      <td>2092.566</td>\n",
       "      <td>394258.1</td>\n",
       "    </tr>\n",
       "  </tbody>\n",
       "</table>\n",
       "</div>"
      ],
      "text/plain": [
       "            count         mean           std  min      20%      30%      40%  \\\n",
       "Recency    4322.0    91.025683     99.949471 -1.0   13.000   21.000   31.000   \n",
       "Frequency  4322.0     4.240629      7.619020  1.0    1.000    1.000    2.000   \n",
       "Monetary   4322.0  2088.922367  10076.527686  2.9  248.824  351.206  485.716   \n",
       "\n",
       "               50%      60%       80%       max  \n",
       "Recency     49.000   70.000   177.800     372.0  \n",
       "Frequency    2.000    3.000     5.000     206.0  \n",
       "Monetary   680.805  951.432  2092.566  394258.1  "
      ]
     },
     "execution_count": 448,
     "metadata": {},
     "output_type": "execute_result"
    }
   ],
   "source": [
    "RFM.describe([0.2,0.3,0.4,0.6,0.8]).T"
   ]
  },
  {
   "cell_type": "markdown",
   "id": "89aa5956-23b8-44c2-944c-3337b05d4cfa",
   "metadata": {},
   "source": [
    "We would like to use a Quantile-based discretization function to score the customer RFM data obtained above\n",
    "pandas.qcut(x, q, labels=None, retbins=False, precision=3, duplicates='raise')"
   ]
  },
  {
   "cell_type": "code",
   "execution_count": 451,
   "id": "5cf3e135-f57d-4316-bcca-8cc0d7fd437e",
   "metadata": {},
   "outputs": [
    {
     "data": {
      "text/html": [
       "<div>\n",
       "<style scoped>\n",
       "    .dataframe tbody tr th:only-of-type {\n",
       "        vertical-align: middle;\n",
       "    }\n",
       "\n",
       "    .dataframe tbody tr th {\n",
       "        vertical-align: top;\n",
       "    }\n",
       "\n",
       "    .dataframe thead th {\n",
       "        text-align: right;\n",
       "    }\n",
       "</style>\n",
       "<table border=\"1\" class=\"dataframe\">\n",
       "  <thead>\n",
       "    <tr style=\"text-align: right;\">\n",
       "      <th></th>\n",
       "      <th>Recency</th>\n",
       "      <th>Frequency</th>\n",
       "      <th>Monetary</th>\n",
       "      <th>RecencyScore</th>\n",
       "      <th>FrequencyScore</th>\n",
       "      <th>MonetaryScore</th>\n",
       "    </tr>\n",
       "    <tr>\n",
       "      <th>CustomerID</th>\n",
       "      <th></th>\n",
       "      <th></th>\n",
       "      <th></th>\n",
       "      <th></th>\n",
       "      <th></th>\n",
       "      <th></th>\n",
       "    </tr>\n",
       "  </thead>\n",
       "  <tbody>\n",
       "    <tr>\n",
       "      <th>12347</th>\n",
       "      <td>1</td>\n",
       "      <td>7</td>\n",
       "      <td>4626.38</td>\n",
       "      <td>5</td>\n",
       "      <td>5</td>\n",
       "      <td>5</td>\n",
       "    </tr>\n",
       "    <tr>\n",
       "      <th>12348</th>\n",
       "      <td>74</td>\n",
       "      <td>4</td>\n",
       "      <td>1499.64</td>\n",
       "      <td>2</td>\n",
       "      <td>4</td>\n",
       "      <td>4</td>\n",
       "    </tr>\n",
       "    <tr>\n",
       "      <th>12349</th>\n",
       "      <td>17</td>\n",
       "      <td>1</td>\n",
       "      <td>1411.00</td>\n",
       "      <td>4</td>\n",
       "      <td>1</td>\n",
       "      <td>4</td>\n",
       "    </tr>\n",
       "    <tr>\n",
       "      <th>12350</th>\n",
       "      <td>309</td>\n",
       "      <td>1</td>\n",
       "      <td>321.16</td>\n",
       "      <td>1</td>\n",
       "      <td>1</td>\n",
       "      <td>2</td>\n",
       "    </tr>\n",
       "    <tr>\n",
       "      <th>12352</th>\n",
       "      <td>35</td>\n",
       "      <td>7</td>\n",
       "      <td>1386.94</td>\n",
       "      <td>3</td>\n",
       "      <td>5</td>\n",
       "      <td>4</td>\n",
       "    </tr>\n",
       "  </tbody>\n",
       "</table>\n",
       "</div>"
      ],
      "text/plain": [
       "            Recency  Frequency  Monetary RecencyScore FrequencyScore  \\\n",
       "CustomerID                                                             \n",
       "12347             1          7   4626.38            5              5   \n",
       "12348            74          4   1499.64            2              4   \n",
       "12349            17          1   1411.00            4              1   \n",
       "12350           309          1    321.16            1              1   \n",
       "12352            35          7   1386.94            3              5   \n",
       "\n",
       "           MonetaryScore  \n",
       "CustomerID                \n",
       "12347                  5  \n",
       "12348                  4  \n",
       "12349                  4  \n",
       "12350                  2  \n",
       "12352                  4  "
      ]
     },
     "execution_count": 451,
     "metadata": {},
     "output_type": "execute_result"
    }
   ],
   "source": [
    "RFM[\"RecencyScore\"] = pd.qcut(RFM[\"Recency\"], 5, labels = [5, 4, 3, 2, 1])\n",
    "RFM[\"FrequencyScore\"] = pd.qcut(RFM['Frequency'].rank(method = 'first'), 5, labels = [1, 2, 3, 4, 5])\n",
    "RFM[\"MonetaryScore\"] = pd.qcut(RFM['Monetary'], 5, labels = [1, 2, 3, 4, 5])\n",
    "RFM.head()"
   ]
  },
  {
   "cell_type": "code",
   "execution_count": 452,
   "id": "da7d0490-e553-4fd9-8d77-ff986e8cd50b",
   "metadata": {},
   "outputs": [],
   "source": [
    "RFM[\"RFM_SCORE\"] = RFM['RecencyScore'].astype(str) + RFM['FrequencyScore'].astype(str) + RFM['MonetaryScore'].astype(str)"
   ]
  },
  {
   "cell_type": "code",
   "execution_count": 453,
   "id": "367e2b56-4057-42b9-9b21-42e8da00e359",
   "metadata": {},
   "outputs": [
    {
     "data": {
      "text/html": [
       "<div>\n",
       "<style scoped>\n",
       "    .dataframe tbody tr th:only-of-type {\n",
       "        vertical-align: middle;\n",
       "    }\n",
       "\n",
       "    .dataframe tbody tr th {\n",
       "        vertical-align: top;\n",
       "    }\n",
       "\n",
       "    .dataframe thead th {\n",
       "        text-align: right;\n",
       "    }\n",
       "</style>\n",
       "<table border=\"1\" class=\"dataframe\">\n",
       "  <thead>\n",
       "    <tr style=\"text-align: right;\">\n",
       "      <th></th>\n",
       "      <th>Recency</th>\n",
       "      <th>Frequency</th>\n",
       "      <th>Monetary</th>\n",
       "      <th>RecencyScore</th>\n",
       "      <th>FrequencyScore</th>\n",
       "      <th>MonetaryScore</th>\n",
       "      <th>RFM_SCORE</th>\n",
       "    </tr>\n",
       "    <tr>\n",
       "      <th>CustomerID</th>\n",
       "      <th></th>\n",
       "      <th></th>\n",
       "      <th></th>\n",
       "      <th></th>\n",
       "      <th></th>\n",
       "      <th></th>\n",
       "      <th></th>\n",
       "    </tr>\n",
       "  </thead>\n",
       "  <tbody>\n",
       "    <tr>\n",
       "      <th>12347</th>\n",
       "      <td>1</td>\n",
       "      <td>7</td>\n",
       "      <td>4626.38</td>\n",
       "      <td>5</td>\n",
       "      <td>5</td>\n",
       "      <td>5</td>\n",
       "      <td>555</td>\n",
       "    </tr>\n",
       "    <tr>\n",
       "      <th>12348</th>\n",
       "      <td>74</td>\n",
       "      <td>4</td>\n",
       "      <td>1499.64</td>\n",
       "      <td>2</td>\n",
       "      <td>4</td>\n",
       "      <td>4</td>\n",
       "      <td>244</td>\n",
       "    </tr>\n",
       "    <tr>\n",
       "      <th>12349</th>\n",
       "      <td>17</td>\n",
       "      <td>1</td>\n",
       "      <td>1411.00</td>\n",
       "      <td>4</td>\n",
       "      <td>1</td>\n",
       "      <td>4</td>\n",
       "      <td>414</td>\n",
       "    </tr>\n",
       "    <tr>\n",
       "      <th>12350</th>\n",
       "      <td>309</td>\n",
       "      <td>1</td>\n",
       "      <td>321.16</td>\n",
       "      <td>1</td>\n",
       "      <td>1</td>\n",
       "      <td>2</td>\n",
       "      <td>112</td>\n",
       "    </tr>\n",
       "    <tr>\n",
       "      <th>12352</th>\n",
       "      <td>35</td>\n",
       "      <td>7</td>\n",
       "      <td>1386.94</td>\n",
       "      <td>3</td>\n",
       "      <td>5</td>\n",
       "      <td>4</td>\n",
       "      <td>354</td>\n",
       "    </tr>\n",
       "  </tbody>\n",
       "</table>\n",
       "</div>"
      ],
      "text/plain": [
       "            Recency  Frequency  Monetary RecencyScore FrequencyScore  \\\n",
       "CustomerID                                                             \n",
       "12347             1          7   4626.38            5              5   \n",
       "12348            74          4   1499.64            2              4   \n",
       "12349            17          1   1411.00            4              1   \n",
       "12350           309          1    321.16            1              1   \n",
       "12352            35          7   1386.94            3              5   \n",
       "\n",
       "           MonetaryScore RFM_SCORE  \n",
       "CustomerID                          \n",
       "12347                  5       555  \n",
       "12348                  4       244  \n",
       "12349                  4       414  \n",
       "12350                  2       112  \n",
       "12352                  4       354  "
      ]
     },
     "execution_count": 453,
     "metadata": {},
     "output_type": "execute_result"
    }
   ],
   "source": [
    "RFM.head()"
   ]
  },
  {
   "cell_type": "code",
   "execution_count": 461,
   "id": "45e1783d-8ae3-4f09-b83e-77bc64232dc1",
   "metadata": {},
   "outputs": [
    {
     "name": "stdout",
     "output_type": "stream",
     "text": [
      "Number of customers in the best segment\n"
     ]
    },
    {
     "data": {
      "text/plain": [
       "352"
      ]
     },
     "execution_count": 461,
     "metadata": {},
     "output_type": "execute_result"
    }
   ],
   "source": [
    "print(\"Number of customers in the best segment\")\n",
    "len(RFM[RFM[\"RFM_SCORE\"] == \"555\"].index)"
   ]
  },
  {
   "cell_type": "code",
   "execution_count": 462,
   "id": "d8e4076e-6b30-4488-9c89-d818feff52d1",
   "metadata": {},
   "outputs": [
    {
     "name": "stdout",
     "output_type": "stream",
     "text": [
      "Number of customers in the worst segment\n"
     ]
    },
    {
     "data": {
      "text/plain": [
       "179"
      ]
     },
     "execution_count": 462,
     "metadata": {},
     "output_type": "execute_result"
    }
   ],
   "source": [
    "print(\"Number of customers in the worst segment\")\n",
    "len(RFM[RFM[\"RFM_SCORE\"] == \"111\"].index)"
   ]
  },
  {
   "attachments": {
    "573fba6f-43a6-4712-b78e-4c85f40aca03.jpg": {
     "image/jpeg": "[encoded data removed]"
    }
   },
   "cell_type": "markdown",
   "id": "db660072-f5f8-4d3a-b675-ee1f1e99775c",
   "metadata": {},
   "source": [
    "We decided to segment the customers based on their recency and frequency scores\n",
    "![Market Segmentation description (2).jpg](attachment:573fba6f-43a6-4712-b78e-4c85f40aca03.jpg)\n"
   ]
  },
  {
   "attachments": {
    "47ee1d65-b34d-4e9b-96e4-1a450fc510ab.jpg": {
     "image/jpeg": "[encoded data removed]"
    }
   },
   "cell_type": "markdown",
   "id": "b78804fe-de61-4c8d-8c6d-69626e7aa5a6",
   "metadata": {},
   "source": [
    "![Market Segmentation.jpg](attachment:47ee1d65-b34d-4e9b-96e4-1a450fc510ab.jpg)\n"
   ]
  },
  {
   "cell_type": "code",
   "execution_count": 463,
   "id": "350a9c01-2983-4271-8409-871f6d96b300",
   "metadata": {},
   "outputs": [],
   "source": [
    "# Regular expressions for mapping RFM_SCORES to our identified segments as above\n",
    "\n",
    "segmentation = {\n",
    "    r'[1-2][1-2]': 'Lost',\n",
    "    r'[1-2][3-4]': 'At Risk',\n",
    "    r'[1-2]5': 'Must Not Loose',\n",
    "    r'3[1-3]': 'Needs Attention',    \n",
    "    r'[3-4][4-5]': 'Loyal Customers',\n",
    "    r'41': 'Promising Customers',\n",
    "    r'51': 'New Customers',\n",
    "    r'[4-5][2-3]': 'Potential Loyal Customers',\n",
    "    r'5[4-5]': 'Premium Customers'\n",
    "}"
   ]
  },
  {
   "cell_type": "code",
   "execution_count": 465,
   "id": "1ec32d54-eef6-437f-b524-dc4491e8059a",
   "metadata": {},
   "outputs": [
    {
     "data": {
      "text/html": [
       "<div>\n",
       "<style scoped>\n",
       "    .dataframe tbody tr th:only-of-type {\n",
       "        vertical-align: middle;\n",
       "    }\n",
       "\n",
       "    .dataframe tbody tr th {\n",
       "        vertical-align: top;\n",
       "    }\n",
       "\n",
       "    .dataframe thead th {\n",
       "        text-align: right;\n",
       "    }\n",
       "</style>\n",
       "<table border=\"1\" class=\"dataframe\">\n",
       "  <thead>\n",
       "    <tr style=\"text-align: right;\">\n",
       "      <th></th>\n",
       "      <th>Recency</th>\n",
       "      <th>Frequency</th>\n",
       "      <th>Monetary</th>\n",
       "      <th>RecencyScore</th>\n",
       "      <th>FrequencyScore</th>\n",
       "      <th>MonetaryScore</th>\n",
       "      <th>RFM_SCORE</th>\n",
       "      <th>Segment</th>\n",
       "    </tr>\n",
       "    <tr>\n",
       "      <th>CustomerID</th>\n",
       "      <th></th>\n",
       "      <th></th>\n",
       "      <th></th>\n",
       "      <th></th>\n",
       "      <th></th>\n",
       "      <th></th>\n",
       "      <th></th>\n",
       "      <th></th>\n",
       "    </tr>\n",
       "  </thead>\n",
       "  <tbody>\n",
       "    <tr>\n",
       "      <th>12347</th>\n",
       "      <td>1</td>\n",
       "      <td>7</td>\n",
       "      <td>4626.38</td>\n",
       "      <td>5</td>\n",
       "      <td>5</td>\n",
       "      <td>5</td>\n",
       "      <td>555</td>\n",
       "      <td>Premium Customers</td>\n",
       "    </tr>\n",
       "    <tr>\n",
       "      <th>12348</th>\n",
       "      <td>74</td>\n",
       "      <td>4</td>\n",
       "      <td>1499.64</td>\n",
       "      <td>2</td>\n",
       "      <td>4</td>\n",
       "      <td>4</td>\n",
       "      <td>244</td>\n",
       "      <td>At Risk</td>\n",
       "    </tr>\n",
       "    <tr>\n",
       "      <th>12349</th>\n",
       "      <td>17</td>\n",
       "      <td>1</td>\n",
       "      <td>1411.00</td>\n",
       "      <td>4</td>\n",
       "      <td>1</td>\n",
       "      <td>4</td>\n",
       "      <td>414</td>\n",
       "      <td>Promising Customers</td>\n",
       "    </tr>\n",
       "    <tr>\n",
       "      <th>12350</th>\n",
       "      <td>309</td>\n",
       "      <td>1</td>\n",
       "      <td>321.16</td>\n",
       "      <td>1</td>\n",
       "      <td>1</td>\n",
       "      <td>2</td>\n",
       "      <td>112</td>\n",
       "      <td>Lost</td>\n",
       "    </tr>\n",
       "    <tr>\n",
       "      <th>12352</th>\n",
       "      <td>35</td>\n",
       "      <td>7</td>\n",
       "      <td>1386.94</td>\n",
       "      <td>3</td>\n",
       "      <td>5</td>\n",
       "      <td>4</td>\n",
       "      <td>354</td>\n",
       "      <td>Loyal Customers</td>\n",
       "    </tr>\n",
       "  </tbody>\n",
       "</table>\n",
       "</div>"
      ],
      "text/plain": [
       "            Recency  Frequency  Monetary RecencyScore FrequencyScore  \\\n",
       "CustomerID                                                             \n",
       "12347             1          7   4626.38            5              5   \n",
       "12348            74          4   1499.64            2              4   \n",
       "12349            17          1   1411.00            4              1   \n",
       "12350           309          1    321.16            1              1   \n",
       "12352            35          7   1386.94            3              5   \n",
       "\n",
       "           MonetaryScore RFM_SCORE              Segment  \n",
       "CustomerID                                               \n",
       "12347                  5       555    Premium Customers  \n",
       "12348                  4       244              At Risk  \n",
       "12349                  4       414  Promising Customers  \n",
       "12350                  2       112                 Lost  \n",
       "12352                  4       354      Loyal Customers  "
      ]
     },
     "execution_count": 465,
     "metadata": {},
     "output_type": "execute_result"
    }
   ],
   "source": [
    "RFM['Segment'] = RFM['RecencyScore'].astype(str) + RFM['FrequencyScore'].astype(str)\n",
    "RFM['Segment'] = RFM['Segment'].replace(segmentation, regex=True)\n",
    "RFM.head()"
   ]
  },
  {
   "cell_type": "code",
   "execution_count": 466,
   "id": "47c4502c-bd59-415e-8735-606d3579709f",
   "metadata": {},
   "outputs": [
    {
     "data": {
      "text/html": [
       "<div>\n",
       "<style scoped>\n",
       "    .dataframe tbody tr th:only-of-type {\n",
       "        vertical-align: middle;\n",
       "    }\n",
       "\n",
       "    .dataframe tbody tr th {\n",
       "        vertical-align: top;\n",
       "    }\n",
       "\n",
       "    .dataframe thead tr th {\n",
       "        text-align: left;\n",
       "    }\n",
       "\n",
       "    .dataframe thead tr:last-of-type th {\n",
       "        text-align: right;\n",
       "    }\n",
       "</style>\n",
       "<table border=\"1\" class=\"dataframe\">\n",
       "  <thead>\n",
       "    <tr>\n",
       "      <th></th>\n",
       "      <th colspan=\"2\" halign=\"left\">Recency</th>\n",
       "      <th colspan=\"2\" halign=\"left\">Frequency</th>\n",
       "      <th colspan=\"2\" halign=\"left\">Monetary</th>\n",
       "    </tr>\n",
       "    <tr>\n",
       "      <th></th>\n",
       "      <th>mean</th>\n",
       "      <th>count</th>\n",
       "      <th>mean</th>\n",
       "      <th>count</th>\n",
       "      <th>mean</th>\n",
       "      <th>count</th>\n",
       "    </tr>\n",
       "    <tr>\n",
       "      <th>Segment</th>\n",
       "      <th></th>\n",
       "      <th></th>\n",
       "      <th></th>\n",
       "      <th></th>\n",
       "      <th></th>\n",
       "      <th></th>\n",
       "    </tr>\n",
       "  </thead>\n",
       "  <tbody>\n",
       "    <tr>\n",
       "      <th>At Risk</th>\n",
       "      <td>151.583904</td>\n",
       "      <td>584</td>\n",
       "      <td>2.849315</td>\n",
       "      <td>584</td>\n",
       "      <td>989.728099</td>\n",
       "      <td>584</td>\n",
       "    </tr>\n",
       "    <tr>\n",
       "      <th>Lost</th>\n",
       "      <td>215.650749</td>\n",
       "      <td>1068</td>\n",
       "      <td>1.094569</td>\n",
       "      <td>1068</td>\n",
       "      <td>411.180009</td>\n",
       "      <td>1068</td>\n",
       "    </tr>\n",
       "    <tr>\n",
       "      <th>Loyal Customers</th>\n",
       "      <td>32.263488</td>\n",
       "      <td>797</td>\n",
       "      <td>6.365119</td>\n",
       "      <td>797</td>\n",
       "      <td>2923.758557</td>\n",
       "      <td>797</td>\n",
       "    </tr>\n",
       "    <tr>\n",
       "      <th>Must Not Loose</th>\n",
       "      <td>134.500000</td>\n",
       "      <td>64</td>\n",
       "      <td>8.203125</td>\n",
       "      <td>64</td>\n",
       "      <td>2817.955000</td>\n",
       "      <td>64</td>\n",
       "    </tr>\n",
       "    <tr>\n",
       "      <th>Needs Attention</th>\n",
       "      <td>51.057621</td>\n",
       "      <td>538</td>\n",
       "      <td>1.548327</td>\n",
       "      <td>538</td>\n",
       "      <td>616.508457</td>\n",
       "      <td>538</td>\n",
       "    </tr>\n",
       "    <tr>\n",
       "      <th>New Customers</th>\n",
       "      <td>6.266667</td>\n",
       "      <td>45</td>\n",
       "      <td>1.000000</td>\n",
       "      <td>45</td>\n",
       "      <td>324.638667</td>\n",
       "      <td>45</td>\n",
       "    </tr>\n",
       "    <tr>\n",
       "      <th>Potential Loyal Customers</th>\n",
       "      <td>15.477366</td>\n",
       "      <td>486</td>\n",
       "      <td>1.995885</td>\n",
       "      <td>486</td>\n",
       "      <td>684.923230</td>\n",
       "      <td>486</td>\n",
       "    </tr>\n",
       "    <tr>\n",
       "      <th>Premium Customers</th>\n",
       "      <td>4.680982</td>\n",
       "      <td>652</td>\n",
       "      <td>12.210123</td>\n",
       "      <td>652</td>\n",
       "      <td>7356.013420</td>\n",
       "      <td>652</td>\n",
       "    </tr>\n",
       "    <tr>\n",
       "      <th>Promising Customers</th>\n",
       "      <td>21.886364</td>\n",
       "      <td>88</td>\n",
       "      <td>1.000000</td>\n",
       "      <td>88</td>\n",
       "      <td>287.643068</td>\n",
       "      <td>88</td>\n",
       "    </tr>\n",
       "  </tbody>\n",
       "</table>\n",
       "</div>"
      ],
      "text/plain": [
       "                              Recency        Frequency           Monetary  \\\n",
       "                                 mean count       mean count         mean   \n",
       "Segment                                                                     \n",
       "At Risk                    151.583904   584   2.849315   584   989.728099   \n",
       "Lost                       215.650749  1068   1.094569  1068   411.180009   \n",
       "Loyal Customers             32.263488   797   6.365119   797  2923.758557   \n",
       "Must Not Loose             134.500000    64   8.203125    64  2817.955000   \n",
       "Needs Attention             51.057621   538   1.548327   538   616.508457   \n",
       "New Customers                6.266667    45   1.000000    45   324.638667   \n",
       "Potential Loyal Customers   15.477366   486   1.995885   486   684.923230   \n",
       "Premium Customers            4.680982   652  12.210123   652  7356.013420   \n",
       "Promising Customers         21.886364    88   1.000000    88   287.643068   \n",
       "\n",
       "                                 \n",
       "                          count  \n",
       "Segment                          \n",
       "At Risk                     584  \n",
       "Lost                       1068  \n",
       "Loyal Customers             797  \n",
       "Must Not Loose               64  \n",
       "Needs Attention             538  \n",
       "New Customers                45  \n",
       "Potential Loyal Customers   486  \n",
       "Premium Customers           652  \n",
       "Promising Customers          88  "
      ]
     },
     "execution_count": 466,
     "metadata": {},
     "output_type": "execute_result"
    }
   ],
   "source": [
    "RFM[[\"Segment\", \"Recency\",\"Frequency\",\"Monetary\"]].groupby(\"Segment\").agg([\"mean\",\"count\"])"
   ]
  },
  {
   "cell_type": "code",
   "execution_count": 471,
   "id": "d2942703-e33b-4bc1-967e-a358916a7cfa",
   "metadata": {},
   "outputs": [
    {
     "data": {
      "image/png": "[encoded data removed]",
      "text/plain": [
       "<Figure size 640x480 with 1 Axes>"
      ]
     },
     "metadata": {},
     "output_type": "display_data"
    }
   ],
   "source": [
    "import matplotlib.pyplot as plt\n",
    "segments_counts = RFM['Segment'].value_counts().sort_values(ascending=True)\n",
    "\n",
    "fig, ax = plt.subplots()\n",
    "\n",
    "bars = ax.barh(range(len(segments_counts)),\n",
    "              segments_counts,\n",
    "              color='silver')\n",
    "ax.set_frame_on(False)\n",
    "ax.tick_params(left=False,\n",
    "               bottom=False,\n",
    "               labelbottom=False)\n",
    "ax.set_yticks(range(len(segments_counts)))\n",
    "ax.set_yticklabels(segments_counts.index)\n",
    "for i, bar in enumerate(bars):\n",
    "     value = bar.get_width()\n",
    "     ax.text(value,\n",
    "                bar.get_y() + bar.get_height()/2,\n",
    "                '{:,} ({:}%)'.format(int(value),\n",
    "                                   int(value*100/segments_counts.sum())),\n",
    "                va='center',\n",
    "                ha='left'\n",
    "               )\n",
    "\n",
    "plt.show()"
   ]
  },
  {
   "cell_type": "code",
   "execution_count": null,
   "id": "af9110d7-bb5a-4bb7-859e-5f39a226d13a",
   "metadata": {},
   "outputs": [],
   "source": []
  }
 ],
 "metadata": {
  "kernelspec": {
   "display_name": "Python 3 (ipykernel)",
   "language": "python",
   "name": "python3"
  },
  "language_info": {
   "codemirror_mode": {
    "name": "ipython",
    "version": 3
   },
   "file_extension": ".py",
   "mimetype": "text/x-python",
   "name": "python",
   "nbconvert_exporter": "python",
   "pygments_lexer": "ipython3",
   "version": "3.10.6"
  }
 },
 "nbformat": 4,
 "nbformat_minor": 5
}
