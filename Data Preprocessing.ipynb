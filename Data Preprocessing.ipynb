{
 "cells": [
  {
   "cell_type": "code",
   "execution_count": 147,
   "id": "811295d2-b15a-43a3-ad37-1616830da171",
   "metadata": {},
   "outputs": [],
   "source": [
    "import numpy as np, pandas as pd"
   ]
  },
  {
   "cell_type": "markdown",
   "id": "9d9f0e5b-9009-413a-b64b-b4b4adf06764",
   "metadata": {},
   "source": [
    "Reading the original dataset\n",
    "http://archive.ics.uci.edu/ml/datasets/Online+Retail\n",
    "A transnational data set which contains all the transactions occurring between 01/12/2010 and 09/12/2011 for a UK-based and registered non-store online retail."
   ]
  },
  {
   "cell_type": "code",
   "execution_count": 148,
   "id": "ddd30a7d-4680-4966-8ea4-5d88d6dfb4d2",
   "metadata": {},
   "outputs": [
    {
     "data": {
      "text/html": [
       "<div>\n",
       "<style scoped>\n",
       "    .dataframe tbody tr th:only-of-type {\n",
       "        vertical-align: middle;\n",
       "    }\n",
       "\n",
       "    .dataframe tbody tr th {\n",
       "        vertical-align: top;\n",
       "    }\n",
       "\n",
       "    .dataframe thead th {\n",
       "        text-align: right;\n",
       "    }\n",
       "</style>\n",
       "<table border=\"1\" class=\"dataframe\">\n",
       "  <thead>\n",
       "    <tr style=\"text-align: right;\">\n",
       "      <th></th>\n",
       "      <th>InvoiceNo</th>\n",
       "      <th>StockCode</th>\n",
       "      <th>Description</th>\n",
       "      <th>Quantity</th>\n",
       "      <th>InvoiceDate</th>\n",
       "      <th>UnitPrice</th>\n",
       "      <th>CustomerID</th>\n",
       "      <th>Country</th>\n",
       "    </tr>\n",
       "  </thead>\n",
       "  <tbody>\n",
       "    <tr>\n",
       "      <th>0</th>\n",
       "      <td>536365</td>\n",
       "      <td>85123A</td>\n",
       "      <td>WHITE HANGING HEART T-LIGHT HOLDER</td>\n",
       "      <td>6</td>\n",
       "      <td>12/1/10 8:26</td>\n",
       "      <td>2.55</td>\n",
       "      <td>17850</td>\n",
       "      <td>United Kingdom</td>\n",
       "    </tr>\n",
       "    <tr>\n",
       "      <th>1</th>\n",
       "      <td>536365</td>\n",
       "      <td>71053</td>\n",
       "      <td>WHITE METAL LANTERN</td>\n",
       "      <td>6</td>\n",
       "      <td>12/1/10 8:26</td>\n",
       "      <td>3.39</td>\n",
       "      <td>17850</td>\n",
       "      <td>United Kingdom</td>\n",
       "    </tr>\n",
       "    <tr>\n",
       "      <th>2</th>\n",
       "      <td>536365</td>\n",
       "      <td>84406B</td>\n",
       "      <td>CREAM CUPID HEARTS COAT HANGER</td>\n",
       "      <td>8</td>\n",
       "      <td>12/1/10 8:26</td>\n",
       "      <td>2.75</td>\n",
       "      <td>17850</td>\n",
       "      <td>United Kingdom</td>\n",
       "    </tr>\n",
       "    <tr>\n",
       "      <th>3</th>\n",
       "      <td>536365</td>\n",
       "      <td>84029G</td>\n",
       "      <td>KNITTED UNION FLAG HOT WATER BOTTLE</td>\n",
       "      <td>6</td>\n",
       "      <td>12/1/10 8:26</td>\n",
       "      <td>3.39</td>\n",
       "      <td>17850</td>\n",
       "      <td>United Kingdom</td>\n",
       "    </tr>\n",
       "    <tr>\n",
       "      <th>4</th>\n",
       "      <td>536365</td>\n",
       "      <td>84029E</td>\n",
       "      <td>RED WOOLLY HOTTIE WHITE HEART.</td>\n",
       "      <td>6</td>\n",
       "      <td>12/1/10 8:26</td>\n",
       "      <td>3.39</td>\n",
       "      <td>17850</td>\n",
       "      <td>United Kingdom</td>\n",
       "    </tr>\n",
       "  </tbody>\n",
       "</table>\n",
       "</div>"
      ],
      "text/plain": [
       "  InvoiceNo StockCode                          Description  Quantity  \\\n",
       "0    536365    85123A   WHITE HANGING HEART T-LIGHT HOLDER         6   \n",
       "1    536365     71053                  WHITE METAL LANTERN         6   \n",
       "2    536365    84406B       CREAM CUPID HEARTS COAT HANGER         8   \n",
       "3    536365    84029G  KNITTED UNION FLAG HOT WATER BOTTLE         6   \n",
       "4    536365    84029E       RED WOOLLY HOTTIE WHITE HEART.         6   \n",
       "\n",
       "    InvoiceDate  UnitPrice  CustomerID         Country  \n",
       "0  12/1/10 8:26       2.55       17850  United Kingdom  \n",
       "1  12/1/10 8:26       3.39       17850  United Kingdom  \n",
       "2  12/1/10 8:26       2.75       17850  United Kingdom  \n",
       "3  12/1/10 8:26       3.39       17850  United Kingdom  \n",
       "4  12/1/10 8:26       3.39       17850  United Kingdom  "
      ]
     },
     "execution_count": 148,
     "metadata": {},
     "output_type": "execute_result"
    }
   ],
   "source": [
    "retail_dataset = pd.read_csv('data.csv', dtype= {'CustomerID': 'Int64'})\n",
    "retail_dataset.head()"
   ]
  },
  {
   "cell_type": "code",
   "execution_count": 149,
   "id": "5a6456ae-b8c5-497c-8b05-d11af43643ed",
   "metadata": {},
   "outputs": [
    {
     "data": {
      "text/html": [
       "<div>\n",
       "<style scoped>\n",
       "    .dataframe tbody tr th:only-of-type {\n",
       "        vertical-align: middle;\n",
       "    }\n",
       "\n",
       "    .dataframe tbody tr th {\n",
       "        vertical-align: top;\n",
       "    }\n",
       "\n",
       "    .dataframe thead th {\n",
       "        text-align: right;\n",
       "    }\n",
       "</style>\n",
       "<table border=\"1\" class=\"dataframe\">\n",
       "  <thead>\n",
       "    <tr style=\"text-align: right;\">\n",
       "      <th></th>\n",
       "      <th>InvoiceNo</th>\n",
       "      <th>StockCode</th>\n",
       "      <th>Description</th>\n",
       "      <th>Quantity</th>\n",
       "      <th>InvoiceDate</th>\n",
       "      <th>UnitPrice</th>\n",
       "      <th>CustomerID</th>\n",
       "      <th>Country</th>\n",
       "    </tr>\n",
       "  </thead>\n",
       "  <tbody>\n",
       "    <tr>\n",
       "      <th>541904</th>\n",
       "      <td>581587</td>\n",
       "      <td>22613</td>\n",
       "      <td>PACK OF 20 SPACEBOY NAPKINS</td>\n",
       "      <td>12</td>\n",
       "      <td>12/9/11 12:50</td>\n",
       "      <td>0.85</td>\n",
       "      <td>12680</td>\n",
       "      <td>France</td>\n",
       "    </tr>\n",
       "    <tr>\n",
       "      <th>541905</th>\n",
       "      <td>581587</td>\n",
       "      <td>22899</td>\n",
       "      <td>CHILDREN'S APRON DOLLY GIRL</td>\n",
       "      <td>6</td>\n",
       "      <td>12/9/11 12:50</td>\n",
       "      <td>2.10</td>\n",
       "      <td>12680</td>\n",
       "      <td>France</td>\n",
       "    </tr>\n",
       "    <tr>\n",
       "      <th>541906</th>\n",
       "      <td>581587</td>\n",
       "      <td>23254</td>\n",
       "      <td>CHILDRENS CUTLERY DOLLY GIRL</td>\n",
       "      <td>4</td>\n",
       "      <td>12/9/11 12:50</td>\n",
       "      <td>4.15</td>\n",
       "      <td>12680</td>\n",
       "      <td>France</td>\n",
       "    </tr>\n",
       "    <tr>\n",
       "      <th>541907</th>\n",
       "      <td>581587</td>\n",
       "      <td>23255</td>\n",
       "      <td>CHILDRENS CUTLERY CIRCUS PARADE</td>\n",
       "      <td>4</td>\n",
       "      <td>12/9/11 12:50</td>\n",
       "      <td>4.15</td>\n",
       "      <td>12680</td>\n",
       "      <td>France</td>\n",
       "    </tr>\n",
       "    <tr>\n",
       "      <th>541908</th>\n",
       "      <td>581587</td>\n",
       "      <td>22138</td>\n",
       "      <td>BAKING SET 9 PIECE RETROSPOT</td>\n",
       "      <td>3</td>\n",
       "      <td>12/9/11 12:50</td>\n",
       "      <td>4.95</td>\n",
       "      <td>12680</td>\n",
       "      <td>France</td>\n",
       "    </tr>\n",
       "  </tbody>\n",
       "</table>\n",
       "</div>"
      ],
      "text/plain": [
       "       InvoiceNo StockCode                      Description  Quantity  \\\n",
       "541904    581587     22613      PACK OF 20 SPACEBOY NAPKINS        12   \n",
       "541905    581587     22899     CHILDREN'S APRON DOLLY GIRL          6   \n",
       "541906    581587     23254    CHILDRENS CUTLERY DOLLY GIRL          4   \n",
       "541907    581587     23255  CHILDRENS CUTLERY CIRCUS PARADE         4   \n",
       "541908    581587     22138    BAKING SET 9 PIECE RETROSPOT          3   \n",
       "\n",
       "          InvoiceDate  UnitPrice  CustomerID Country  \n",
       "541904  12/9/11 12:50       0.85       12680  France  \n",
       "541905  12/9/11 12:50       2.10       12680  France  \n",
       "541906  12/9/11 12:50       4.15       12680  France  \n",
       "541907  12/9/11 12:50       4.15       12680  France  \n",
       "541908  12/9/11 12:50       4.95       12680  France  "
      ]
     },
     "execution_count": 149,
     "metadata": {},
     "output_type": "execute_result"
    }
   ],
   "source": [
    "retail_dataset.tail()"
   ]
  },
  {
   "cell_type": "code",
   "execution_count": 150,
   "id": "cbb8339d-f0e3-485b-afaf-7b4cbb4b2f05",
   "metadata": {},
   "outputs": [
    {
     "name": "stdout",
     "output_type": "stream",
     "text": [
      "<class 'pandas.core.frame.DataFrame'>\n",
      "RangeIndex: 541909 entries, 0 to 541908\n",
      "Data columns (total 8 columns):\n",
      " #   Column       Non-Null Count   Dtype  \n",
      "---  ------       --------------   -----  \n",
      " 0   InvoiceNo    541909 non-null  object \n",
      " 1   StockCode    541909 non-null  object \n",
      " 2   Description  540455 non-null  object \n",
      " 3   Quantity     541909 non-null  int64  \n",
      " 4   InvoiceDate  541909 non-null  object \n",
      " 5   UnitPrice    541909 non-null  float64\n",
      " 6   CustomerID   406829 non-null  Int64  \n",
      " 7   Country      541909 non-null  object \n",
      "dtypes: Int64(1), float64(1), int64(1), object(5)\n",
      "memory usage: 33.6+ MB\n"
     ]
    }
   ],
   "source": [
    "retail_dataset.info()"
   ]
  },
  {
   "cell_type": "code",
   "execution_count": 151,
   "id": "9acc6dd1-f148-4b5a-8deb-2f62793366be",
   "metadata": {},
   "outputs": [
    {
     "name": "stderr",
     "output_type": "stream",
     "text": [
      "C:\\Users\\Meera Tresa\\AppData\\Local\\Temp\\ipykernel_127164\\957688194.py:5: FutureWarning: The default value of regex will change from True to False in a future version. In addition, single character regular expressions will *not* be treated as literal strings when regex=True.\n",
      "  retail_dataset['Description'] = retail_dataset['Description'].str.replace('.','').str.upper().str.strip()\n"
     ]
    }
   ],
   "source": [
    "#Formatting Date/Time\n",
    "#retail_dataset['InvoiceDate'] = pd.to_datetime(retail_dataset['InvoiceDate'], format = '%mm/%dd/%YY %HH:%MM')\n",
    "\n",
    "#Strings\n",
    "retail_dataset['Description'] = retail_dataset['Description'].str.replace('.','').str.upper().str.strip()\n",
    "retail_dataset['Description'] = retail_dataset['Description'].replace('\\s+',' ',regex = True)\n",
    "retail_dataset['InvoiceNo'] = retail_dataset['InvoiceNo'].astype(str).str.upper()\n",
    "retail_dataset['StockCode'] = retail_dataset['StockCode'].str.upper()\n",
    "retail_dataset['Country'] = retail_dataset['Country'].str.upper()"
   ]
  },
  {
   "cell_type": "code",
   "execution_count": 152,
   "id": "e1e845da-61cd-4a5f-b8ca-05a32dd2e1ca",
   "metadata": {},
   "outputs": [
    {
     "name": "stdout",
     "output_type": "stream",
     "text": [
      "<class 'pandas.core.frame.DataFrame'>\n",
      "RangeIndex: 541909 entries, 0 to 541908\n",
      "Data columns (total 8 columns):\n",
      " #   Column       Non-Null Count   Dtype  \n",
      "---  ------       --------------   -----  \n",
      " 0   InvoiceNo    541909 non-null  object \n",
      " 1   StockCode    541909 non-null  object \n",
      " 2   Description  540455 non-null  object \n",
      " 3   Quantity     541909 non-null  int64  \n",
      " 4   InvoiceDate  541909 non-null  object \n",
      " 5   UnitPrice    541909 non-null  float64\n",
      " 6   CustomerID   406829 non-null  Int64  \n",
      " 7   Country      541909 non-null  object \n",
      "dtypes: Int64(1), float64(1), int64(1), object(5)\n",
      "memory usage: 33.6+ MB\n"
     ]
    }
   ],
   "source": [
    "retail_dataset.info()"
   ]
  },
  {
   "cell_type": "code",
   "execution_count": 153,
   "id": "1be96460-ca85-4018-8fcc-9cff7c851656",
   "metadata": {},
   "outputs": [],
   "source": [
    "Irrelevant = retail_dataset['StockCode'].unique()\n",
    "Irrelevant.sort()"
   ]
  },
  {
   "cell_type": "code",
   "execution_count": 154,
   "id": "516e126c-d8fa-477f-9ecd-bcc19472426a",
   "metadata": {},
   "outputs": [
    {
     "data": {
      "text/plain": [
       "(3958,)"
      ]
     },
     "execution_count": 154,
     "metadata": {},
     "output_type": "execute_result"
    }
   ],
   "source": [
    "Irrelevant.shape"
   ]
  },
  {
   "cell_type": "code",
   "execution_count": 155,
   "id": "6520cf98-2c7e-4595-9c2b-08bd2b904617",
   "metadata": {},
   "outputs": [
    {
     "data": {
      "text/plain": [
       "numpy.ndarray"
      ]
     },
     "execution_count": 155,
     "metadata": {},
     "output_type": "execute_result"
    }
   ],
   "source": [
    "type(Irrelevant)"
   ]
  },
  {
   "cell_type": "code",
   "execution_count": 156,
   "id": "5df31495-3db3-4b31-a4bd-7451fccf883e",
   "metadata": {},
   "outputs": [
    {
     "name": "stdout",
     "output_type": "stream",
     "text": [
      "Irrelevant Transactions: \n",
      " ['S' 'POST' 'PADS' 'M' 'GIFT_0001_50' 'GIFT_0001_40' 'GIFT_0001_30'\n",
      " 'GIFT_0001_20' 'GIFT_0001_10' 'DOT' 'DCGSSGIRL' 'DCGSSBOY' 'DCGS0076'\n",
      " 'DCGS0074' 'DCGS0073' 'DCGS0072' 'DCGS0071' 'DCGS0070' 'DCGS0069'\n",
      " 'DCGS0068']\n"
     ]
    }
   ],
   "source": [
    "print('Irrelevant Transactions: \\n',Irrelevant[::-1][:20])"
   ]
  },
  {
   "cell_type": "code",
   "execution_count": 157,
   "id": "abb40b03-b199-4068-9d16-919106c9e035",
   "metadata": {},
   "outputs": [
    {
     "data": {
      "text/html": [
       "<div>\n",
       "<style scoped>\n",
       "    .dataframe tbody tr th:only-of-type {\n",
       "        vertical-align: middle;\n",
       "    }\n",
       "\n",
       "    .dataframe tbody tr th {\n",
       "        vertical-align: top;\n",
       "    }\n",
       "\n",
       "    .dataframe thead th {\n",
       "        text-align: right;\n",
       "    }\n",
       "</style>\n",
       "<table border=\"1\" class=\"dataframe\">\n",
       "  <thead>\n",
       "    <tr style=\"text-align: right;\">\n",
       "      <th></th>\n",
       "      <th>Quantity</th>\n",
       "      <th>UnitPrice</th>\n",
       "    </tr>\n",
       "  </thead>\n",
       "  <tbody>\n",
       "    <tr>\n",
       "      <th>count</th>\n",
       "      <td>541909.000000</td>\n",
       "      <td>541909.000000</td>\n",
       "    </tr>\n",
       "    <tr>\n",
       "      <th>mean</th>\n",
       "      <td>9.552250</td>\n",
       "      <td>4.611114</td>\n",
       "    </tr>\n",
       "    <tr>\n",
       "      <th>std</th>\n",
       "      <td>218.081158</td>\n",
       "      <td>96.759853</td>\n",
       "    </tr>\n",
       "    <tr>\n",
       "      <th>min</th>\n",
       "      <td>-80995.000000</td>\n",
       "      <td>-11062.060000</td>\n",
       "    </tr>\n",
       "    <tr>\n",
       "      <th>25%</th>\n",
       "      <td>1.000000</td>\n",
       "      <td>1.250000</td>\n",
       "    </tr>\n",
       "    <tr>\n",
       "      <th>50%</th>\n",
       "      <td>3.000000</td>\n",
       "      <td>2.080000</td>\n",
       "    </tr>\n",
       "    <tr>\n",
       "      <th>75%</th>\n",
       "      <td>10.000000</td>\n",
       "      <td>4.130000</td>\n",
       "    </tr>\n",
       "    <tr>\n",
       "      <th>max</th>\n",
       "      <td>80995.000000</td>\n",
       "      <td>38970.000000</td>\n",
       "    </tr>\n",
       "  </tbody>\n",
       "</table>\n",
       "</div>"
      ],
      "text/plain": [
       "            Quantity      UnitPrice\n",
       "count  541909.000000  541909.000000\n",
       "mean        9.552250       4.611114\n",
       "std       218.081158      96.759853\n",
       "min    -80995.000000  -11062.060000\n",
       "25%         1.000000       1.250000\n",
       "50%         3.000000       2.080000\n",
       "75%        10.000000       4.130000\n",
       "max     80995.000000   38970.000000"
      ]
     },
     "execution_count": 157,
     "metadata": {},
     "output_type": "execute_result"
    }
   ],
   "source": [
    "#\n",
    "retail_dataset.describe().iloc[:,:2]"
   ]
  },
  {
   "cell_type": "markdown",
   "id": "7db77549-eee3-44de-9351-af4264b9b603",
   "metadata": {},
   "source": [
    "Preprocessing based on the above data inspection\n"
   ]
  },
  {
   "cell_type": "code",
   "execution_count": 158,
   "id": "6004f158-2662-4220-a51d-7e1c2dc58e0a",
   "metadata": {},
   "outputs": [],
   "source": [
    "#Based on our inspection of data above, we decided to take into consideration only those transactions which had \n",
    "#a numeric character in their stock code/product code\n",
    "validityOfStockCodes = list(map(lambda codes: any(char.isdigit() for char in codes), retail_dataset['StockCode']))\n",
    "InvalidCodes = [i for i,v in enumerate(validityOfStockCodes) if v == False]\n",
    "retail_dataset.drop(InvalidCodes , inplace = True)"
   ]
  },
  {
   "cell_type": "code",
   "execution_count": 159,
   "id": "b88f9b25-b56b-421e-82d1-c3bf44dc0e16",
   "metadata": {},
   "outputs": [
    {
     "name": "stdout",
     "output_type": "stream",
     "text": [
      "<class 'pandas.core.frame.DataFrame'>\n",
      "Int64Index: 539113 entries, 0 to 541908\n",
      "Data columns (total 8 columns):\n",
      " #   Column       Non-Null Count   Dtype  \n",
      "---  ------       --------------   -----  \n",
      " 0   InvoiceNo    539113 non-null  object \n",
      " 1   StockCode    539113 non-null  object \n",
      " 2   Description  537664 non-null  object \n",
      " 3   Quantity     539113 non-null  int64  \n",
      " 4   InvoiceDate  539113 non-null  object \n",
      " 5   UnitPrice    539113 non-null  float64\n",
      " 6   CustomerID   405043 non-null  Int64  \n",
      " 7   Country      539113 non-null  object \n",
      "dtypes: Int64(1), float64(1), int64(1), object(5)\n",
      "memory usage: 37.5+ MB\n"
     ]
    }
   ],
   "source": [
    "retail_dataset.info()"
   ]
  },
  {
   "cell_type": "markdown",
   "id": "98b1d661-7cac-4c5e-aad3-8f3981cc4b1a",
   "metadata": {},
   "source": [
    "We dropped 2796 rows based on the assumption that transactions with stock codes having no numeric character are not suited for our analysis"
   ]
  },
  {
   "cell_type": "markdown",
   "id": "68b62855-ccd4-4ab4-b12d-df7ec9017a45",
   "metadata": {},
   "source": [
    "Based on zscore, drop rows having irrelevant quantity and price data\n",
    "scipy.stats.zscore\n",
    "Z =x-mean/standard deviation"
   ]
  },
  {
   "cell_type": "code",
   "execution_count": 160,
   "id": "9d7b7f6e-0c1b-4ce8-a438-6ee1982393b7",
   "metadata": {},
   "outputs": [],
   "source": [
    "retail_dataset = retail_dataset[(np.abs(sp.stats.zscore(retail_dataset['UnitPrice']))<3) & (np.abs(sp.stats.zscore(retail_dataset['Quantity']))<5)]"
   ]
  },
  {
   "cell_type": "code",
   "execution_count": 161,
   "id": "ac6d7f28-2405-45cc-a20c-06a4f4c89e3c",
   "metadata": {},
   "outputs": [
    {
     "name": "stdout",
     "output_type": "stream",
     "text": [
      "<class 'pandas.core.frame.DataFrame'>\n",
      "Int64Index: 535268 entries, 0 to 541908\n",
      "Data columns (total 8 columns):\n",
      " #   Column       Non-Null Count   Dtype  \n",
      "---  ------       --------------   -----  \n",
      " 0   InvoiceNo    535268 non-null  object \n",
      " 1   StockCode    535268 non-null  object \n",
      " 2   Description  533826 non-null  object \n",
      " 3   Quantity     535268 non-null  int64  \n",
      " 4   InvoiceDate  535268 non-null  object \n",
      " 5   UnitPrice    535268 non-null  float64\n",
      " 6   CustomerID   403922 non-null  Int64  \n",
      " 7   Country      535268 non-null  object \n",
      "dtypes: Int64(1), float64(1), int64(1), object(5)\n",
      "memory usage: 37.3+ MB\n"
     ]
    }
   ],
   "source": [
    "retail_dataset.info()"
   ]
  },
  {
   "cell_type": "code",
   "execution_count": 162,
   "id": "e8fd5e3d-36b4-4ae9-9d5d-363507b28e62",
   "metadata": {},
   "outputs": [
    {
     "data": {
      "text/html": [
       "<div>\n",
       "<style scoped>\n",
       "    .dataframe tbody tr th:only-of-type {\n",
       "        vertical-align: middle;\n",
       "    }\n",
       "\n",
       "    .dataframe tbody tr th {\n",
       "        vertical-align: top;\n",
       "    }\n",
       "\n",
       "    .dataframe thead th {\n",
       "        text-align: right;\n",
       "    }\n",
       "</style>\n",
       "<table border=\"1\" class=\"dataframe\">\n",
       "  <thead>\n",
       "    <tr style=\"text-align: right;\">\n",
       "      <th></th>\n",
       "      <th>Quantity</th>\n",
       "      <th>UnitPrice</th>\n",
       "    </tr>\n",
       "  </thead>\n",
       "  <tbody>\n",
       "    <tr>\n",
       "      <th>count</th>\n",
       "      <td>535268.000000</td>\n",
       "      <td>535268.000000</td>\n",
       "    </tr>\n",
       "    <tr>\n",
       "      <th>mean</th>\n",
       "      <td>9.515921</td>\n",
       "      <td>3.085990</td>\n",
       "    </tr>\n",
       "    <tr>\n",
       "      <th>std</th>\n",
       "      <td>30.254976</td>\n",
       "      <td>2.932413</td>\n",
       "    </tr>\n",
       "    <tr>\n",
       "      <th>min</th>\n",
       "      <td>-1060.000000</td>\n",
       "      <td>0.000000</td>\n",
       "    </tr>\n",
       "    <tr>\n",
       "      <th>25%</th>\n",
       "      <td>1.000000</td>\n",
       "      <td>1.250000</td>\n",
       "    </tr>\n",
       "    <tr>\n",
       "      <th>50%</th>\n",
       "      <td>3.000000</td>\n",
       "      <td>2.080000</td>\n",
       "    </tr>\n",
       "    <tr>\n",
       "      <th>75%</th>\n",
       "      <td>10.000000</td>\n",
       "      <td>4.130000</td>\n",
       "    </tr>\n",
       "    <tr>\n",
       "      <th>max</th>\n",
       "      <td>1056.000000</td>\n",
       "      <td>16.950000</td>\n",
       "    </tr>\n",
       "  </tbody>\n",
       "</table>\n",
       "</div>"
      ],
      "text/plain": [
       "            Quantity      UnitPrice\n",
       "count  535268.000000  535268.000000\n",
       "mean        9.515921       3.085990\n",
       "std        30.254976       2.932413\n",
       "min     -1060.000000       0.000000\n",
       "25%         1.000000       1.250000\n",
       "50%         3.000000       2.080000\n",
       "75%        10.000000       4.130000\n",
       "max      1056.000000      16.950000"
      ]
     },
     "execution_count": 162,
     "metadata": {},
     "output_type": "execute_result"
    }
   ],
   "source": [
    "retail_dataset.describe().iloc[:,:2]"
   ]
  },
  {
   "cell_type": "markdown",
   "id": "ed6a349e-cc10-4cd5-a7d8-2179714d03f4",
   "metadata": {},
   "source": [
    "From our analysis, the quantity is negative for transactions having return items.\n",
    "The stock codes for such items must start with C\n",
    "For the transactions with positive quantity, the stock code must not start with C\n",
    "Cleaning the dataset based on these considerations"
   ]
  },
  {
   "cell_type": "code",
   "execution_count": 163,
   "id": "239cfc3c-9653-4cb8-8bac-33529a355e28",
   "metadata": {},
   "outputs": [],
   "source": [
    "retail_dataset.drop(retail_dataset[(retail_dataset.Quantity>0) & (retail_dataset.InvoiceNo.str.contains('C') == True)].index, inplace = True)\n",
    "retail_dataset.drop(retail_dataset[(retail_dataset.Quantity<0) & (retail_dataset.InvoiceNo.str.contains('C') == False)].index, inplace = True)"
   ]
  },
  {
   "cell_type": "code",
   "execution_count": 164,
   "id": "bd1a9a63-62dc-488f-9fb0-a0bad7c85990",
   "metadata": {},
   "outputs": [
    {
     "data": {
      "text/html": [
       "<div>\n",
       "<style scoped>\n",
       "    .dataframe tbody tr th:only-of-type {\n",
       "        vertical-align: middle;\n",
       "    }\n",
       "\n",
       "    .dataframe tbody tr th {\n",
       "        vertical-align: top;\n",
       "    }\n",
       "\n",
       "    .dataframe thead th {\n",
       "        text-align: right;\n",
       "    }\n",
       "</style>\n",
       "<table border=\"1\" class=\"dataframe\">\n",
       "  <thead>\n",
       "    <tr style=\"text-align: right;\">\n",
       "      <th></th>\n",
       "      <th>InvoiceNo</th>\n",
       "      <th>StockCode</th>\n",
       "      <th>Description</th>\n",
       "      <th>Quantity</th>\n",
       "      <th>InvoiceDate</th>\n",
       "      <th>UnitPrice</th>\n",
       "      <th>CustomerID</th>\n",
       "      <th>Country</th>\n",
       "    </tr>\n",
       "  </thead>\n",
       "  <tbody>\n",
       "    <tr>\n",
       "      <th>622</th>\n",
       "      <td>536414</td>\n",
       "      <td>22139</td>\n",
       "      <td>NaN</td>\n",
       "      <td>56</td>\n",
       "      <td>12/1/10 11:52</td>\n",
       "      <td>0.0</td>\n",
       "      <td>&lt;NA&gt;</td>\n",
       "      <td>UNITED KINGDOM</td>\n",
       "    </tr>\n",
       "    <tr>\n",
       "      <th>1970</th>\n",
       "      <td>536545</td>\n",
       "      <td>21134</td>\n",
       "      <td>NaN</td>\n",
       "      <td>1</td>\n",
       "      <td>12/1/10 14:32</td>\n",
       "      <td>0.0</td>\n",
       "      <td>&lt;NA&gt;</td>\n",
       "      <td>UNITED KINGDOM</td>\n",
       "    </tr>\n",
       "    <tr>\n",
       "      <th>1971</th>\n",
       "      <td>536546</td>\n",
       "      <td>22145</td>\n",
       "      <td>NaN</td>\n",
       "      <td>1</td>\n",
       "      <td>12/1/10 14:33</td>\n",
       "      <td>0.0</td>\n",
       "      <td>&lt;NA&gt;</td>\n",
       "      <td>UNITED KINGDOM</td>\n",
       "    </tr>\n",
       "    <tr>\n",
       "      <th>1972</th>\n",
       "      <td>536547</td>\n",
       "      <td>37509</td>\n",
       "      <td>NaN</td>\n",
       "      <td>1</td>\n",
       "      <td>12/1/10 14:33</td>\n",
       "      <td>0.0</td>\n",
       "      <td>&lt;NA&gt;</td>\n",
       "      <td>UNITED KINGDOM</td>\n",
       "    </tr>\n",
       "    <tr>\n",
       "      <th>1987</th>\n",
       "      <td>536549</td>\n",
       "      <td>85226A</td>\n",
       "      <td>NaN</td>\n",
       "      <td>1</td>\n",
       "      <td>12/1/10 14:34</td>\n",
       "      <td>0.0</td>\n",
       "      <td>&lt;NA&gt;</td>\n",
       "      <td>UNITED KINGDOM</td>\n",
       "    </tr>\n",
       "    <tr>\n",
       "      <th>...</th>\n",
       "      <td>...</td>\n",
       "      <td>...</td>\n",
       "      <td>...</td>\n",
       "      <td>...</td>\n",
       "      <td>...</td>\n",
       "      <td>...</td>\n",
       "      <td>...</td>\n",
       "      <td>...</td>\n",
       "    </tr>\n",
       "    <tr>\n",
       "      <th>533712</th>\n",
       "      <td>581103</td>\n",
       "      <td>22689</td>\n",
       "      <td>NaN</td>\n",
       "      <td>4</td>\n",
       "      <td>12/7/11 11:58</td>\n",
       "      <td>0.0</td>\n",
       "      <td>&lt;NA&gt;</td>\n",
       "      <td>UNITED KINGDOM</td>\n",
       "    </tr>\n",
       "    <tr>\n",
       "      <th>535326</th>\n",
       "      <td>581203</td>\n",
       "      <td>23406</td>\n",
       "      <td>NaN</td>\n",
       "      <td>15</td>\n",
       "      <td>12/7/11 18:31</td>\n",
       "      <td>0.0</td>\n",
       "      <td>&lt;NA&gt;</td>\n",
       "      <td>UNITED KINGDOM</td>\n",
       "    </tr>\n",
       "    <tr>\n",
       "      <th>535332</th>\n",
       "      <td>581209</td>\n",
       "      <td>21620</td>\n",
       "      <td>NaN</td>\n",
       "      <td>6</td>\n",
       "      <td>12/7/11 18:35</td>\n",
       "      <td>0.0</td>\n",
       "      <td>&lt;NA&gt;</td>\n",
       "      <td>UNITED KINGDOM</td>\n",
       "    </tr>\n",
       "    <tr>\n",
       "      <th>536981</th>\n",
       "      <td>581234</td>\n",
       "      <td>72817</td>\n",
       "      <td>NaN</td>\n",
       "      <td>27</td>\n",
       "      <td>12/8/11 10:33</td>\n",
       "      <td>0.0</td>\n",
       "      <td>&lt;NA&gt;</td>\n",
       "      <td>UNITED KINGDOM</td>\n",
       "    </tr>\n",
       "    <tr>\n",
       "      <th>538554</th>\n",
       "      <td>581408</td>\n",
       "      <td>85175</td>\n",
       "      <td>NaN</td>\n",
       "      <td>20</td>\n",
       "      <td>12/8/11 14:06</td>\n",
       "      <td>0.0</td>\n",
       "      <td>&lt;NA&gt;</td>\n",
       "      <td>UNITED KINGDOM</td>\n",
       "    </tr>\n",
       "  </tbody>\n",
       "</table>\n",
       "<p>584 rows × 8 columns</p>\n",
       "</div>"
      ],
      "text/plain": [
       "       InvoiceNo StockCode Description  Quantity    InvoiceDate  UnitPrice  \\\n",
       "622       536414     22139         NaN        56  12/1/10 11:52        0.0   \n",
       "1970      536545     21134         NaN         1  12/1/10 14:32        0.0   \n",
       "1971      536546     22145         NaN         1  12/1/10 14:33        0.0   \n",
       "1972      536547     37509         NaN         1  12/1/10 14:33        0.0   \n",
       "1987      536549    85226A         NaN         1  12/1/10 14:34        0.0   \n",
       "...          ...       ...         ...       ...            ...        ...   \n",
       "533712    581103     22689         NaN         4  12/7/11 11:58        0.0   \n",
       "535326    581203     23406         NaN        15  12/7/11 18:31        0.0   \n",
       "535332    581209     21620         NaN         6  12/7/11 18:35        0.0   \n",
       "536981    581234     72817         NaN        27  12/8/11 10:33        0.0   \n",
       "538554    581408     85175         NaN        20  12/8/11 14:06        0.0   \n",
       "\n",
       "        CustomerID         Country  \n",
       "622           <NA>  UNITED KINGDOM  \n",
       "1970          <NA>  UNITED KINGDOM  \n",
       "1971          <NA>  UNITED KINGDOM  \n",
       "1972          <NA>  UNITED KINGDOM  \n",
       "1987          <NA>  UNITED KINGDOM  \n",
       "...            ...             ...  \n",
       "533712        <NA>  UNITED KINGDOM  \n",
       "535326        <NA>  UNITED KINGDOM  \n",
       "535332        <NA>  UNITED KINGDOM  \n",
       "536981        <NA>  UNITED KINGDOM  \n",
       "538554        <NA>  UNITED KINGDOM  \n",
       "\n",
       "[584 rows x 8 columns]"
      ]
     },
     "execution_count": 164,
     "metadata": {},
     "output_type": "execute_result"
    }
   ],
   "source": [
    "retail_dataset[retail_dataset.Description.isna()==True]"
   ]
  },
  {
   "cell_type": "markdown",
   "id": "948b000f-404a-4c82-9979-d5f391c1a27d",
   "metadata": {},
   "source": [
    "As part of data cleaning we are removing transactions that doesn't have description at all\n"
   ]
  },
  {
   "cell_type": "code",
   "execution_count": 165,
   "id": "673fd82a-d875-460b-9e8b-d46ffc3d39e1",
   "metadata": {},
   "outputs": [],
   "source": [
    "retail_dataset.drop(retail_dataset[retail_dataset.Description.str.contains('?',regex=False) == True].index, inplace = True)"
   ]
  },
  {
   "cell_type": "code",
   "execution_count": 166,
   "id": "03fb2ef8-56f0-48b7-ace1-78809214d01c",
   "metadata": {},
   "outputs": [
    {
     "data": {
      "text/html": [
       "<div>\n",
       "<style scoped>\n",
       "    .dataframe tbody tr th:only-of-type {\n",
       "        vertical-align: middle;\n",
       "    }\n",
       "\n",
       "    .dataframe tbody tr th {\n",
       "        vertical-align: top;\n",
       "    }\n",
       "\n",
       "    .dataframe thead th {\n",
       "        text-align: right;\n",
       "    }\n",
       "</style>\n",
       "<table border=\"1\" class=\"dataframe\">\n",
       "  <thead>\n",
       "    <tr style=\"text-align: right;\">\n",
       "      <th></th>\n",
       "      <th>InvoiceNo</th>\n",
       "      <th>StockCode</th>\n",
       "      <th>Description</th>\n",
       "      <th>Quantity</th>\n",
       "      <th>InvoiceDate</th>\n",
       "      <th>UnitPrice</th>\n",
       "      <th>CustomerID</th>\n",
       "      <th>Country</th>\n",
       "    </tr>\n",
       "  </thead>\n",
       "  <tbody>\n",
       "    <tr>\n",
       "      <th>622</th>\n",
       "      <td>536414</td>\n",
       "      <td>22139</td>\n",
       "      <td>NaN</td>\n",
       "      <td>56</td>\n",
       "      <td>12/1/10 11:52</td>\n",
       "      <td>0.0</td>\n",
       "      <td>&lt;NA&gt;</td>\n",
       "      <td>UNITED KINGDOM</td>\n",
       "    </tr>\n",
       "    <tr>\n",
       "      <th>1970</th>\n",
       "      <td>536545</td>\n",
       "      <td>21134</td>\n",
       "      <td>NaN</td>\n",
       "      <td>1</td>\n",
       "      <td>12/1/10 14:32</td>\n",
       "      <td>0.0</td>\n",
       "      <td>&lt;NA&gt;</td>\n",
       "      <td>UNITED KINGDOM</td>\n",
       "    </tr>\n",
       "    <tr>\n",
       "      <th>1971</th>\n",
       "      <td>536546</td>\n",
       "      <td>22145</td>\n",
       "      <td>NaN</td>\n",
       "      <td>1</td>\n",
       "      <td>12/1/10 14:33</td>\n",
       "      <td>0.0</td>\n",
       "      <td>&lt;NA&gt;</td>\n",
       "      <td>UNITED KINGDOM</td>\n",
       "    </tr>\n",
       "    <tr>\n",
       "      <th>1972</th>\n",
       "      <td>536547</td>\n",
       "      <td>37509</td>\n",
       "      <td>NaN</td>\n",
       "      <td>1</td>\n",
       "      <td>12/1/10 14:33</td>\n",
       "      <td>0.0</td>\n",
       "      <td>&lt;NA&gt;</td>\n",
       "      <td>UNITED KINGDOM</td>\n",
       "    </tr>\n",
       "    <tr>\n",
       "      <th>1987</th>\n",
       "      <td>536549</td>\n",
       "      <td>85226A</td>\n",
       "      <td>NaN</td>\n",
       "      <td>1</td>\n",
       "      <td>12/1/10 14:34</td>\n",
       "      <td>0.0</td>\n",
       "      <td>&lt;NA&gt;</td>\n",
       "      <td>UNITED KINGDOM</td>\n",
       "    </tr>\n",
       "    <tr>\n",
       "      <th>...</th>\n",
       "      <td>...</td>\n",
       "      <td>...</td>\n",
       "      <td>...</td>\n",
       "      <td>...</td>\n",
       "      <td>...</td>\n",
       "      <td>...</td>\n",
       "      <td>...</td>\n",
       "      <td>...</td>\n",
       "    </tr>\n",
       "    <tr>\n",
       "      <th>533712</th>\n",
       "      <td>581103</td>\n",
       "      <td>22689</td>\n",
       "      <td>NaN</td>\n",
       "      <td>4</td>\n",
       "      <td>12/7/11 11:58</td>\n",
       "      <td>0.0</td>\n",
       "      <td>&lt;NA&gt;</td>\n",
       "      <td>UNITED KINGDOM</td>\n",
       "    </tr>\n",
       "    <tr>\n",
       "      <th>535326</th>\n",
       "      <td>581203</td>\n",
       "      <td>23406</td>\n",
       "      <td>NaN</td>\n",
       "      <td>15</td>\n",
       "      <td>12/7/11 18:31</td>\n",
       "      <td>0.0</td>\n",
       "      <td>&lt;NA&gt;</td>\n",
       "      <td>UNITED KINGDOM</td>\n",
       "    </tr>\n",
       "    <tr>\n",
       "      <th>535332</th>\n",
       "      <td>581209</td>\n",
       "      <td>21620</td>\n",
       "      <td>NaN</td>\n",
       "      <td>6</td>\n",
       "      <td>12/7/11 18:35</td>\n",
       "      <td>0.0</td>\n",
       "      <td>&lt;NA&gt;</td>\n",
       "      <td>UNITED KINGDOM</td>\n",
       "    </tr>\n",
       "    <tr>\n",
       "      <th>536981</th>\n",
       "      <td>581234</td>\n",
       "      <td>72817</td>\n",
       "      <td>NaN</td>\n",
       "      <td>27</td>\n",
       "      <td>12/8/11 10:33</td>\n",
       "      <td>0.0</td>\n",
       "      <td>&lt;NA&gt;</td>\n",
       "      <td>UNITED KINGDOM</td>\n",
       "    </tr>\n",
       "    <tr>\n",
       "      <th>538554</th>\n",
       "      <td>581408</td>\n",
       "      <td>85175</td>\n",
       "      <td>NaN</td>\n",
       "      <td>20</td>\n",
       "      <td>12/8/11 14:06</td>\n",
       "      <td>0.0</td>\n",
       "      <td>&lt;NA&gt;</td>\n",
       "      <td>UNITED KINGDOM</td>\n",
       "    </tr>\n",
       "  </tbody>\n",
       "</table>\n",
       "<p>584 rows × 8 columns</p>\n",
       "</div>"
      ],
      "text/plain": [
       "       InvoiceNo StockCode Description  Quantity    InvoiceDate  UnitPrice  \\\n",
       "622       536414     22139         NaN        56  12/1/10 11:52        0.0   \n",
       "1970      536545     21134         NaN         1  12/1/10 14:32        0.0   \n",
       "1971      536546     22145         NaN         1  12/1/10 14:33        0.0   \n",
       "1972      536547     37509         NaN         1  12/1/10 14:33        0.0   \n",
       "1987      536549    85226A         NaN         1  12/1/10 14:34        0.0   \n",
       "...          ...       ...         ...       ...            ...        ...   \n",
       "533712    581103     22689         NaN         4  12/7/11 11:58        0.0   \n",
       "535326    581203     23406         NaN        15  12/7/11 18:31        0.0   \n",
       "535332    581209     21620         NaN         6  12/7/11 18:35        0.0   \n",
       "536981    581234     72817         NaN        27  12/8/11 10:33        0.0   \n",
       "538554    581408     85175         NaN        20  12/8/11 14:06        0.0   \n",
       "\n",
       "        CustomerID         Country  \n",
       "622           <NA>  UNITED KINGDOM  \n",
       "1970          <NA>  UNITED KINGDOM  \n",
       "1971          <NA>  UNITED KINGDOM  \n",
       "1972          <NA>  UNITED KINGDOM  \n",
       "1987          <NA>  UNITED KINGDOM  \n",
       "...            ...             ...  \n",
       "533712        <NA>  UNITED KINGDOM  \n",
       "535326        <NA>  UNITED KINGDOM  \n",
       "535332        <NA>  UNITED KINGDOM  \n",
       "536981        <NA>  UNITED KINGDOM  \n",
       "538554        <NA>  UNITED KINGDOM  \n",
       "\n",
       "[584 rows x 8 columns]"
      ]
     },
     "execution_count": 166,
     "metadata": {},
     "output_type": "execute_result"
    }
   ],
   "source": [
    "retail_dataset[retail_dataset.Description.isna()==True]"
   ]
  },
  {
   "cell_type": "markdown",
   "id": "d64af0e4-f499-42ea-9d11-50242512c341",
   "metadata": {},
   "source": [
    "We are not interested in transaction where the Unit Price is zero"
   ]
  },
  {
   "cell_type": "code",
   "execution_count": 167,
   "id": "1810457f-0aec-4d14-9787-5274a7f09497",
   "metadata": {},
   "outputs": [],
   "source": [
    "retail_dataset.drop(retail_dataset[retail_dataset.UnitPrice == 0].index, inplace = True)"
   ]
  },
  {
   "cell_type": "code",
   "execution_count": 168,
   "id": "99da81d6-6ec1-471d-973d-d5d9dec2246b",
   "metadata": {},
   "outputs": [
    {
     "data": {
      "text/html": [
       "<div>\n",
       "<style scoped>\n",
       "    .dataframe tbody tr th:only-of-type {\n",
       "        vertical-align: middle;\n",
       "    }\n",
       "\n",
       "    .dataframe tbody tr th {\n",
       "        vertical-align: top;\n",
       "    }\n",
       "\n",
       "    .dataframe thead th {\n",
       "        text-align: right;\n",
       "    }\n",
       "</style>\n",
       "<table border=\"1\" class=\"dataframe\">\n",
       "  <thead>\n",
       "    <tr style=\"text-align: right;\">\n",
       "      <th></th>\n",
       "      <th>Quantity</th>\n",
       "      <th>UnitPrice</th>\n",
       "    </tr>\n",
       "  </thead>\n",
       "  <tbody>\n",
       "    <tr>\n",
       "      <th>count</th>\n",
       "      <td>532820.000000</td>\n",
       "      <td>532820.000000</td>\n",
       "    </tr>\n",
       "    <tr>\n",
       "      <th>mean</th>\n",
       "      <td>9.682906</td>\n",
       "      <td>3.100168</td>\n",
       "    </tr>\n",
       "    <tr>\n",
       "      <th>std</th>\n",
       "      <td>28.941307</td>\n",
       "      <td>2.931655</td>\n",
       "    </tr>\n",
       "    <tr>\n",
       "      <th>min</th>\n",
       "      <td>-960.000000</td>\n",
       "      <td>0.040000</td>\n",
       "    </tr>\n",
       "    <tr>\n",
       "      <th>25%</th>\n",
       "      <td>1.000000</td>\n",
       "      <td>1.250000</td>\n",
       "    </tr>\n",
       "    <tr>\n",
       "      <th>50%</th>\n",
       "      <td>3.000000</td>\n",
       "      <td>2.080000</td>\n",
       "    </tr>\n",
       "    <tr>\n",
       "      <th>75%</th>\n",
       "      <td>10.000000</td>\n",
       "      <td>4.130000</td>\n",
       "    </tr>\n",
       "    <tr>\n",
       "      <th>max</th>\n",
       "      <td>1056.000000</td>\n",
       "      <td>16.950000</td>\n",
       "    </tr>\n",
       "  </tbody>\n",
       "</table>\n",
       "</div>"
      ],
      "text/plain": [
       "            Quantity      UnitPrice\n",
       "count  532820.000000  532820.000000\n",
       "mean        9.682906       3.100168\n",
       "std        28.941307       2.931655\n",
       "min      -960.000000       0.040000\n",
       "25%         1.000000       1.250000\n",
       "50%         3.000000       2.080000\n",
       "75%        10.000000       4.130000\n",
       "max      1056.000000      16.950000"
      ]
     },
     "execution_count": 168,
     "metadata": {},
     "output_type": "execute_result"
    }
   ],
   "source": [
    "retail_dataset.describe().iloc[:,:2]"
   ]
  },
  {
   "cell_type": "code",
   "execution_count": 169,
   "id": "b31e371a-557e-4712-9cd0-d61d6072f1e2",
   "metadata": {},
   "outputs": [
    {
     "data": {
      "text/html": [
       "<div>\n",
       "<style scoped>\n",
       "    .dataframe tbody tr th:only-of-type {\n",
       "        vertical-align: middle;\n",
       "    }\n",
       "\n",
       "    .dataframe tbody tr th {\n",
       "        vertical-align: top;\n",
       "    }\n",
       "\n",
       "    .dataframe thead th {\n",
       "        text-align: right;\n",
       "    }\n",
       "</style>\n",
       "<table border=\"1\" class=\"dataframe\">\n",
       "  <thead>\n",
       "    <tr style=\"text-align: right;\">\n",
       "      <th></th>\n",
       "      <th>InvoiceNo</th>\n",
       "      <th>StockCode</th>\n",
       "      <th>Description</th>\n",
       "      <th>Quantity</th>\n",
       "      <th>InvoiceDate</th>\n",
       "      <th>UnitPrice</th>\n",
       "      <th>CustomerID</th>\n",
       "      <th>Country</th>\n",
       "    </tr>\n",
       "  </thead>\n",
       "  <tbody>\n",
       "  </tbody>\n",
       "</table>\n",
       "</div>"
      ],
      "text/plain": [
       "Empty DataFrame\n",
       "Columns: [InvoiceNo, StockCode, Description, Quantity, InvoiceDate, UnitPrice, CustomerID, Country]\n",
       "Index: []"
      ]
     },
     "execution_count": 169,
     "metadata": {},
     "output_type": "execute_result"
    }
   ],
   "source": [
    "retail_dataset[retail_dataset.Description.isna()==True]"
   ]
  },
  {
   "cell_type": "markdown",
   "id": "19900220-63f9-4cdd-8a7c-de66a6b9d60c",
   "metadata": {},
   "source": [
    "In the dataset, wherever the Description was NaN only where Unit Price was zero. So those features got cleaned up together"
   ]
  },
  {
   "cell_type": "code",
   "execution_count": 170,
   "id": "70ad2e76-0563-4d43-b056-8aa48b5cf321",
   "metadata": {},
   "outputs": [
    {
     "name": "stdout",
     "output_type": "stream",
     "text": [
      "<class 'pandas.core.frame.DataFrame'>\n",
      "Int64Index: 532820 entries, 0 to 541908\n",
      "Data columns (total 8 columns):\n",
      " #   Column       Non-Null Count   Dtype  \n",
      "---  ------       --------------   -----  \n",
      " 0   InvoiceNo    532820 non-null  object \n",
      " 1   StockCode    532820 non-null  object \n",
      " 2   Description  532820 non-null  object \n",
      " 3   Quantity     532820 non-null  int64  \n",
      " 4   InvoiceDate  532820 non-null  object \n",
      " 5   UnitPrice    532820 non-null  float64\n",
      " 6   CustomerID   403890 non-null  Int64  \n",
      " 7   Country      532820 non-null  object \n",
      "dtypes: Int64(1), float64(1), int64(1), object(5)\n",
      "memory usage: 37.1+ MB\n"
     ]
    }
   ],
   "source": [
    "retail_dataset.info()"
   ]
  },
  {
   "cell_type": "code",
   "execution_count": 144,
   "id": "c3e55517-8836-42e5-82bd-be902b6ff17d",
   "metadata": {},
   "outputs": [
    {
     "data": {
      "text/html": [
       "<div>\n",
       "<style scoped>\n",
       "    .dataframe tbody tr th:only-of-type {\n",
       "        vertical-align: middle;\n",
       "    }\n",
       "\n",
       "    .dataframe tbody tr th {\n",
       "        vertical-align: top;\n",
       "    }\n",
       "\n",
       "    .dataframe thead th {\n",
       "        text-align: right;\n",
       "    }\n",
       "</style>\n",
       "<table border=\"1\" class=\"dataframe\">\n",
       "  <thead>\n",
       "    <tr style=\"text-align: right;\">\n",
       "      <th></th>\n",
       "      <th>InvoiceNo</th>\n",
       "      <th>StockCode</th>\n",
       "      <th>Description</th>\n",
       "      <th>Quantity</th>\n",
       "      <th>InvoiceDate</th>\n",
       "      <th>UnitPrice</th>\n",
       "      <th>CustomerID</th>\n",
       "      <th>Country</th>\n",
       "    </tr>\n",
       "  </thead>\n",
       "  <tbody>\n",
       "  </tbody>\n",
       "</table>\n",
       "</div>"
      ],
      "text/plain": [
       "Empty DataFrame\n",
       "Columns: [InvoiceNo, StockCode, Description, Quantity, InvoiceDate, UnitPrice, CustomerID, Country]\n",
       "Index: []"
      ]
     },
     "execution_count": 144,
     "metadata": {},
     "output_type": "execute_result"
    }
   ],
   "source": [
    "retail_dataset[retail_dataset.Description.isna()==True]"
   ]
  },
  {
   "cell_type": "markdown",
   "id": "4e3cde16-1bab-4589-88aa-709c720fc5ec",
   "metadata": {},
   "source": [
    "we check the 'Description' based on the product 'StockCode' and fill the missing values with the correct 'Description' that is available from the other transactions of the same 'StockCode'."
   ]
  },
  {
   "cell_type": "markdown",
   "id": "90a3298d-07ba-417b-8a9a-8adaeef97a7a",
   "metadata": {},
   "source": [
    "for index,value in retail_dataset.StockCode[retail_dataset.Description.isna()==True].items():\n",
    "    if pd.notna(retail_dataset.Description[retail_dataset.StockCode == value]).sum() != 0:\n",
    "        print(\"Something\")\n",
    "        retail_dataset.Description[index] = retail_dataset.Description[retail_dataset.StockCode == value].mode()[0]\n",
    "    else:\n",
    "        print(\"Another something\")\n",
    "        retail_dataset.drop(index = index, inplace = True)        \n",
    "retail_dataset['Description'] = retail_dataset['Description'].astype(str)"
   ]
  },
  {
   "cell_type": "code",
   "execution_count": 171,
   "id": "89b5b026-0665-4ddb-b857-ccdd7553f1f3",
   "metadata": {},
   "outputs": [
    {
     "name": "stdout",
     "output_type": "stream",
     "text": [
      "<class 'pandas.core.frame.DataFrame'>\n",
      "Int64Index: 532820 entries, 0 to 541908\n",
      "Data columns (total 8 columns):\n",
      " #   Column       Non-Null Count   Dtype  \n",
      "---  ------       --------------   -----  \n",
      " 0   InvoiceNo    532820 non-null  object \n",
      " 1   StockCode    532820 non-null  object \n",
      " 2   Description  532820 non-null  object \n",
      " 3   Quantity     532820 non-null  int64  \n",
      " 4   InvoiceDate  532820 non-null  object \n",
      " 5   UnitPrice    532820 non-null  float64\n",
      " 6   CustomerID   403890 non-null  Int64  \n",
      " 7   Country      532820 non-null  object \n",
      "dtypes: Int64(1), float64(1), int64(1), object(5)\n",
      "memory usage: 37.1+ MB\n"
     ]
    }
   ],
   "source": [
    "retail_dataset.info()"
   ]
  },
  {
   "cell_type": "markdown",
   "id": "cafaa5ad-5d35-4afe-9421-202553f71a77",
   "metadata": {},
   "source": [
    "There are some entries in this dataset where the \"UnitPrice\" of the same products varies. This may be caused by the possibility of discounts for certain goods or by customized terms for certain clients. Additionally, we can see that various pricing may be offered to the same consumer on two separate days or on the same day to different customers. We therefore use the mode value of each product's 'UnitPrice' for the purposes of this demonstration, assuming that these values are incorrect due to input errors or human errors."
   ]
  },
  {
   "cell_type": "code",
   "execution_count": 172,
   "id": "d9c16f01-6731-4f42-ad16-6a1ca98b7a33",
   "metadata": {},
   "outputs": [],
   "source": [
    "#Cleanup incorrect prices\n",
    "UniqueStockCodes = retail_dataset.StockCode.unique()\n",
    "ModePricesForEachStockCode = map(lambda x: retail_dataset.UnitPrice[retail_dataset.StockCode == x].mode()[0],UniqueStockCodes)\n",
    "ModePricesForEachStockCodeList = list(ModePricesForEachStockCode)\n",
    "for i,v in enumerate(UniqueStockCodes):\n",
    "    retail_dataset.loc[retail_dataset['StockCode']== v, 'UnitPrice'] = ModePricesForEachStockCodeList[i]"
   ]
  },
  {
   "cell_type": "code",
   "execution_count": 173,
   "id": "c7d27702-71ac-48e1-920a-5f4cbaaf4f8d",
   "metadata": {},
   "outputs": [
    {
     "name": "stdout",
     "output_type": "stream",
     "text": [
      "<class 'pandas.core.frame.DataFrame'>\n",
      "Int64Index: 532820 entries, 0 to 541908\n",
      "Data columns (total 8 columns):\n",
      " #   Column       Non-Null Count   Dtype  \n",
      "---  ------       --------------   -----  \n",
      " 0   InvoiceNo    532820 non-null  object \n",
      " 1   StockCode    532820 non-null  object \n",
      " 2   Description  532820 non-null  object \n",
      " 3   Quantity     532820 non-null  int64  \n",
      " 4   InvoiceDate  532820 non-null  object \n",
      " 5   UnitPrice    532820 non-null  float64\n",
      " 6   CustomerID   403890 non-null  Int64  \n",
      " 7   Country      532820 non-null  object \n",
      "dtypes: Int64(1), float64(1), int64(1), object(5)\n",
      "memory usage: 37.1+ MB\n"
     ]
    }
   ],
   "source": [
    "retail_dataset.info()"
   ]
  },
  {
   "cell_type": "markdown",
   "id": "85681f72-22ce-4815-a90a-b1ca331e80ce",
   "metadata": {},
   "source": [
    "There are several inaccurate customer IDs where we have the same customer ID for two separate countries. If any customer belongs to more than two countries, we replace the wrong value with the mode value of the customer's country in order to eliminate the duplicate entries by grouping the dataframe by \"CustomerID.\""
   ]
  },
  {
   "cell_type": "code",
   "execution_count": 174,
   "id": "52247945-78a4-40df-9da1-dd52b53a67d1",
   "metadata": {},
   "outputs": [
    {
     "data": {
      "text/plain": [
       "CustomerID\n",
       "12370           [CYPRUS, AUSTRIA]\n",
       "12394          [BELGIUM, DENMARK]\n",
       "12417            [BELGIUM, SPAIN]\n",
       "12422    [AUSTRALIA, SWITZERLAND]\n",
       "12429          [DENMARK, AUSTRIA]\n",
       "12431        [AUSTRALIA, BELGIUM]\n",
       "12455             [CYPRUS, SPAIN]\n",
       "12457       [SWITZERLAND, CYPRUS]\n",
       "Name: Country, dtype: object"
      ]
     },
     "execution_count": 174,
     "metadata": {},
     "output_type": "execute_result"
    }
   ],
   "source": [
    "Customers = retail_dataset.groupby('CustomerID')['Country'].unique()\n",
    "#Print all customers having entries against more than one country in the dataset\n",
    "Customers.loc[Customers.apply(lambda x:len(x)>1)]"
   ]
  },
  {
   "cell_type": "code",
   "execution_count": 175,
   "id": "1c178ef0-c73a-405a-91c4-7e5f97b026ea",
   "metadata": {},
   "outputs": [],
   "source": [
    "#Replacing country of customers belonging to more than one country as per data entry to one country which has the maximum number of occurences\n",
    "for i,v in retail_dataset.groupby('CustomerID')['Country'].unique().items():\n",
    "    if len(v)>1:\n",
    "        retail_dataset.Country[retail_dataset['CustomerID'] == i] = retail_dataset.Country[retail_dataset['CustomerID'] == i].mode()[0]\n"
   ]
  },
  {
   "cell_type": "code",
   "execution_count": 177,
   "id": "4dd67f4c-6d9b-46d0-9794-6668692c7b67",
   "metadata": {},
   "outputs": [
    {
     "data": {
      "text/plain": [
       "0"
      ]
     },
     "execution_count": 177,
     "metadata": {},
     "output_type": "execute_result"
    }
   ],
   "source": [
    "Customers = retail_dataset.groupby('CustomerID')['Country'].unique()\n",
    "Customers.loc[Customers.apply(lambda x:len(x)>1)].count()"
   ]
  },
  {
   "cell_type": "code",
   "execution_count": 178,
   "id": "11a31e04-7e23-4add-9259-38700b486e11",
   "metadata": {},
   "outputs": [],
   "source": [
    "retail_dataset['FinalPrice'] = retail_dataset['Quantity']*retail_dataset['UnitPrice']"
   ]
  },
  {
   "cell_type": "code",
   "execution_count": 179,
   "id": "13977c6c-3038-440d-9bd2-bd8164cc6bdd",
   "metadata": {},
   "outputs": [
    {
     "name": "stdout",
     "output_type": "stream",
     "text": [
      "<class 'pandas.core.frame.DataFrame'>\n",
      "Int64Index: 532820 entries, 0 to 541908\n",
      "Data columns (total 9 columns):\n",
      " #   Column       Non-Null Count   Dtype  \n",
      "---  ------       --------------   -----  \n",
      " 0   InvoiceNo    532820 non-null  object \n",
      " 1   StockCode    532820 non-null  object \n",
      " 2   Description  532820 non-null  object \n",
      " 3   Quantity     532820 non-null  int64  \n",
      " 4   InvoiceDate  532820 non-null  object \n",
      " 5   UnitPrice    532820 non-null  float64\n",
      " 6   CustomerID   403890 non-null  Int64  \n",
      " 7   Country      532820 non-null  object \n",
      " 8   FinalPrice   532820 non-null  float64\n",
      "dtypes: Int64(1), float64(2), int64(1), object(5)\n",
      "memory usage: 41.2+ MB\n"
     ]
    }
   ],
   "source": [
    "retail_dataset.info()"
   ]
  },
  {
   "cell_type": "code",
   "execution_count": 191,
   "id": "65a48f57-70ba-4582-9d55-4edc8ddaed64",
   "metadata": {},
   "outputs": [],
   "source": [
    "retail_dataset['InvoiceDate'] = pd.to_datetime(retail_dataset['InvoiceDate'], format = '%m/%d/%y %H:%M')"
   ]
  },
  {
   "cell_type": "code",
   "execution_count": 192,
   "id": "e93dd2d1-8caf-43d2-8a77-58e2fa3e3663",
   "metadata": {},
   "outputs": [],
   "source": [
    "\n",
    "retail_dataset['InvoiceMonth'] = retail_dataset['InvoiceDate'].apply(lambda x: x.strftime('%B'))\n",
    "retail_dataset['Day of week'] = retail_dataset['InvoiceDate'].dt.day_name()"
   ]
  },
  {
   "cell_type": "code",
   "execution_count": 193,
   "id": "091108c5-3193-4017-8f73-7bdcb384c621",
   "metadata": {},
   "outputs": [
    {
     "name": "stdout",
     "output_type": "stream",
     "text": [
      "<class 'pandas.core.frame.DataFrame'>\n",
      "Int64Index: 532820 entries, 0 to 541908\n",
      "Data columns (total 11 columns):\n",
      " #   Column        Non-Null Count   Dtype         \n",
      "---  ------        --------------   -----         \n",
      " 0   InvoiceNo     532820 non-null  object        \n",
      " 1   StockCode     532820 non-null  object        \n",
      " 2   Description   532820 non-null  object        \n",
      " 3   Quantity      532820 non-null  int64         \n",
      " 4   InvoiceDate   532820 non-null  datetime64[ns]\n",
      " 5   UnitPrice     532820 non-null  float64       \n",
      " 6   CustomerID    403890 non-null  Int64         \n",
      " 7   Country       532820 non-null  object        \n",
      " 8   FinalPrice    532820 non-null  float64       \n",
      " 9   InvoiceMonth  532820 non-null  object        \n",
      " 10  Day of week   532820 non-null  object        \n",
      "dtypes: Int64(1), datetime64[ns](1), float64(2), int64(1), object(6)\n",
      "memory usage: 49.3+ MB\n"
     ]
    }
   ],
   "source": [
    "retail_dataset.info()"
   ]
  },
  {
   "cell_type": "code",
   "execution_count": 194,
   "id": "e1d5d24f-df8a-4bd4-af1e-06a25b84024d",
   "metadata": {},
   "outputs": [
    {
     "data": {
      "text/html": [
       "<div>\n",
       "<style scoped>\n",
       "    .dataframe tbody tr th:only-of-type {\n",
       "        vertical-align: middle;\n",
       "    }\n",
       "\n",
       "    .dataframe tbody tr th {\n",
       "        vertical-align: top;\n",
       "    }\n",
       "\n",
       "    .dataframe thead th {\n",
       "        text-align: right;\n",
       "    }\n",
       "</style>\n",
       "<table border=\"1\" class=\"dataframe\">\n",
       "  <thead>\n",
       "    <tr style=\"text-align: right;\">\n",
       "      <th></th>\n",
       "      <th>InvoiceNo</th>\n",
       "      <th>StockCode</th>\n",
       "      <th>Description</th>\n",
       "      <th>Quantity</th>\n",
       "      <th>InvoiceDate</th>\n",
       "      <th>UnitPrice</th>\n",
       "      <th>CustomerID</th>\n",
       "      <th>Country</th>\n",
       "      <th>FinalPrice</th>\n",
       "      <th>InvoiceMonth</th>\n",
       "      <th>Day of week</th>\n",
       "    </tr>\n",
       "  </thead>\n",
       "  <tbody>\n",
       "    <tr>\n",
       "      <th>0</th>\n",
       "      <td>536365</td>\n",
       "      <td>85123A</td>\n",
       "      <td>WHITE HANGING HEART T-LIGHT HOLDER</td>\n",
       "      <td>6</td>\n",
       "      <td>2010-12-01 08:26:00</td>\n",
       "      <td>2.95</td>\n",
       "      <td>17850</td>\n",
       "      <td>UNITED KINGDOM</td>\n",
       "      <td>17.7</td>\n",
       "      <td>December</td>\n",
       "      <td>Wednesday</td>\n",
       "    </tr>\n",
       "    <tr>\n",
       "      <th>1</th>\n",
       "      <td>536365</td>\n",
       "      <td>71053</td>\n",
       "      <td>WHITE METAL LANTERN</td>\n",
       "      <td>6</td>\n",
       "      <td>2010-12-01 08:26:00</td>\n",
       "      <td>3.75</td>\n",
       "      <td>17850</td>\n",
       "      <td>UNITED KINGDOM</td>\n",
       "      <td>22.5</td>\n",
       "      <td>December</td>\n",
       "      <td>Wednesday</td>\n",
       "    </tr>\n",
       "    <tr>\n",
       "      <th>2</th>\n",
       "      <td>536365</td>\n",
       "      <td>84406B</td>\n",
       "      <td>CREAM CUPID HEARTS COAT HANGER</td>\n",
       "      <td>8</td>\n",
       "      <td>2010-12-01 08:26:00</td>\n",
       "      <td>4.15</td>\n",
       "      <td>17850</td>\n",
       "      <td>UNITED KINGDOM</td>\n",
       "      <td>33.2</td>\n",
       "      <td>December</td>\n",
       "      <td>Wednesday</td>\n",
       "    </tr>\n",
       "    <tr>\n",
       "      <th>3</th>\n",
       "      <td>536365</td>\n",
       "      <td>84029G</td>\n",
       "      <td>KNITTED UNION FLAG HOT WATER BOTTLE</td>\n",
       "      <td>6</td>\n",
       "      <td>2010-12-01 08:26:00</td>\n",
       "      <td>3.75</td>\n",
       "      <td>17850</td>\n",
       "      <td>UNITED KINGDOM</td>\n",
       "      <td>22.5</td>\n",
       "      <td>December</td>\n",
       "      <td>Wednesday</td>\n",
       "    </tr>\n",
       "    <tr>\n",
       "      <th>4</th>\n",
       "      <td>536365</td>\n",
       "      <td>84029E</td>\n",
       "      <td>RED WOOLLY HOTTIE WHITE HEART</td>\n",
       "      <td>6</td>\n",
       "      <td>2010-12-01 08:26:00</td>\n",
       "      <td>4.25</td>\n",
       "      <td>17850</td>\n",
       "      <td>UNITED KINGDOM</td>\n",
       "      <td>25.5</td>\n",
       "      <td>December</td>\n",
       "      <td>Wednesday</td>\n",
       "    </tr>\n",
       "  </tbody>\n",
       "</table>\n",
       "</div>"
      ],
      "text/plain": [
       "  InvoiceNo StockCode                          Description  Quantity  \\\n",
       "0    536365    85123A   WHITE HANGING HEART T-LIGHT HOLDER         6   \n",
       "1    536365     71053                  WHITE METAL LANTERN         6   \n",
       "2    536365    84406B       CREAM CUPID HEARTS COAT HANGER         8   \n",
       "3    536365    84029G  KNITTED UNION FLAG HOT WATER BOTTLE         6   \n",
       "4    536365    84029E        RED WOOLLY HOTTIE WHITE HEART         6   \n",
       "\n",
       "          InvoiceDate  UnitPrice  CustomerID         Country  FinalPrice  \\\n",
       "0 2010-12-01 08:26:00       2.95       17850  UNITED KINGDOM        17.7   \n",
       "1 2010-12-01 08:26:00       3.75       17850  UNITED KINGDOM        22.5   \n",
       "2 2010-12-01 08:26:00       4.15       17850  UNITED KINGDOM        33.2   \n",
       "3 2010-12-01 08:26:00       3.75       17850  UNITED KINGDOM        22.5   \n",
       "4 2010-12-01 08:26:00       4.25       17850  UNITED KINGDOM        25.5   \n",
       "\n",
       "  InvoiceMonth Day of week  \n",
       "0     December   Wednesday  \n",
       "1     December   Wednesday  \n",
       "2     December   Wednesday  \n",
       "3     December   Wednesday  \n",
       "4     December   Wednesday  "
      ]
     },
     "execution_count": 194,
     "metadata": {},
     "output_type": "execute_result"
    }
   ],
   "source": [
    "retail_dataset.head()"
   ]
  },
  {
   "cell_type": "code",
   "execution_count": 195,
   "id": "925d76d5-fa5d-4a10-8e87-1117666c458e",
   "metadata": {},
   "outputs": [
    {
     "data": {
      "text/html": [
       "<div>\n",
       "<style scoped>\n",
       "    .dataframe tbody tr th:only-of-type {\n",
       "        vertical-align: middle;\n",
       "    }\n",
       "\n",
       "    .dataframe tbody tr th {\n",
       "        vertical-align: top;\n",
       "    }\n",
       "\n",
       "    .dataframe thead th {\n",
       "        text-align: right;\n",
       "    }\n",
       "</style>\n",
       "<table border=\"1\" class=\"dataframe\">\n",
       "  <thead>\n",
       "    <tr style=\"text-align: right;\">\n",
       "      <th></th>\n",
       "      <th>InvoiceNo</th>\n",
       "      <th>StockCode</th>\n",
       "      <th>Description</th>\n",
       "      <th>Quantity</th>\n",
       "      <th>InvoiceDate</th>\n",
       "      <th>UnitPrice</th>\n",
       "      <th>CustomerID</th>\n",
       "      <th>Country</th>\n",
       "      <th>FinalPrice</th>\n",
       "      <th>InvoiceMonth</th>\n",
       "      <th>Day of week</th>\n",
       "    </tr>\n",
       "  </thead>\n",
       "  <tbody>\n",
       "    <tr>\n",
       "      <th>541904</th>\n",
       "      <td>581587</td>\n",
       "      <td>22613</td>\n",
       "      <td>PACK OF 20 SPACEBOY NAPKINS</td>\n",
       "      <td>12</td>\n",
       "      <td>2011-12-09 12:50:00</td>\n",
       "      <td>0.85</td>\n",
       "      <td>12680</td>\n",
       "      <td>FRANCE</td>\n",
       "      <td>10.20</td>\n",
       "      <td>December</td>\n",
       "      <td>Friday</td>\n",
       "    </tr>\n",
       "    <tr>\n",
       "      <th>541905</th>\n",
       "      <td>581587</td>\n",
       "      <td>22899</td>\n",
       "      <td>CHILDREN'S APRON DOLLY GIRL</td>\n",
       "      <td>6</td>\n",
       "      <td>2011-12-09 12:50:00</td>\n",
       "      <td>2.10</td>\n",
       "      <td>12680</td>\n",
       "      <td>FRANCE</td>\n",
       "      <td>12.60</td>\n",
       "      <td>December</td>\n",
       "      <td>Friday</td>\n",
       "    </tr>\n",
       "    <tr>\n",
       "      <th>541906</th>\n",
       "      <td>581587</td>\n",
       "      <td>23254</td>\n",
       "      <td>CHILDRENS CUTLERY DOLLY GIRL</td>\n",
       "      <td>4</td>\n",
       "      <td>2011-12-09 12:50:00</td>\n",
       "      <td>4.15</td>\n",
       "      <td>12680</td>\n",
       "      <td>FRANCE</td>\n",
       "      <td>16.60</td>\n",
       "      <td>December</td>\n",
       "      <td>Friday</td>\n",
       "    </tr>\n",
       "    <tr>\n",
       "      <th>541907</th>\n",
       "      <td>581587</td>\n",
       "      <td>23255</td>\n",
       "      <td>CHILDRENS CUTLERY CIRCUS PARADE</td>\n",
       "      <td>4</td>\n",
       "      <td>2011-12-09 12:50:00</td>\n",
       "      <td>4.15</td>\n",
       "      <td>12680</td>\n",
       "      <td>FRANCE</td>\n",
       "      <td>16.60</td>\n",
       "      <td>December</td>\n",
       "      <td>Friday</td>\n",
       "    </tr>\n",
       "    <tr>\n",
       "      <th>541908</th>\n",
       "      <td>581587</td>\n",
       "      <td>22138</td>\n",
       "      <td>BAKING SET 9 PIECE RETROSPOT</td>\n",
       "      <td>3</td>\n",
       "      <td>2011-12-09 12:50:00</td>\n",
       "      <td>4.95</td>\n",
       "      <td>12680</td>\n",
       "      <td>FRANCE</td>\n",
       "      <td>14.85</td>\n",
       "      <td>December</td>\n",
       "      <td>Friday</td>\n",
       "    </tr>\n",
       "  </tbody>\n",
       "</table>\n",
       "</div>"
      ],
      "text/plain": [
       "       InvoiceNo StockCode                      Description  Quantity  \\\n",
       "541904    581587     22613      PACK OF 20 SPACEBOY NAPKINS        12   \n",
       "541905    581587     22899      CHILDREN'S APRON DOLLY GIRL         6   \n",
       "541906    581587     23254     CHILDRENS CUTLERY DOLLY GIRL         4   \n",
       "541907    581587     23255  CHILDRENS CUTLERY CIRCUS PARADE         4   \n",
       "541908    581587     22138     BAKING SET 9 PIECE RETROSPOT         3   \n",
       "\n",
       "               InvoiceDate  UnitPrice  CustomerID Country  FinalPrice  \\\n",
       "541904 2011-12-09 12:50:00       0.85       12680  FRANCE       10.20   \n",
       "541905 2011-12-09 12:50:00       2.10       12680  FRANCE       12.60   \n",
       "541906 2011-12-09 12:50:00       4.15       12680  FRANCE       16.60   \n",
       "541907 2011-12-09 12:50:00       4.15       12680  FRANCE       16.60   \n",
       "541908 2011-12-09 12:50:00       4.95       12680  FRANCE       14.85   \n",
       "\n",
       "       InvoiceMonth Day of week  \n",
       "541904     December      Friday  \n",
       "541905     December      Friday  \n",
       "541906     December      Friday  \n",
       "541907     December      Friday  \n",
       "541908     December      Friday  "
      ]
     },
     "execution_count": 195,
     "metadata": {},
     "output_type": "execute_result"
    }
   ],
   "source": [
    "retail_dataset.tail()"
   ]
  },
  {
   "cell_type": "code",
   "execution_count": 196,
   "id": "350ec5f9-e870-4e72-808a-c67abd74725e",
   "metadata": {},
   "outputs": [],
   "source": [
    "#Exporting Processed Data\n",
    "retail_dataset.to_csv('data_cleaned.csv', date_format = '%Y-%m-%d %H:%M', index = False)"
   ]
  },
  {
   "cell_type": "code",
   "execution_count": 197,
   "id": "e119016b-cd3f-4ea4-aac7-5e804c10787a",
   "metadata": {},
   "outputs": [
    {
     "data": {
      "text/plain": [
       "pandas.core.indexes.range.RangeIndex"
      ]
     },
     "execution_count": 197,
     "metadata": {},
     "output_type": "execute_result"
    }
   ],
   "source": [
    "type(data.index)"
   ]
  },
  {
   "cell_type": "code",
   "execution_count": 198,
   "id": "ec2d3d37-d3dd-48af-8c53-c3a25d8e396b",
   "metadata": {},
   "outputs": [
    {
     "data": {
      "text/plain": [
       "pandas.core.series.Series"
      ]
     },
     "execution_count": 198,
     "metadata": {},
     "output_type": "execute_result"
    }
   ],
   "source": [
    "type(data.InvoiceDate)"
   ]
  },
  {
   "cell_type": "code",
   "execution_count": null,
   "id": "b112321a-22fd-4803-b6e7-64fcdcefe597",
   "metadata": {},
   "outputs": [],
   "source": []
  }
 ],
 "metadata": {
  "kernelspec": {
   "display_name": "Python 3 (ipykernel)",
   "language": "python",
   "name": "python3"
  },
  "language_info": {
   "codemirror_mode": {
    "name": "ipython",
    "version": 3
   },
   "file_extension": ".py",
   "mimetype": "text/x-python",
   "name": "python",
   "nbconvert_exporter": "python",
   "pygments_lexer": "ipython3",
   "version": "3.10.6"
  }
 },
 "nbformat": 4,
 "nbformat_minor": 5
}
